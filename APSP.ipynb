{
  "nbformat": 4,
  "nbformat_minor": 0,
  "metadata": {
    "colab": {
      "name": "APSP.ipynb",
      "provenance": [],
      "authorship_tag": "ABX9TyPrCe4LGXIHUZmXYMXvH4mo",
      "include_colab_link": true
    },
    "kernelspec": {
      "name": "python3",
      "display_name": "Python 3"
    }
  },
  "cells": [
    {
      "cell_type": "markdown",
      "metadata": {
        "id": "view-in-github",
        "colab_type": "text"
      },
      "source": [
        "<a href=\"https://colab.research.google.com/github/Ali-Kazmi/All-Pairs-Shortest-Path/blob/master/APSP.ipynb\" target=\"_parent\"><img src=\"https://colab.research.google.com/assets/colab-badge.svg\" alt=\"Open In Colab\"/></a>"
      ]
    },
    {
      "cell_type": "markdown",
      "metadata": {
        "id": "AH-VdTURMxdD",
        "colab_type": "text"
      },
      "source": [
        "In this notebook I will use python's networkX library to perform All Pairs Shortest Paths (APSP) on the california road dataset. Then, i'll use scipy to do the same much faster. Lastly, I'll implement my own and use numba to speed it up, beating scipy! "
      ]
    },
    {
      "cell_type": "code",
      "metadata": {
        "id": "tQHOuY0fs5Xe",
        "colab_type": "code",
        "colab": {
          "base_uri": "https://localhost:8080/",
          "height": 34
        },
        "outputId": "2de5bf67-3c4e-4b38-bc33-24e6b169a7ab"
      },
      "source": [
        "# Get the data \n",
        "from pandas import read_csv\n",
        "OLcnode = read_csv('https://www.cs.utah.edu/~lifeifei/research/tpq/OL.cnode',\n",
        "                 names=['Node_ID', 'X','Y'],\n",
        "                 delim_whitespace=True, nrows=1000) \n",
        "\n",
        "OLcedge=read_csv('https://www.cs.utah.edu/~lifeifei/research/tpq/OL.cedge',\n",
        "                 names=['Edge ID', 'Start_Node_ID','End_Node_ID','L2_distance'],\n",
        "                 delim_whitespace=True,nrows=1000) \n"
      ],
      "execution_count": 225,
      "outputs": [
        {
          "output_type": "stream",
          "text": [
            "time: 903 ms\n"
          ],
          "name": "stdout"
        }
      ]
    },
    {
      "cell_type": "code",
      "metadata": {
        "id": "6cUaOKVG2_Z5",
        "colab_type": "code",
        "outputId": "1a3297b0-be95-4309-8f13-eb951b932ee6",
        "colab": {
          "base_uri": "https://localhost:8080/",
          "height": 204
        }
      },
      "source": [
        "OLcedge.head() "
      ],
      "execution_count": 2,
      "outputs": [
        {
          "output_type": "execute_result",
          "data": {
            "text/html": [
              "<div>\n",
              "<style scoped>\n",
              "    .dataframe tbody tr th:only-of-type {\n",
              "        vertical-align: middle;\n",
              "    }\n",
              "\n",
              "    .dataframe tbody tr th {\n",
              "        vertical-align: top;\n",
              "    }\n",
              "\n",
              "    .dataframe thead th {\n",
              "        text-align: right;\n",
              "    }\n",
              "</style>\n",
              "<table border=\"1\" class=\"dataframe\">\n",
              "  <thead>\n",
              "    <tr style=\"text-align: right;\">\n",
              "      <th></th>\n",
              "      <th>Edge ID</th>\n",
              "      <th>Start_Node_ID</th>\n",
              "      <th>End_Node_ID</th>\n",
              "      <th>L2_distance</th>\n",
              "    </tr>\n",
              "  </thead>\n",
              "  <tbody>\n",
              "    <tr>\n",
              "      <th>0</th>\n",
              "      <td>0</td>\n",
              "      <td>1609</td>\n",
              "      <td>1622</td>\n",
              "      <td>57.403187</td>\n",
              "    </tr>\n",
              "    <tr>\n",
              "      <th>1</th>\n",
              "      <td>1</td>\n",
              "      <td>2471</td>\n",
              "      <td>2479</td>\n",
              "      <td>29.718756</td>\n",
              "    </tr>\n",
              "    <tr>\n",
              "      <th>2</th>\n",
              "      <td>2</td>\n",
              "      <td>2463</td>\n",
              "      <td>2471</td>\n",
              "      <td>61.706902</td>\n",
              "    </tr>\n",
              "    <tr>\n",
              "      <th>3</th>\n",
              "      <td>3</td>\n",
              "      <td>2443</td>\n",
              "      <td>2448</td>\n",
              "      <td>19.080025</td>\n",
              "    </tr>\n",
              "    <tr>\n",
              "      <th>4</th>\n",
              "      <td>4</td>\n",
              "      <td>1417</td>\n",
              "      <td>1491</td>\n",
              "      <td>28.248583</td>\n",
              "    </tr>\n",
              "  </tbody>\n",
              "</table>\n",
              "</div>"
            ],
            "text/plain": [
              "   Edge ID  Start_Node_ID  End_Node_ID  L2_distance\n",
              "0        0           1609         1622    57.403187\n",
              "1        1           2471         2479    29.718756\n",
              "2        2           2463         2471    61.706902\n",
              "3        3           2443         2448    19.080025\n",
              "4        4           1417         1491    28.248583"
            ]
          },
          "metadata": {
            "tags": []
          },
          "execution_count": 2
        }
      ]
    },
    {
      "cell_type": "code",
      "metadata": {
        "id": "SgrWs5U43AuV",
        "colab_type": "code",
        "outputId": "22fe830a-be4c-461c-889d-87725d00ed1a",
        "colab": {
          "base_uri": "https://localhost:8080/",
          "height": 204
        }
      },
      "source": [
        "OLcnode.head()"
      ],
      "execution_count": 3,
      "outputs": [
        {
          "output_type": "execute_result",
          "data": {
            "text/html": [
              "<div>\n",
              "<style scoped>\n",
              "    .dataframe tbody tr th:only-of-type {\n",
              "        vertical-align: middle;\n",
              "    }\n",
              "\n",
              "    .dataframe tbody tr th {\n",
              "        vertical-align: top;\n",
              "    }\n",
              "\n",
              "    .dataframe thead th {\n",
              "        text-align: right;\n",
              "    }\n",
              "</style>\n",
              "<table border=\"1\" class=\"dataframe\">\n",
              "  <thead>\n",
              "    <tr style=\"text-align: right;\">\n",
              "      <th></th>\n",
              "      <th>Node_ID</th>\n",
              "      <th>X</th>\n",
              "      <th>Y</th>\n",
              "    </tr>\n",
              "  </thead>\n",
              "  <tbody>\n",
              "    <tr>\n",
              "      <th>0</th>\n",
              "      <td>0</td>\n",
              "      <td>769.948669</td>\n",
              "      <td>2982.984131</td>\n",
              "    </tr>\n",
              "    <tr>\n",
              "      <th>1</th>\n",
              "      <td>1</td>\n",
              "      <td>863.275757</td>\n",
              "      <td>3005.275635</td>\n",
              "    </tr>\n",
              "    <tr>\n",
              "      <th>2</th>\n",
              "      <td>2</td>\n",
              "      <td>690.196411</td>\n",
              "      <td>3333.704834</td>\n",
              "    </tr>\n",
              "    <tr>\n",
              "      <th>3</th>\n",
              "      <td>3</td>\n",
              "      <td>1197.556519</td>\n",
              "      <td>2984.470215</td>\n",
              "    </tr>\n",
              "    <tr>\n",
              "      <th>4</th>\n",
              "      <td>4</td>\n",
              "      <td>1261.188599</td>\n",
              "      <td>2985.956299</td>\n",
              "    </tr>\n",
              "  </tbody>\n",
              "</table>\n",
              "</div>"
            ],
            "text/plain": [
              "   Node_ID            X            Y\n",
              "0        0   769.948669  2982.984131\n",
              "1        1   863.275757  3005.275635\n",
              "2        2   690.196411  3333.704834\n",
              "3        3  1197.556519  2984.470215\n",
              "4        4  1261.188599  2985.956299"
            ]
          },
          "metadata": {
            "tags": []
          },
          "execution_count": 3
        }
      ]
    },
    {
      "cell_type": "markdown",
      "metadata": {
        "id": "Z2H2kVKdOSH-",
        "colab_type": "text"
      },
      "source": [
        "The cell below will output an example of one shortest path (between two vertices). For APSP, we will be finding these shortest paths for all shortest paths between all pairs of vertices. As you can imagine, it gets expensive fast "
      ]
    },
    {
      "cell_type": "code",
      "metadata": {
        "id": "Pr0WkQi7SzeJ",
        "colab_type": "code",
        "outputId": "61108234-b5b6-4420-ae95-7e795037fc13",
        "colab": {
          "base_uri": "https://localhost:8080/",
          "height": 102
        }
      },
      "source": [
        "def get_edgelist(df):\n",
        "    ### BEGIN SOLUTION\n",
        "    return [(a, b, {'w': w}) for a, b, w in zip(df[\"Start_Node_ID\"], df[\"End_Node_ID\"], df[\"L2_distance\"])]\n",
        "    ### END SOLUTION\n",
        "    \n",
        "# Demo\n",
        "edgelist = get_edgelist(OLcedge)\n",
        "edgelist[:5] #just display a few. There's a lot of these! "
      ],
      "execution_count": 226,
      "outputs": [
        {
          "output_type": "execute_result",
          "data": {
            "text/plain": [
              "[(1609, 1622, {'w': 57.403187}),\n",
              " (2471, 2479, {'w': 29.718756}),\n",
              " (2463, 2471, {'w': 61.706902}),\n",
              " (2443, 2448, {'w': 19.080025}),\n",
              " (1417, 1491, {'w': 28.248583})]"
            ]
          },
          "metadata": {
            "tags": []
          },
          "execution_count": 226
        },
        {
          "output_type": "stream",
          "text": [
            "time: 10.6 ms\n"
          ],
          "name": "stdout"
        }
      ]
    },
    {
      "cell_type": "code",
      "metadata": {
        "id": "GpN-0-STfoeO",
        "colab_type": "code",
        "outputId": "c8dd3eae-a95c-4d58-b2d1-245243dfc52a",
        "colab": {
          "base_uri": "https://localhost:8080/",
          "height": 190
        }
      },
      "source": [
        "!pip install ipython-autotime"
      ],
      "execution_count": 6,
      "outputs": [
        {
          "output_type": "stream",
          "text": [
            "Collecting ipython-autotime\n",
            "  Downloading https://files.pythonhosted.org/packages/e6/f9/0626bbdb322e3a078d968e87e3b01341e7890544de891d0cb613641220e6/ipython-autotime-0.1.tar.bz2\n",
            "Building wheels for collected packages: ipython-autotime\n",
            "  Building wheel for ipython-autotime (setup.py) ... \u001b[?25l\u001b[?25hdone\n",
            "  Created wheel for ipython-autotime: filename=ipython_autotime-0.1-cp36-none-any.whl size=1832 sha256=86d2c1dbe22d6f0e53b3f77a931a9a15d9a2327730e33662daac016c5ec210e7\n",
            "  Stored in directory: /root/.cache/pip/wheels/d2/df/81/2db1e54bc91002cec40334629bc39cfa86dff540b304ebcd6e\n",
            "Successfully built ipython-autotime\n",
            "Installing collected packages: ipython-autotime\n",
            "Successfully installed ipython-autotime-0.1\n"
          ],
          "name": "stdout"
        }
      ]
    },
    {
      "cell_type": "code",
      "metadata": {
        "id": "_Zops2LWWRjk",
        "colab_type": "code",
        "colab": {}
      },
      "source": [
        "%load_ext autotime"
      ],
      "execution_count": 0,
      "outputs": []
    },
    {
      "cell_type": "code",
      "metadata": {
        "id": "NDq_z5f0QtJb",
        "colab_type": "code",
        "outputId": "aabc8a5e-ca23-42db-bd84-ab36305887f9",
        "colab": {
          "base_uri": "https://localhost:8080/",
          "height": 51
        }
      },
      "source": [
        "\n",
        "from networkx import Graph\n",
        "G = Graph()\n",
        "G.add_nodes_from(OLcnode[\"Node_ID\"])\n",
        "G.add_edges_from(edgelist)\n",
        "\n",
        "print(f\"The graph has {G.number_of_nodes()} nodes and {G.number_of_edges()} edges.\")"
      ],
      "execution_count": 227,
      "outputs": [
        {
          "output_type": "stream",
          "text": [
            "The graph has 1695 nodes and 999 edges.\n",
            "time: 11 ms\n"
          ],
          "name": "stdout"
        }
      ]
    },
    {
      "cell_type": "code",
      "metadata": {
        "id": "we_H_gEvQnzD",
        "colab_type": "code",
        "outputId": "9fe39153-10d7-4eae-e3d8-4ba3ba9f9ffd",
        "colab": {
          "base_uri": "https://localhost:8080/",
          "height": 34
        }
      },
      "source": [
        "def get_shortest_path(G):\n",
        "    from networkx import all_pairs_dijkstra_path\n",
        "    return dict(all_pairs_dijkstra_path(G, weight='w'))\n",
        "start = OLcnode[\"Node_ID\"].iloc[1]\n",
        "finish = OLcnode[\"Node_ID\"].iloc[3]\n",
        "#print(f\"Calculating a shortest path between all pairs of nodes\")\n",
        "path1 = get_shortest_path(G)\n",
        "#print(f\"\\n==> This cell made a dictionary of shortest paths using networkX `{type(path)}`:\")\n",
        "#print(\"To use, enter two nodeID's and this will return the shortest path.\")\n",
        "#print(\"If there is no path,it will throw a key error as the pairs that cannot be reached are not stored.\")\n",
        "\n",
        "#print(path[start][finish])"
      ],
      "execution_count": 228,
      "outputs": [
        {
          "output_type": "stream",
          "text": [
            "time: 2.2 s\n"
          ],
          "name": "stdout"
        }
      ]
    },
    {
      "cell_type": "code",
      "metadata": {
        "id": "mG6OdsTpfyD0",
        "colab_type": "code",
        "outputId": "dbc596a7-7ba6-4609-c66a-5cf175b233a9",
        "colab": {
          "base_uri": "https://localhost:8080/",
          "height": 34
        }
      },
      "source": [
        "def get_shortest_path(G):\n",
        "    from networkx import all_pairs_bellman_ford_path\n",
        "    return dict(all_pairs_bellman_ford_path(G, weight='w'))\n",
        "start = OLcnode[\"Node_ID\"].iloc[1]\n",
        "finish = OLcnode[\"Node_ID\"].iloc[3]\n",
        "#print(f\"Calculating a shortest path between all pairs of nodes\")\n",
        "path = get_shortest_path(G)\n",
        "#print(f\"\\n==> This cell made a dictionary of shortest paths using networkX `{type(path)}`:\")\n",
        "#print(\"To use, enter two nodeID's and this will return the shortest path.\")\n",
        "#print(\"If there is no path,it will throw a key error as the pairs that cannot be reached are not stored.\")\n",
        "\n",
        "#print(path[start][finish])"
      ],
      "execution_count": 229,
      "outputs": [
        {
          "output_type": "stream",
          "text": [
            "time: 7.28 s\n"
          ],
          "name": "stdout"
        }
      ]
    },
    {
      "cell_type": "code",
      "metadata": {
        "id": "u6gTo__Uz2Ym",
        "colab_type": "code",
        "outputId": "2dc960e4-7ac5-4185-c557-9c4d0c4ffe16",
        "colab": {
          "base_uri": "https://localhost:8080/",
          "height": 51
        }
      },
      "source": [
        "print(path1==path)"
      ],
      "execution_count": 230,
      "outputs": [
        {
          "output_type": "stream",
          "text": [
            "True\n",
            "time: 112 ms\n"
          ],
          "name": "stdout"
        }
      ]
    },
    {
      "cell_type": "code",
      "metadata": {
        "id": "-2wWpLzE09dW",
        "colab_type": "code",
        "outputId": "13c91987-5b8d-4aad-e8b9-4369d6721ff4",
        "colab": {
          "base_uri": "https://localhost:8080/",
          "height": 51
        }
      },
      "source": [
        "print(path[1][5])"
      ],
      "execution_count": 231,
      "outputs": [
        {
          "output_type": "stream",
          "text": [
            "[1, 0, 2, 5]\n",
            "time: 1.27 ms\n"
          ],
          "name": "stdout"
        }
      ]
    },
    {
      "cell_type": "code",
      "metadata": {
        "id": "lpauLpO3yl7E",
        "colab_type": "code",
        "outputId": "e213e610-501d-42c9-c161-5b9ab4fc8681",
        "colab": {
          "base_uri": "https://localhost:8080/",
          "height": 358
        }
      },
      "source": [
        "#This didn't finish in almost 4 minutes on a larger graph... pretty slow, i'd say (it calculates dist and pred, so it takex extra memory. But it only returns 1, ew)\n",
        "from networkx import floyd_warshall\n",
        "\n",
        "pathfw = floyd_warshall(G)\n"
      ],
      "execution_count": 232,
      "outputs": [
        {
          "output_type": "error",
          "ename": "KeyboardInterrupt",
          "evalue": "ignored",
          "traceback": [
            "\u001b[0;31m---------------------------------------------------------------------------\u001b[0m",
            "\u001b[0;31mKeyboardInterrupt\u001b[0m                         Traceback (most recent call last)",
            "\u001b[0;32m<ipython-input-232-9ec4f40b494a>\u001b[0m in \u001b[0;36m<module>\u001b[0;34m()\u001b[0m\n\u001b[1;32m      2\u001b[0m \u001b[0;32mfrom\u001b[0m \u001b[0mnetworkx\u001b[0m \u001b[0;32mimport\u001b[0m \u001b[0mfloyd_warshall\u001b[0m\u001b[0;34m\u001b[0m\u001b[0;34m\u001b[0m\u001b[0m\n\u001b[1;32m      3\u001b[0m \u001b[0;34m\u001b[0m\u001b[0m\n\u001b[0;32m----> 4\u001b[0;31m \u001b[0mpathfw\u001b[0m \u001b[0;34m=\u001b[0m \u001b[0mfloyd_warshall\u001b[0m\u001b[0;34m(\u001b[0m\u001b[0mG\u001b[0m\u001b[0;34m)\u001b[0m\u001b[0;34m\u001b[0m\u001b[0;34m\u001b[0m\u001b[0m\n\u001b[0m",
            "\u001b[0;32m/usr/local/lib/python3.6/dist-packages/networkx/algorithms/shortest_paths/dense.py\u001b[0m in \u001b[0;36mfloyd_warshall\u001b[0;34m(G, weight)\u001b[0m\n\u001b[1;32m    209\u001b[0m     \"\"\"\n\u001b[1;32m    210\u001b[0m     \u001b[0;31m# could make this its own function to reduce memory costs\u001b[0m\u001b[0;34m\u001b[0m\u001b[0;34m\u001b[0m\u001b[0;34m\u001b[0m\u001b[0m\n\u001b[0;32m--> 211\u001b[0;31m     \u001b[0;32mreturn\u001b[0m \u001b[0mfloyd_warshall_predecessor_and_distance\u001b[0m\u001b[0;34m(\u001b[0m\u001b[0mG\u001b[0m\u001b[0;34m,\u001b[0m \u001b[0mweight\u001b[0m\u001b[0;34m=\u001b[0m\u001b[0mweight\u001b[0m\u001b[0;34m)\u001b[0m\u001b[0;34m[\u001b[0m\u001b[0;36m1\u001b[0m\u001b[0;34m]\u001b[0m\u001b[0;34m\u001b[0m\u001b[0;34m\u001b[0m\u001b[0m\n\u001b[0m\u001b[1;32m    212\u001b[0m \u001b[0;34m\u001b[0m\u001b[0m\n\u001b[1;32m    213\u001b[0m \u001b[0;34m\u001b[0m\u001b[0m\n",
            "\u001b[0;32m/usr/local/lib/python3.6/dist-packages/networkx/algorithms/shortest_paths/dense.py\u001b[0m in \u001b[0;36mfloyd_warshall_predecessor_and_distance\u001b[0;34m(G, weight)\u001b[0m\n\u001b[1;32m    127\u001b[0m             \u001b[0mdist_u\u001b[0m \u001b[0;34m=\u001b[0m \u001b[0mdist\u001b[0m\u001b[0;34m[\u001b[0m\u001b[0mu\u001b[0m\u001b[0;34m]\u001b[0m  \u001b[0;31m# save recomputation\u001b[0m\u001b[0;34m\u001b[0m\u001b[0;34m\u001b[0m\u001b[0m\n\u001b[1;32m    128\u001b[0m             \u001b[0;32mfor\u001b[0m \u001b[0mv\u001b[0m \u001b[0;32min\u001b[0m \u001b[0mG\u001b[0m\u001b[0;34m:\u001b[0m\u001b[0;34m\u001b[0m\u001b[0;34m\u001b[0m\u001b[0m\n\u001b[0;32m--> 129\u001b[0;31m                 \u001b[0md\u001b[0m \u001b[0;34m=\u001b[0m \u001b[0mdist_u\u001b[0m\u001b[0;34m[\u001b[0m\u001b[0mw\u001b[0m\u001b[0;34m]\u001b[0m \u001b[0;34m+\u001b[0m \u001b[0mdist_w\u001b[0m\u001b[0;34m[\u001b[0m\u001b[0mv\u001b[0m\u001b[0;34m]\u001b[0m\u001b[0;34m\u001b[0m\u001b[0;34m\u001b[0m\u001b[0m\n\u001b[0m\u001b[1;32m    130\u001b[0m                 \u001b[0;32mif\u001b[0m \u001b[0mdist_u\u001b[0m\u001b[0;34m[\u001b[0m\u001b[0mv\u001b[0m\u001b[0;34m]\u001b[0m \u001b[0;34m>\u001b[0m \u001b[0md\u001b[0m\u001b[0;34m:\u001b[0m\u001b[0;34m\u001b[0m\u001b[0;34m\u001b[0m\u001b[0m\n\u001b[1;32m    131\u001b[0m                     \u001b[0mdist_u\u001b[0m\u001b[0;34m[\u001b[0m\u001b[0mv\u001b[0m\u001b[0;34m]\u001b[0m \u001b[0;34m=\u001b[0m \u001b[0md\u001b[0m\u001b[0;34m\u001b[0m\u001b[0;34m\u001b[0m\u001b[0m\n",
            "\u001b[0;31mKeyboardInterrupt\u001b[0m: "
          ]
        },
        {
          "output_type": "stream",
          "text": [
            "time: 5min 32s\n"
          ],
          "name": "stdout"
        }
      ]
    },
    {
      "cell_type": "code",
      "metadata": {
        "id": "2Hl0F0qn5j6O",
        "colab_type": "code",
        "outputId": "d968864b-e19d-471e-8126-6ed585cfa8c1",
        "colab": {
          "base_uri": "https://localhost:8080/",
          "height": 34
        }
      },
      "source": [
        "#This one finished... in just under 3 minutes, so much worse than other options (still faster than the one above)\n",
        "from networkx import floyd_warshall_numpy\n",
        "\n",
        "pathfwnp = floyd_warshall_numpy(G)\n",
        "#Much better, only 24 seconds on a 1500 or so node graph "
      ],
      "execution_count": 233,
      "outputs": [
        {
          "output_type": "stream",
          "text": [
            "time: 23.9 s\n"
          ],
          "name": "stdout"
        }
      ]
    },
    {
      "cell_type": "code",
      "metadata": {
        "id": "6hrfTVX76TtA",
        "colab_type": "code",
        "colab": {
          "base_uri": "https://localhost:8080/",
          "height": 136
        },
        "outputId": "9d7563ea-d9ec-4b19-d9b4-9f853a179c03"
      },
      "source": [
        "pathfwnp"
      ],
      "execution_count": 17,
      "outputs": [
        {
          "output_type": "execute_result",
          "data": {
            "text/plain": [
              "matrix([[ 0.,  1.,  1., ..., inf, inf, inf],\n",
              "        [ 1.,  0.,  2., ..., inf, inf, inf],\n",
              "        [ 1.,  2.,  0., ..., inf, inf, inf],\n",
              "        ...,\n",
              "        [inf, inf, inf, ...,  0.,  2.,  3.],\n",
              "        [inf, inf, inf, ...,  2.,  0.,  1.],\n",
              "        [inf, inf, inf, ...,  3.,  1.,  0.]])"
            ]
          },
          "metadata": {
            "tags": []
          },
          "execution_count": 17
        },
        {
          "output_type": "stream",
          "text": [
            "time: 3.93 ms\n"
          ],
          "name": "stdout"
        }
      ]
    },
    {
      "cell_type": "markdown",
      "metadata": {
        "id": "J1l4FbrqgIwK",
        "colab_type": "text"
      },
      "source": [
        "The two cells above demonstrate an important point: this can take drastically different amounts of time. Using networkX's bellman ford APSP took 52 seconds, and using their dijkstras it only took 14 (non gpu for both) on one graph! Using their FW, it took much much more time(although this returns the pred as well), but their FW numpy ran just fine, albeit we can do better. The advantage of bellman ford is that it can handle negative edge weights, but it is slower. Below, I will be coding my own then trying to use Numba to speed this up even more  "
      ]
    },
    {
      "cell_type": "markdown",
      "metadata": {
        "id": "tvqjmZuyrNM7",
        "colab_type": "text"
      },
      "source": [
        "(note: If you just add @jit() above the numba_all_pairs_dijkstra path, it doesn't actually speed it up! It takes slightly longer (13.5 seconds compared to around 12 seconds regularly. On a second run, 17 seconds.) because numba is not properly exploting the data types. It also gives a bunch of warnings. Numba nopython mode is faster, but can't just run on networkx graphs. Numba's use case is basic data structures, which is an avenue to explore) "
      ]
    },
    {
      "cell_type": "code",
      "metadata": {
        "id": "yYCY1lM0rC9t",
        "colab_type": "code",
        "outputId": "17c2281e-4b78-474e-e0ea-cb871dc75eaf",
        "colab": {
          "base_uri": "https://localhost:8080/",
          "height": 51
        }
      },
      "source": [
        "print(path4==path)"
      ],
      "execution_count": 0,
      "outputs": [
        {
          "output_type": "stream",
          "text": [
            "True\n",
            "time: 1.04 s\n"
          ],
          "name": "stdout"
        }
      ]
    },
    {
      "cell_type": "markdown",
      "metadata": {
        "id": "LO8ZVt7QuBfO",
        "colab_type": "text"
      },
      "source": [
        "Now, I'm going to do the following: \n",
        "\n",
        "1) convert the networkx graph we had above into an adjacency matrix representation in numpy \n",
        "\n",
        "2) use SciPY shortest path on the new adjacency matrix, to test the speed of a numpy based approach \n",
        "\n",
        "3) use numba to speed this up? (edit: numba can't just speed up scipy) \n",
        "\n",
        "> Indented block\n",
        "\n"
      ]
    },
    {
      "cell_type": "code",
      "metadata": {
        "id": "1r47dCHWuBOi",
        "colab_type": "code",
        "outputId": "455e83a2-c055-48a3-a0e2-4b20d771df36",
        "colab": {
          "base_uri": "https://localhost:8080/",
          "height": 34
        }
      },
      "source": [
        "import numpy as np\n",
        "from networkx import to_numpy_array\n",
        "adjlist = to_numpy_array(G)"
      ],
      "execution_count": 234,
      "outputs": [
        {
          "output_type": "stream",
          "text": [
            "time: 20.7 ms\n"
          ],
          "name": "stdout"
        }
      ]
    },
    {
      "cell_type": "code",
      "metadata": {
        "id": "mG77VwQIvJ0s",
        "colab_type": "code",
        "outputId": "ca2c7612-04bb-4c31-a2a1-32c1b513784f",
        "colab": {
          "base_uri": "https://localhost:8080/",
          "height": 153
        }
      },
      "source": [
        "print(adjlist.shape)\n",
        "adjlist.view()\n"
      ],
      "execution_count": 235,
      "outputs": [
        {
          "output_type": "stream",
          "text": [
            "(1695, 1695)\n"
          ],
          "name": "stdout"
        },
        {
          "output_type": "execute_result",
          "data": {
            "text/plain": [
              "array([[0., 1., 1., ..., 0., 0., 0.],\n",
              "       [1., 0., 0., ..., 0., 0., 0.],\n",
              "       [1., 0., 0., ..., 0., 0., 0.],\n",
              "       ...,\n",
              "       [0., 0., 0., ..., 0., 0., 0.],\n",
              "       [0., 0., 0., ..., 0., 0., 1.],\n",
              "       [0., 0., 0., ..., 0., 1., 0.]])"
            ]
          },
          "metadata": {
            "tags": []
          },
          "execution_count": 235
        },
        {
          "output_type": "stream",
          "text": [
            "time: 4.78 ms\n"
          ],
          "name": "stdout"
        }
      ]
    },
    {
      "cell_type": "code",
      "metadata": {
        "id": "ycruUwWnwBO-",
        "colab_type": "code",
        "outputId": "457eb551-cb04-4af1-a843-8b8c69dbd2c0",
        "colab": {
          "base_uri": "https://localhost:8080/",
          "height": 34
        }
      },
      "source": [
        "import scipy as sp\n",
        "import scipy.sparse \n",
        "\n",
        "result = sp.sparse.csgraph.shortest_path(adjlist,method='FW')"
      ],
      "execution_count": 236,
      "outputs": [
        {
          "output_type": "stream",
          "text": [
            "time: 460 ms\n"
          ],
          "name": "stdout"
        }
      ]
    },
    {
      "cell_type": "markdown",
      "metadata": {
        "id": "uuemWPtsw9cO",
        "colab_type": "text"
      },
      "source": [
        "Wow! Scipy can do APSP in around 3.6 seconds (averaged over 3 runs) using floyd warshal, on a 2k by 2k graph! This makes networkX look really slow. The output is the distances matrix (Now what you will see is on a 100 node, 50 edge graph. 4.4 ms) \n",
        "\n",
        "As another experiment, for a 1700 by 1700 adjacency matrix, scipy gets it done in 460 ms. \n",
        "\n",
        "Looking into how Scipy does it https://github.com/scipy/scipy/blob/master/scipy/sparse/csgraph/_shortest_path.pyx, the trick is using cython (it compiles to C) and numpy. It also takes advantage of the sparsity of the problem. "
      ]
    },
    {
      "cell_type": "code",
      "metadata": {
        "id": "pHriQz5Gw6jA",
        "colab_type": "code",
        "outputId": "2d9ec809-8a98-4b8a-e329-08747b14cc9b",
        "colab": {
          "base_uri": "https://localhost:8080/",
          "height": 136
        }
      },
      "source": [
        "result.view()"
      ],
      "execution_count": 237,
      "outputs": [
        {
          "output_type": "execute_result",
          "data": {
            "text/plain": [
              "array([[ 0.,  1.,  1., ..., 73., inf, inf],\n",
              "       [ 1.,  0.,  2., ..., 72., inf, inf],\n",
              "       [ 1.,  2.,  0., ..., 74., inf, inf],\n",
              "       ...,\n",
              "       [73., 72., 74., ...,  0., inf, inf],\n",
              "       [inf, inf, inf, ..., inf,  0.,  1.],\n",
              "       [inf, inf, inf, ..., inf,  1.,  0.]])"
            ]
          },
          "metadata": {
            "tags": []
          },
          "execution_count": 237
        },
        {
          "output_type": "stream",
          "text": [
            "time: 4.45 ms\n"
          ],
          "name": "stdout"
        }
      ]
    },
    {
      "cell_type": "code",
      "metadata": {
        "id": "6yyoD7jaBTji",
        "colab_type": "code",
        "colab": {
          "base_uri": "https://localhost:8080/",
          "height": 34
        },
        "outputId": "93cf876b-193f-4840-d726-56f918c10cca"
      },
      "source": [
        "adjlist2 = to_numpy_array(G)"
      ],
      "execution_count": 238,
      "outputs": [
        {
          "output_type": "stream",
          "text": [
            "time: 19.3 ms\n"
          ],
          "name": "stdout"
        }
      ]
    },
    {
      "cell_type": "code",
      "metadata": {
        "id": "XaOlFw4TBM8z",
        "colab_type": "code",
        "colab": {
          "base_uri": "https://localhost:8080/",
          "height": 153
        },
        "outputId": "c52e735e-e1cb-419f-af08-e8637e4cdac2"
      },
      "source": [
        "print(adjlist2)"
      ],
      "execution_count": 239,
      "outputs": [
        {
          "output_type": "stream",
          "text": [
            "[[0. 1. 1. ... 0. 0. 0.]\n",
            " [1. 0. 0. ... 0. 0. 0.]\n",
            " [1. 0. 0. ... 0. 0. 0.]\n",
            " ...\n",
            " [0. 0. 0. ... 0. 0. 0.]\n",
            " [0. 0. 0. ... 0. 0. 1.]\n",
            " [0. 0. 0. ... 0. 1. 0.]]\n",
            "time: 1.41 ms\n"
          ],
          "name": "stdout"
        }
      ]
    },
    {
      "cell_type": "code",
      "metadata": {
        "id": "df1pz6cMFpvR",
        "colab_type": "code",
        "colab": {
          "base_uri": "https://localhost:8080/",
          "height": 34
        },
        "outputId": "524740c9-03c5-4dc6-d695-74bb7f308fde"
      },
      "source": [
        "import numpy as np \n",
        "\n",
        "def floyd_warshall_simple(graph,vertex_num):\n",
        "  dist = (np.ones((vertex_num,vertex_num)) * np.inf)\n",
        "  for a in range(vertex_num):\n",
        "    dist[a][a]=0\n",
        "  for b in range(vertex_num):\n",
        "    for c in range(vertex_num):\n",
        "      if graph[b][c] != 0:\n",
        "        dist[b][c]=graph[b][c]\n",
        "  for k in range(vertex_num):\n",
        "    for i in range(vertex_num):\n",
        "      for j in range(vertex_num):\n",
        "        if dist[i][j] > dist[i][k] + dist[k][j]:\n",
        "          dist[i][j] = dist[i][k] + dist[k][j]\n",
        "  return dist"
      ],
      "execution_count": 240,
      "outputs": [
        {
          "output_type": "stream",
          "text": [
            "time: 9.43 ms\n"
          ],
          "name": "stdout"
        }
      ]
    },
    {
      "cell_type": "code",
      "metadata": {
        "id": "tw9xEUTCTW2M",
        "colab_type": "code",
        "outputId": "3626db77-8c83-409e-dbaa-25da0cb52029",
        "colab": {
          "base_uri": "https://localhost:8080/",
          "height": 34
        }
      },
      "source": [
        "simplefwanswer=floyd_warshall_simple(adjlist2,118)"
      ],
      "execution_count": 241,
      "outputs": [
        {
          "output_type": "stream",
          "text": [
            "time: 1.74 s\n"
          ],
          "name": "stdout"
        }
      ]
    },
    {
      "cell_type": "code",
      "metadata": {
        "id": "aKKY7HT1VSBG",
        "colab_type": "code",
        "colab": {
          "base_uri": "https://localhost:8080/",
          "height": 153
        },
        "outputId": "498136b5-241e-417f-b9bc-6fda255d5903"
      },
      "source": [
        "print(simplefwanswer)"
      ],
      "execution_count": 242,
      "outputs": [
        {
          "output_type": "stream",
          "text": [
            "[[ 0.  1.  1. ... 15. inf inf]\n",
            " [ 1.  0.  2. ... 14. inf inf]\n",
            " [ 1.  2.  0. ... 16. inf inf]\n",
            " ...\n",
            " [15. 14. 16. ...  0. inf inf]\n",
            " [inf inf inf ... inf  0. inf]\n",
            " [inf inf inf ... inf inf  0.]]\n",
            "time: 2.06 ms\n"
          ],
          "name": "stdout"
        }
      ]
    },
    {
      "cell_type": "code",
      "metadata": {
        "id": "Gp0V6t0yH7AJ",
        "colab_type": "code",
        "outputId": "9455b9c4-09cd-4912-d659-26de6343f614",
        "colab": {
          "base_uri": "https://localhost:8080/",
          "height": 170
        }
      },
      "source": [
        "#Correctness checks \n",
        "def test_floyd_warshall_algorithms_on_small_matrix():\n",
        "    INPUT = array([\n",
        "        [  0.,  inf,  -2.,  inf],\n",
        "        [  4.,   0.,   3.,  inf],\n",
        "        [ inf,  inf,   0.,   2.],\n",
        "        [ inf,  -1.,  inf,   0.]\n",
        "    ])\n",
        "\n",
        "    OUTPUT = array([\n",
        "        [ 0., -1., -2.,  0.],\n",
        "        [ 4.,  0.,  2.,  4.],\n",
        "        [ 5.,  1.,  0.,  2.],\n",
        "        [ 3., -1.,  1.,  0.]])\n",
        "    print(OUTPUT)\n",
        "    print(floyd_warshall_simple(INPUT,4))\n",
        "    #assert (floyd_warshall_naive(INPUT) == OUTPUT).all()\n",
        "test_floyd_warshall_algorithms_on_small_matrix()"
      ],
      "execution_count": 243,
      "outputs": [
        {
          "output_type": "stream",
          "text": [
            "[[ 0. -1. -2.  0.]\n",
            " [ 4.  0.  2.  4.]\n",
            " [ 5.  1.  0.  2.]\n",
            " [ 3. -1.  1.  0.]]\n",
            "[[ 0. -1. -2.  0.]\n",
            " [ 4.  0.  2.  4.]\n",
            " [ 5.  1.  0.  2.]\n",
            " [ 3. -1.  1.  0.]]\n",
            "time: 9.49 ms\n"
          ],
          "name": "stdout"
        }
      ]
    },
    {
      "cell_type": "markdown",
      "metadata": {
        "id": "Oe_3unyvTOQ-",
        "colab_type": "text"
      },
      "source": [
        "As we can see, for this on a small graph it takes 1.73 seconds, where scipy takes 5 ms! Let's try to get faster using numba \n",
        "\n",
        "On a 1700x1700 adj matrix, this takes 1.74 seconds. Much better than the network x stuff, but still slower than scipy (which got 460 ms on the same problem). "
      ]
    },
    {
      "cell_type": "code",
      "metadata": {
        "id": "433Lnl38Aq2R",
        "colab_type": "code",
        "outputId": "c850636a-25d8-46d3-be81-b8b81ac84d41",
        "colab": {
          "base_uri": "https://localhost:8080/",
          "height": 102
        }
      },
      "source": [
        "!pip install numba"
      ],
      "execution_count": 216,
      "outputs": [
        {
          "output_type": "stream",
          "text": [
            "Requirement already satisfied: numba in /usr/local/lib/python3.6/dist-packages (0.48.0)\n",
            "Requirement already satisfied: llvmlite<0.32.0,>=0.31.0dev0 in /usr/local/lib/python3.6/dist-packages (from numba) (0.31.0)\n",
            "Requirement already satisfied: numpy>=1.15 in /usr/local/lib/python3.6/dist-packages (from numba) (1.18.4)\n",
            "Requirement already satisfied: setuptools in /usr/local/lib/python3.6/dist-packages (from numba) (46.3.0)\n",
            "time: 2.56 s\n"
          ],
          "name": "stdout"
        }
      ]
    },
    {
      "cell_type": "code",
      "metadata": {
        "id": "b0_iMhiJUHHq",
        "colab_type": "code",
        "colab": {
          "base_uri": "https://localhost:8080/",
          "height": 34
        },
        "outputId": "d73a34c8-4377-4bf7-c78b-75e863bf4f7a"
      },
      "source": [
        "from numba import jit\n",
        "import numpy as np \n",
        "\n",
        "@jit(nopython=True)\n",
        "def floyd_warshall_simple_nb(graph,vertex_num):\n",
        "  dist = (np.ones((vertex_num,vertex_num)) * np.inf)\n",
        "  for a in range(vertex_num):\n",
        "    dist[a][a]=0\n",
        "  for b in range(vertex_num):\n",
        "    for c in range(vertex_num):\n",
        "      if graph[b][c] != 0:\n",
        "        dist[b][c]=graph[b][c]\n",
        "  for k in range(vertex_num):\n",
        "    for i in range(vertex_num):\n",
        "      for j in range(vertex_num):\n",
        "        if dist[i][j] > dist[i][k] + dist[k][j]:\n",
        "          dist[i][j] = dist[i][k] + dist[k][j]\n",
        "  return dist"
      ],
      "execution_count": 244,
      "outputs": [
        {
          "output_type": "stream",
          "text": [
            "time: 5.96 ms\n"
          ],
          "name": "stdout"
        }
      ]
    },
    {
      "cell_type": "code",
      "metadata": {
        "id": "rjkicU30DTPG",
        "colab_type": "code",
        "outputId": "53ead00b-7022-4b34-f483-1e4ac9343b4e",
        "colab": {
          "base_uri": "https://localhost:8080/",
          "height": 34
        }
      },
      "source": [
        "nbfwanswer=floyd_warshall_simple_nb(adjlist2,118)"
      ],
      "execution_count": 245,
      "outputs": [
        {
          "output_type": "stream",
          "text": [
            "time: 404 ms\n"
          ],
          "name": "stdout"
        }
      ]
    },
    {
      "cell_type": "markdown",
      "metadata": {
        "id": "XBRVf17UZBia",
        "colab_type": "text"
      },
      "source": [
        ""
      ]
    },
    {
      "cell_type": "code",
      "metadata": {
        "id": "LS4Q3PAtVIyj",
        "colab_type": "code",
        "colab": {
          "base_uri": "https://localhost:8080/",
          "height": 153
        },
        "outputId": "378d06f7-becb-4930-c9c9-d5ea374972b8"
      },
      "source": [
        "print(nbfwanswer==simplefwanswer)"
      ],
      "execution_count": 246,
      "outputs": [
        {
          "output_type": "stream",
          "text": [
            "[[ True  True  True ...  True  True  True]\n",
            " [ True  True  True ...  True  True  True]\n",
            " [ True  True  True ...  True  True  True]\n",
            " ...\n",
            " [ True  True  True ...  True  True  True]\n",
            " [ True  True  True ...  True  True  True]\n",
            " [ True  True  True ...  True  True  True]]\n",
            "time: 1.3 ms\n"
          ],
          "name": "stdout"
        }
      ]
    },
    {
      "cell_type": "markdown",
      "metadata": {
        "id": "N9cuWYlcWzZp",
        "colab_type": "text"
      },
      "source": [
        "Just by adding jit we took down the runtime down drastically (from 1.7 seconds to 404 ms. Now our implementation is faster than scipys by a few milliseconds, which i'd call a successful day :) "
      ]
    }
  ]
}