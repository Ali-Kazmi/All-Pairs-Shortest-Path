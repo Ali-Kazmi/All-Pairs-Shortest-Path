{
  "nbformat": 4,
  "nbformat_minor": 0,
  "metadata": {
    "colab": {
      "name": "APSP.ipynb",
      "provenance": [],
      "authorship_tag": "ABX9TyObULya11lhRsilzrAzUWCI",
      "include_colab_link": true
    },
    "kernelspec": {
      "name": "python3",
      "display_name": "Python 3"
    }
  },
  "cells": [
    {
      "cell_type": "markdown",
      "metadata": {
        "id": "view-in-github",
        "colab_type": "text"
      },
      "source": [
        "<a href=\"https://colab.research.google.com/github/Ali-Kazmi/All-Pairs-Shortest-Path/blob/master/APSP.ipynb\" target=\"_parent\"><img src=\"https://colab.research.google.com/assets/colab-badge.svg\" alt=\"Open In Colab\"/></a>"
      ]
    },
    {
      "cell_type": "markdown",
      "metadata": {
        "id": "AH-VdTURMxdD",
        "colab_type": "text"
      },
      "source": [
        "In this notebook I will use python's networkX library to perform All Pairs Shortest Paths (APSP) on the california road dataset. Then, i'll use scipy to do the same much faster. Lastly, I'll implement my own and use numba to speed it up, beating scipy! "
      ]
    },
    {
      "cell_type": "code",
      "metadata": {
        "id": "tQHOuY0fs5Xe",
        "colab_type": "code",
        "colab": {}
      },
      "source": [
        "# Get the data \n",
        "from pandas import read_csv\n",
        "OLcnode = read_csv('https://www.cs.utah.edu/~lifeifei/research/tpq/OL.cnode',\n",
        "                 names=['Node_ID', 'X','Y'],\n",
        "                 delim_whitespace=True, nrows=5000) \n",
        "\n",
        "OLcedge=read_csv('https://www.cs.utah.edu/~lifeifei/research/tpq/OL.cedge',\n",
        "                 names=['Edge ID', 'Start_Node_ID','End_Node_ID','L2_distance'],\n",
        "                 delim_whitespace=True,nrows=5000) \n"
      ],
      "execution_count": 2,
      "outputs": []
    },
    {
      "cell_type": "code",
      "metadata": {
        "id": "6cUaOKVG2_Z5",
        "colab_type": "code",
        "colab": {
          "base_uri": "https://localhost:8080/",
          "height": 204
        },
        "outputId": "bc3512f3-4f07-4687-9aed-0c8569b346c3"
      },
      "source": [
        "OLcedge.head() "
      ],
      "execution_count": null,
      "outputs": [
        {
          "output_type": "execute_result",
          "data": {
            "text/html": [
              "<div>\n",
              "<style scoped>\n",
              "    .dataframe tbody tr th:only-of-type {\n",
              "        vertical-align: middle;\n",
              "    }\n",
              "\n",
              "    .dataframe tbody tr th {\n",
              "        vertical-align: top;\n",
              "    }\n",
              "\n",
              "    .dataframe thead th {\n",
              "        text-align: right;\n",
              "    }\n",
              "</style>\n",
              "<table border=\"1\" class=\"dataframe\">\n",
              "  <thead>\n",
              "    <tr style=\"text-align: right;\">\n",
              "      <th></th>\n",
              "      <th>Edge ID</th>\n",
              "      <th>Start_Node_ID</th>\n",
              "      <th>End_Node_ID</th>\n",
              "      <th>L2_distance</th>\n",
              "    </tr>\n",
              "  </thead>\n",
              "  <tbody>\n",
              "    <tr>\n",
              "      <th>0</th>\n",
              "      <td>0</td>\n",
              "      <td>1609</td>\n",
              "      <td>1622</td>\n",
              "      <td>57.403187</td>\n",
              "    </tr>\n",
              "    <tr>\n",
              "      <th>1</th>\n",
              "      <td>1</td>\n",
              "      <td>2471</td>\n",
              "      <td>2479</td>\n",
              "      <td>29.718756</td>\n",
              "    </tr>\n",
              "    <tr>\n",
              "      <th>2</th>\n",
              "      <td>2</td>\n",
              "      <td>2463</td>\n",
              "      <td>2471</td>\n",
              "      <td>61.706902</td>\n",
              "    </tr>\n",
              "    <tr>\n",
              "      <th>3</th>\n",
              "      <td>3</td>\n",
              "      <td>2443</td>\n",
              "      <td>2448</td>\n",
              "      <td>19.080025</td>\n",
              "    </tr>\n",
              "    <tr>\n",
              "      <th>4</th>\n",
              "      <td>4</td>\n",
              "      <td>1417</td>\n",
              "      <td>1491</td>\n",
              "      <td>28.248583</td>\n",
              "    </tr>\n",
              "  </tbody>\n",
              "</table>\n",
              "</div>"
            ],
            "text/plain": [
              "   Edge ID  Start_Node_ID  End_Node_ID  L2_distance\n",
              "0        0           1609         1622    57.403187\n",
              "1        1           2471         2479    29.718756\n",
              "2        2           2463         2471    61.706902\n",
              "3        3           2443         2448    19.080025\n",
              "4        4           1417         1491    28.248583"
            ]
          },
          "metadata": {
            "tags": []
          },
          "execution_count": 35
        }
      ]
    },
    {
      "cell_type": "code",
      "metadata": {
        "id": "SgrWs5U43AuV",
        "colab_type": "code",
        "colab": {
          "base_uri": "https://localhost:8080/",
          "height": 204
        },
        "outputId": "3386743a-1f14-4593-be31-7c2eef4b4c94"
      },
      "source": [
        "OLcnode.head()"
      ],
      "execution_count": null,
      "outputs": [
        {
          "output_type": "execute_result",
          "data": {
            "text/html": [
              "<div>\n",
              "<style scoped>\n",
              "    .dataframe tbody tr th:only-of-type {\n",
              "        vertical-align: middle;\n",
              "    }\n",
              "\n",
              "    .dataframe tbody tr th {\n",
              "        vertical-align: top;\n",
              "    }\n",
              "\n",
              "    .dataframe thead th {\n",
              "        text-align: right;\n",
              "    }\n",
              "</style>\n",
              "<table border=\"1\" class=\"dataframe\">\n",
              "  <thead>\n",
              "    <tr style=\"text-align: right;\">\n",
              "      <th></th>\n",
              "      <th>Node_ID</th>\n",
              "      <th>X</th>\n",
              "      <th>Y</th>\n",
              "    </tr>\n",
              "  </thead>\n",
              "  <tbody>\n",
              "    <tr>\n",
              "      <th>0</th>\n",
              "      <td>0</td>\n",
              "      <td>769.948669</td>\n",
              "      <td>2982.984131</td>\n",
              "    </tr>\n",
              "    <tr>\n",
              "      <th>1</th>\n",
              "      <td>1</td>\n",
              "      <td>863.275757</td>\n",
              "      <td>3005.275635</td>\n",
              "    </tr>\n",
              "    <tr>\n",
              "      <th>2</th>\n",
              "      <td>2</td>\n",
              "      <td>690.196411</td>\n",
              "      <td>3333.704834</td>\n",
              "    </tr>\n",
              "    <tr>\n",
              "      <th>3</th>\n",
              "      <td>3</td>\n",
              "      <td>1197.556519</td>\n",
              "      <td>2984.470215</td>\n",
              "    </tr>\n",
              "    <tr>\n",
              "      <th>4</th>\n",
              "      <td>4</td>\n",
              "      <td>1261.188599</td>\n",
              "      <td>2985.956299</td>\n",
              "    </tr>\n",
              "  </tbody>\n",
              "</table>\n",
              "</div>"
            ],
            "text/plain": [
              "   Node_ID            X            Y\n",
              "0        0   769.948669  2982.984131\n",
              "1        1   863.275757  3005.275635\n",
              "2        2   690.196411  3333.704834\n",
              "3        3  1197.556519  2984.470215\n",
              "4        4  1261.188599  2985.956299"
            ]
          },
          "metadata": {
            "tags": []
          },
          "execution_count": 3
        }
      ]
    },
    {
      "cell_type": "markdown",
      "metadata": {
        "id": "Z2H2kVKdOSH-",
        "colab_type": "text"
      },
      "source": [
        "The cell below will output an example of one shortest path (between two vertices). For APSP, we will be finding these shortest paths for all shortest paths between all pairs of vertices. As you can imagine, it gets expensive fast "
      ]
    },
    {
      "cell_type": "code",
      "metadata": {
        "id": "Pr0WkQi7SzeJ",
        "colab_type": "code",
        "colab": {
          "base_uri": "https://localhost:8080/",
          "height": 102
        },
        "outputId": "a26f0316-1189-4a30-d2df-6f0de0559137"
      },
      "source": [
        "def get_edgelist(df):\n",
        "    ### BEGIN SOLUTION\n",
        "    return [(a, b, {'w': w}) for a, b, w in zip(df[\"Start_Node_ID\"], df[\"End_Node_ID\"], df[\"L2_distance\"])]\n",
        "    ### END SOLUTION\n",
        "    \n",
        "# Demo\n",
        "edgelist = get_edgelist(OLcedge)\n",
        "edgelist[:5] #just display a few. There's a lot of these! "
      ],
      "execution_count": 4,
      "outputs": [
        {
          "output_type": "execute_result",
          "data": {
            "text/plain": [
              "[(1609, 1622, {'w': 57.403187}),\n",
              " (2471, 2479, {'w': 29.718756}),\n",
              " (2463, 2471, {'w': 61.706902}),\n",
              " (2443, 2448, {'w': 19.080025}),\n",
              " (1417, 1491, {'w': 28.248583})]"
            ]
          },
          "metadata": {
            "tags": []
          },
          "execution_count": 4
        }
      ]
    },
    {
      "cell_type": "code",
      "metadata": {
        "id": "NDq_z5f0QtJb",
        "colab_type": "code",
        "colab": {
          "base_uri": "https://localhost:8080/",
          "height": 34
        },
        "outputId": "36940d7a-6a84-4299-d183-06502bf4fd39"
      },
      "source": [
        "\n",
        "from networkx import Graph\n",
        "G = Graph()\n",
        "G.add_nodes_from(OLcnode[\"Node_ID\"])\n",
        "G.add_edges_from(edgelist)\n",
        "\n",
        "print(f\"The graph has {G.number_of_nodes()} nodes and {G.number_of_edges()} edges.\")"
      ],
      "execution_count": 5,
      "outputs": [
        {
          "output_type": "stream",
          "text": [
            "The graph has 5590 nodes and 4995 edges.\n"
          ],
          "name": "stdout"
        }
      ]
    },
    {
      "cell_type": "code",
      "metadata": {
        "id": "1r47dCHWuBOi",
        "colab_type": "code",
        "colab": {}
      },
      "source": [
        "import numpy as np\n",
        "from networkx import to_numpy_array\n",
        "adjlist = to_numpy_array(G)"
      ],
      "execution_count": 6,
      "outputs": []
    },
    {
      "cell_type": "code",
      "metadata": {
        "id": "6hrfTVX76TtA",
        "colab_type": "code",
        "colab": {
          "base_uri": "https://localhost:8080/",
          "height": 136
        },
        "outputId": "9d7563ea-d9ec-4b19-d9b4-9f853a179c03"
      },
      "source": [
        "pathfwnp # This is just to give you an idea of the output, and shows what a proper result will be "
      ],
      "execution_count": null,
      "outputs": [
        {
          "output_type": "execute_result",
          "data": {
            "text/plain": [
              "matrix([[ 0.,  1.,  1., ..., inf, inf, inf],\n",
              "        [ 1.,  0.,  2., ..., inf, inf, inf],\n",
              "        [ 1.,  2.,  0., ..., inf, inf, inf],\n",
              "        ...,\n",
              "        [inf, inf, inf, ...,  0.,  2.,  3.],\n",
              "        [inf, inf, inf, ...,  2.,  0.,  1.],\n",
              "        [inf, inf, inf, ...,  3.,  1.,  0.]])"
            ]
          },
          "metadata": {
            "tags": []
          },
          "execution_count": 17
        },
        {
          "output_type": "stream",
          "text": [
            "time: 3.93 ms\n"
          ],
          "name": "stdout"
        }
      ]
    },
    {
      "cell_type": "code",
      "metadata": {
        "id": "ycruUwWnwBO-",
        "colab_type": "code",
        "colab": {
          "base_uri": "https://localhost:8080/",
          "height": 34
        },
        "outputId": "aa50343d-e197-46a9-a670-1a0fde5cba3c"
      },
      "source": [
        "import scipy as sp\n",
        "import scipy.sparse \n",
        "\n",
        "%timeit sp.sparse.csgraph.shortest_path(adjlist,method='FW')"
      ],
      "execution_count": null,
      "outputs": [
        {
          "output_type": "stream",
          "text": [
            "1 loop, best of 3: 376 ms per loop\n"
          ],
          "name": "stdout"
        }
      ]
    },
    {
      "cell_type": "markdown",
      "metadata": {
        "id": "uuemWPtsw9cO",
        "colab_type": "text"
      },
      "source": [
        "\n",
        "Looking into how Scipy does it https://github.com/scipy/scipy/blob/master/scipy/sparse/csgraph/_shortest_path.pyx, the trick is using cython (it compiles to C) and numpy. They also use custom datatypes. Below this, i'm going to make improvements to the scipy (parallelize it, and then make it use min + semiring). Together these can get around a 30% speedup. See the experiments page of the github wiki for the results  "
      ]
    },
    {
      "cell_type": "code",
      "metadata": {
        "id": "ASRRaKblPqb3",
        "colab_type": "code",
        "colab": {}
      },
      "source": [
        "%load_ext Cython"
      ],
      "execution_count": 7,
      "outputs": []
    },
    {
      "cell_type": "code",
      "metadata": {
        "id": "X-IjUEjviSZI",
        "colab_type": "code",
        "colab": {}
      },
      "source": [
        "#I took the source code of scipy, trimmed it down extensively, and put it here. \n",
        "#It took some work figuring out what to do with the types; they used a PXI file and included it originally\n",
        "#Instead, I just put them at the top of the cell (this is the Dtype stuff)\n",
        "%%cython\n",
        "import warnings\n",
        "\n",
        "import numpy as np\n",
        "cimport numpy as np\n",
        "\n",
        "from scipy.sparse import csr_matrix, isspmatrix, isspmatrix_csr, isspmatrix_csc\n",
        "from scipy.sparse.csgraph._validation import validate_graph\n",
        "\n",
        "cimport cython\n",
        "\n",
        "from libc.stdlib cimport malloc, free\n",
        "from numpy.math cimport INFINITY\n",
        "\n",
        "DTYPE = np.float64\n",
        "ctypedef np.float64_t DTYPE_t\n",
        "\n",
        "ITYPE = np.int32\n",
        "ctypedef np.int32_t ITYPE_t\n",
        "\n",
        "# Fused type for int32 and int64\n",
        "ctypedef fused int32_or_int64:\n",
        "    np.int32_t\n",
        "    np.int64_t\n",
        "\n",
        "# EPS is the precision of DTYPE\n",
        "DEF DTYPE_EPS = 1E-15\n",
        "\n",
        "# NULL_IDX is the index used in predecessor matrices to store a non-path\n",
        "DEF NULL_IDX = -9999\n",
        "\n",
        "class NegativeCycleError(Exception):\n",
        "    def __init__(self, message=''):\n",
        "        Exception.__init__(self, message)\n",
        "\n",
        "def floyd_warshall_scipy(csgraph, directed=True,\n",
        "                   return_predecessors=False,\n",
        "                   unweighted=False,\n",
        "                   overwrite=False):\n",
        "    dist_matrix = validate_graph(csgraph, directed, DTYPE,\n",
        "                                 csr_output=False,\n",
        "                                 copy_if_dense=not overwrite)\n",
        "    if not isspmatrix(csgraph):\n",
        "        # for dense array input, zero entries represent non-edge\n",
        "        dist_matrix[dist_matrix == 0] = INFINITY\n",
        "\n",
        "    if unweighted:\n",
        "        dist_matrix[~np.isinf(dist_matrix)] = 1\n",
        "\n",
        "    if return_predecessors:\n",
        "        predecessor_matrix = np.empty(dist_matrix.shape,\n",
        "                                      dtype=ITYPE, order='C')\n",
        "    else:\n",
        "        predecessor_matrix = np.empty((0, 0), dtype=ITYPE)\n",
        "\n",
        "    _floyd_warshall(dist_matrix,\n",
        "                    predecessor_matrix,\n",
        "                    int(directed))\n",
        "\n",
        "    if np.any(dist_matrix.diagonal() < 0):\n",
        "        raise NegativeCycleError(\"Negative cycle in nodes %s\"\n",
        "                                 % np.where(dist_matrix.diagonal() < 0)[0])\n",
        "\n",
        "    if return_predecessors:\n",
        "        return dist_matrix, predecessor_matrix\n",
        "    else:\n",
        "        return dist_matrix\n",
        "\n",
        "@cython.boundscheck(False)\n",
        "cdef void _floyd_warshall(\n",
        "               np.ndarray[DTYPE_t, ndim=2, mode='c'] dist_matrix,\n",
        "               np.ndarray[ITYPE_t, ndim=2, mode='c'] predecessor_matrix,\n",
        "               int directed=0):\n",
        "    # dist_matrix : in/out\n",
        "    #    on input, the graph\n",
        "    #    on output, the matrix of shortest paths\n",
        "    # dist_matrix should be a [N,N] matrix, such that dist_matrix[i, j]\n",
        "    # is the distance from point i to point j.  Zero-distances imply that\n",
        "    # the points are not connected.\n",
        "    cdef int N = dist_matrix.shape[0]\n",
        "    assert dist_matrix.shape[1] == N\n",
        "\n",
        "    cdef unsigned int i, j, k\n",
        "\n",
        "    cdef DTYPE_t d_ijk\n",
        "\n",
        "    # ----------------------------------------------------------------------\n",
        "    #  Initialize distance matrix\n",
        "    #   - set diagonal to zero\n",
        "    #   - symmetrize matrix if non-directed graph is desired\n",
        "    dist_matrix.flat[::N + 1] = 0\n",
        "    if not directed:\n",
        "        for i in range(N):\n",
        "            for j in range(i + 1, N):\n",
        "                if dist_matrix[j, i] <= dist_matrix[i, j]:\n",
        "                    dist_matrix[i, j] = dist_matrix[j, i]\n",
        "                else:\n",
        "                    dist_matrix[j, i] = dist_matrix[i, j]\n",
        "\n",
        "    #----------------------------------------------------------------------\n",
        "    #  Initialize predecessor matrix\n",
        "    #   - check matrix size\n",
        "    #   - initialize diagonal and all non-edges to NULL\n",
        "    #   - initialize all edges to the row index\n",
        "    cdef int store_predecessors = False\n",
        "\n",
        "    if predecessor_matrix.size > 0:\n",
        "        store_predecessors = True\n",
        "        assert predecessor_matrix.shape[0] == N\n",
        "        assert predecessor_matrix.shape[1] == N\n",
        "        predecessor_matrix.fill(NULL_IDX)\n",
        "        i_edge = np.where(~np.isinf(dist_matrix))\n",
        "        predecessor_matrix[i_edge] = i_edge[0]\n",
        "        predecessor_matrix.flat[::N + 1] = NULL_IDX\n",
        "\n",
        "    # Now perform the Floyd-Warshall algorithm.\n",
        "    # In each loop, this finds the shortest path from point i\n",
        "    #  to point j using intermediate nodes 0 ... k\n",
        "    if store_predecessors:\n",
        "        for k in range(N):\n",
        "            for i in range(N):\n",
        "                if dist_matrix[i, k] == INFINITY:\n",
        "                    continue\n",
        "                for j in range(N):\n",
        "                    d_ijk = dist_matrix[i, k] + dist_matrix[k, j]\n",
        "                    if d_ijk < dist_matrix[i, j]:\n",
        "                        dist_matrix[i, j] = d_ijk\n",
        "                        predecessor_matrix[i, j] = predecessor_matrix[k, j]\n",
        "    else:\n",
        "        for k in range(N):\n",
        "            for i in range(N):\n",
        "                if dist_matrix[i, k] == INFINITY:\n",
        "                    continue\n",
        "                for j in range(N):\n",
        "                    d_ijk = dist_matrix[i, k] + dist_matrix[k, j]\n",
        "                    if d_ijk < dist_matrix[i, j]:\n",
        "                        dist_matrix[i, j] = d_ijk"
      ],
      "execution_count": 160,
      "outputs": []
    },
    {
      "cell_type": "code",
      "metadata": {
        "id": "2P9cSNHKy0vz",
        "colab_type": "code",
        "colab": {
          "base_uri": "https://localhost:8080/",
          "height": 34
        },
        "outputId": "badb241a-1de5-4eb0-fb9b-5a910c7d0bcd"
      },
      "source": [
        "%timeit floyd_warshall_scipy(adjlist)"
      ],
      "execution_count": 161,
      "outputs": [
        {
          "output_type": "stream",
          "text": [
            "1 loop, best of 3: 1min 43s per loop\n"
          ],
          "name": "stdout"
        }
      ]
    },
    {
      "cell_type": "code",
      "metadata": {
        "id": "PO_NTqXhzwNL",
        "colab_type": "code",
        "colab": {}
      },
      "source": [
        "#I took the source code of scipy, trimmed it down extensively, and put it here. \n",
        "#It took some work figuring out what to do with the types; they used a PXI file and included it originally\n",
        "#Instead, I just put them at the top of the cell (this is the Dtype stuff)\n",
        "#%%cython --compile-args=-fopenmp --link-args=-fopenmp --force\n",
        "%%cython -f\n",
        "import warnings\n",
        "from cython.parallel import prange\n",
        "import cython.parallel as cp\n",
        "import numpy as np\n",
        "cimport numpy as np\n",
        "cimport openmp\n",
        "from scipy.sparse import csr_matrix, isspmatrix, isspmatrix_csr, isspmatrix_csc\n",
        "from scipy.sparse.csgraph._validation import validate_graph\n",
        "\n",
        "cimport cython\n",
        "\n",
        "from libc.stdlib cimport malloc, free\n",
        "from numpy.math cimport INFINITY\n",
        "\n",
        "DTYPE = np.float64\n",
        "ctypedef np.float64_t DTYPE_t\n",
        "\n",
        "ITYPE = np.int32\n",
        "ctypedef np.int32_t ITYPE_t\n",
        "\n",
        "# Fused type for int32 and int64\n",
        "ctypedef fused int32_or_int64:\n",
        "    np.int32_t\n",
        "    np.int64_t\n",
        "\n",
        "# EPS is the precision of DTYPE\n",
        "DEF DTYPE_EPS = 1E-15\n",
        "\n",
        "# NULL_IDX is the index used in predecessor matrices to store a non-path\n",
        "DEF NULL_IDX = -9999\n",
        "\n",
        "\n",
        "class NegativeCycleError(Exception):\n",
        "    def __init__(self, message=''):\n",
        "        Exception.__init__(self, message)\n",
        "\n",
        "def floyd_warshall_scipy_parallel(csgraph, directed=True,\n",
        "                   return_predecessors=False,\n",
        "                   unweighted=False,\n",
        "                   overwrite=False):\n",
        "    dist_matrix = validate_graph(csgraph, directed, DTYPE,\n",
        "                                 csr_output=False,\n",
        "                                 copy_if_dense=not overwrite)\n",
        "    if not isspmatrix(csgraph):\n",
        "        # for dense array input, zero entries represent non-edge\n",
        "        dist_matrix[dist_matrix == 0] = INFINITY\n",
        "\n",
        "    if unweighted:\n",
        "        dist_matrix[~np.isinf(dist_matrix)] = 1\n",
        "\n",
        "    if return_predecessors:\n",
        "        predecessor_matrix = np.empty(dist_matrix.shape,\n",
        "                                      dtype=ITYPE, order='C')\n",
        "    else:\n",
        "        predecessor_matrix = np.empty((0, 0), dtype=ITYPE)\n",
        "\n",
        "    _floyd_warshall(dist_matrix,\n",
        "                    predecessor_matrix,\n",
        "                    int(directed))\n",
        "\n",
        "    if np.any(dist_matrix.diagonal() < 0):\n",
        "        raise NegativeCycleError(\"Negative cycle in nodes %s\"\n",
        "                                 % np.where(dist_matrix.diagonal() < 0)[0])\n",
        "\n",
        "    if return_predecessors:\n",
        "        return dist_matrix, predecessor_matrix\n",
        "    else:\n",
        "        return dist_matrix\n",
        "\n",
        "@cython.boundscheck(False)\n",
        "cdef void _floyd_warshall(\n",
        "               np.ndarray[DTYPE_t, ndim=2, mode='c'] dist_matrix,\n",
        "               np.ndarray[ITYPE_t, ndim=2, mode='c'] predecessor_matrix,\n",
        "               int directed=0):\n",
        "    # dist_matrix : in/out\n",
        "    #    on input, the graph\n",
        "    #    on output, the matrix of shortest paths\n",
        "    # dist_matrix should be a [N,N] matrix, such that dist_matrix[i, j]\n",
        "    # is the distance from point i to point j.  Zero-distances imply that\n",
        "    # the points are not connected.\n",
        "    cdef int N = dist_matrix.shape[0]\n",
        "    assert dist_matrix.shape[1] == N\n",
        "\n",
        "    #cdef unsigned int i, j, k\n",
        "    cdef int i, j, k\n",
        "    cdef DTYPE_t d_ijk\n",
        "\n",
        "    # ----------------------------------------------------------------------\n",
        "    #  Initialize distance matrix\n",
        "    #   - set diagonal to zero\n",
        "    #   - symmetrize matrix if non-directed graph is desired\n",
        "    dist_matrix.flat[::N + 1] = 0\n",
        "    if not directed:\n",
        "        for i in range(N):\n",
        "            for j in range(i + 1, N):\n",
        "                if dist_matrix[j, i] <= dist_matrix[i, j]:\n",
        "                    dist_matrix[i, j] = dist_matrix[j, i]\n",
        "                else:\n",
        "                    dist_matrix[j, i] = dist_matrix[i, j]\n",
        "\n",
        "    #----------------------------------------------------------------------\n",
        "    #  Initialize predecessor matrix\n",
        "    #   - check matrix size\n",
        "    #   - initialize diagonal and all non-edges to NULL\n",
        "    #   - initialize all edges to the row index\n",
        "    cdef int store_predecessors = False\n",
        "\n",
        "    if predecessor_matrix.size > 0:\n",
        "        store_predecessors = True\n",
        "        assert predecessor_matrix.shape[0] == N\n",
        "        assert predecessor_matrix.shape[1] == N\n",
        "        predecessor_matrix.fill(NULL_IDX)\n",
        "        i_edge = np.where(~np.isinf(dist_matrix))\n",
        "        predecessor_matrix[i_edge] = i_edge[0]\n",
        "        predecessor_matrix.flat[::N + 1] = NULL_IDX\n",
        "\n",
        "    # Now perform the Floyd-Warshall algorithm.\n",
        "    # In each loop, this finds the shortest path from point i\n",
        "    #  to point j using intermediate nodes 0 ... k\n",
        "    if store_predecessors:\n",
        "        for k in range(N):\n",
        "            for i in range(N):\n",
        "                if dist_matrix[i, k] == INFINITY:\n",
        "                    continue\n",
        "                for j in range(N):\n",
        "                    d_ijk = dist_matrix[i, k] + dist_matrix[k, j]\n",
        "                    if d_ijk < dist_matrix[i, j]:\n",
        "                        dist_matrix[i, j] = d_ijk\n",
        "                        predecessor_matrix[i, j] = predecessor_matrix[k, j]\n",
        "    else:\n",
        "        for k in range(N):\n",
        "            for i in prange(N,nogil=True):\n",
        "                if dist_matrix[i, k] == INFINITY:\n",
        "                    continue\n",
        "                for j in prange(N):\n",
        "                    d_ijk = dist_matrix[i, k] + dist_matrix[k, j]\n",
        "                    if d_ijk < dist_matrix[i, j]:\n",
        "                        dist_matrix[i, j] = d_ijk"
      ],
      "execution_count": 8,
      "outputs": []
    },
    {
      "cell_type": "code",
      "metadata": {
        "id": "3EINljW-0u2R",
        "colab_type": "code",
        "colab": {
          "base_uri": "https://localhost:8080/",
          "height": 34
        },
        "outputId": "87d8bbf5-776b-4159-b929-5c5ff5c29298"
      },
      "source": [
        "%timeit floyd_warshall_scipy_parallel(adjlist)"
      ],
      "execution_count": 9,
      "outputs": [
        {
          "output_type": "stream",
          "text": [
            "1 loop, best of 3: 1min 5s per loop\n"
          ],
          "name": "stdout"
        }
      ]
    },
    {
      "cell_type": "code",
      "metadata": {
        "id": "aX6rM6b85P6z",
        "colab_type": "code",
        "colab": {}
      },
      "source": [
        "#I took the source code of scipy, trimmed it down extensively, and put it here. \n",
        "#It took some work figuring out what to do with the types; they used a PXI file and included it originally\n",
        "#Instead, I just put them at the top of the cell (this is the Dtype stuff)\n",
        "#%%cython --compile-args=-fopenmp --link-args=-fopenmp --force\n",
        "%%cython -f\n",
        "import warnings\n",
        "from cython.parallel import prange\n",
        "import cython.parallel as cp\n",
        "import numpy as np\n",
        "cimport numpy as np\n",
        "cimport openmp\n",
        "from scipy.sparse import csr_matrix, isspmatrix, isspmatrix_csr, isspmatrix_csc\n",
        "from scipy.sparse.csgraph._validation import validate_graph\n",
        "\n",
        "cimport cython\n",
        "\n",
        "from libc.stdlib cimport malloc, free\n",
        "from numpy.math cimport INFINITY\n",
        "\n",
        "DTYPE = np.float64\n",
        "ctypedef np.float64_t DTYPE_t\n",
        "\n",
        "ITYPE = np.int32\n",
        "ctypedef np.int32_t ITYPE_t\n",
        "\n",
        "# Fused type for int32 and int64\n",
        "ctypedef fused int32_or_int64:\n",
        "    np.int32_t\n",
        "    np.int64_t\n",
        "\n",
        "# EPS is the precision of DTYPE\n",
        "DEF DTYPE_EPS = 1E-15\n",
        "\n",
        "# NULL_IDX is the index used in predecessor matrices to store a non-path\n",
        "DEF NULL_IDX = -9999\n",
        "\n",
        "\n",
        "class NegativeCycleError(Exception):\n",
        "    def __init__(self, message=''):\n",
        "        Exception.__init__(self, message)\n",
        "\n",
        "def floyd_warshall_scipy_parallel_semir(csgraph, directed=True,\n",
        "                   return_predecessors=False,\n",
        "                   unweighted=False,\n",
        "                   overwrite=False):\n",
        "    dist_matrix = validate_graph(csgraph, directed, DTYPE,\n",
        "                                 csr_output=False,\n",
        "                                 copy_if_dense=not overwrite)\n",
        "    if not isspmatrix(csgraph):\n",
        "        # for dense array input, zero entries represent non-edge\n",
        "        dist_matrix[dist_matrix == 0] = INFINITY\n",
        "\n",
        "    if unweighted:\n",
        "        dist_matrix[~np.isinf(dist_matrix)] = 1\n",
        "\n",
        "    if return_predecessors:\n",
        "        predecessor_matrix = np.empty(dist_matrix.shape,\n",
        "                                      dtype=ITYPE, order='C')\n",
        "    else:\n",
        "        predecessor_matrix = np.empty((0, 0), dtype=ITYPE)\n",
        "\n",
        "    _floyd_warshall(dist_matrix,\n",
        "                    predecessor_matrix,\n",
        "                    int(directed))\n",
        "\n",
        "    if np.any(dist_matrix.diagonal() < 0):\n",
        "        raise NegativeCycleError(\"Negative cycle in nodes %s\"\n",
        "                                 % np.where(dist_matrix.diagonal() < 0)[0])\n",
        "\n",
        "    if return_predecessors:\n",
        "        return dist_matrix, predecessor_matrix\n",
        "    else:\n",
        "        return dist_matrix\n",
        "\n",
        "@cython.boundscheck(False)\n",
        "cdef void _floyd_warshall(\n",
        "               np.ndarray[DTYPE_t, ndim=2, mode='c'] dist_matrix,\n",
        "               np.ndarray[ITYPE_t, ndim=2, mode='c'] predecessor_matrix,\n",
        "               int directed=0):\n",
        "    # dist_matrix : in/out\n",
        "    #    on input, the graph\n",
        "    #    on output, the matrix of shortest paths\n",
        "    # dist_matrix should be a [N,N] matrix, such that dist_matrix[i, j]\n",
        "    # is the distance from point i to point j.  Zero-distances imply that\n",
        "    # the points are not connected.\n",
        "    cdef int N = dist_matrix.shape[0]\n",
        "    assert dist_matrix.shape[1] == N\n",
        "\n",
        "    #cdef unsigned int i, j, k\n",
        "    cdef int i, j, k\n",
        "    cdef DTYPE_t d_ijk\n",
        "\n",
        "    # ----------------------------------------------------------------------\n",
        "    #  Initialize distance matrix\n",
        "    #   - set diagonal to zero\n",
        "    #   - symmetrize matrix if non-directed graph is desired\n",
        "    dist_matrix.flat[::N + 1] = 0\n",
        "    if not directed:\n",
        "        for i in range(N):\n",
        "            for j in range(i + 1, N):\n",
        "                if dist_matrix[j, i] <= dist_matrix[i, j]:\n",
        "                    dist_matrix[i, j] = dist_matrix[j, i]\n",
        "                else:\n",
        "                    dist_matrix[j, i] = dist_matrix[i, j]\n",
        "\n",
        "    #----------------------------------------------------------------------\n",
        "    #  Initialize predecessor matrix\n",
        "    #   - check matrix size\n",
        "    #   - initialize diagonal and all non-edges to NULL\n",
        "    #   - initialize all edges to the row index\n",
        "    cdef int store_predecessors = False\n",
        "\n",
        "    if predecessor_matrix.size > 0:\n",
        "        store_predecessors = True\n",
        "        assert predecessor_matrix.shape[0] == N\n",
        "        assert predecessor_matrix.shape[1] == N\n",
        "        predecessor_matrix.fill(NULL_IDX)\n",
        "        i_edge = np.where(~np.isinf(dist_matrix))\n",
        "        predecessor_matrix[i_edge] = i_edge[0]\n",
        "        predecessor_matrix.flat[::N + 1] = NULL_IDX\n",
        "\n",
        "    # Now perform the Floyd-Warshall algorithm.\n",
        "    # In each loop, this finds the shortest path from point i\n",
        "    #  to point j using intermediate nodes 0 ... k\n",
        "    if store_predecessors:\n",
        "        for k in range(N):\n",
        "            for i in range(N):\n",
        "                if dist_matrix[i, k] == INFINITY:\n",
        "                    continue\n",
        "                for j in range(N):\n",
        "                    d_ijk = dist_matrix[i, k] + dist_matrix[k, j]\n",
        "                    if d_ijk < dist_matrix[i, j]:\n",
        "                        dist_matrix[i, j] = d_ijk\n",
        "                        predecessor_matrix[i, j] = predecessor_matrix[k, j]\n",
        "    else:\n",
        "        for k in range(N):\n",
        "            for i in prange(N,nogil=True):\n",
        "                if dist_matrix[i, k] == INFINITY:\n",
        "                    continue\n",
        "                for j in prange(N):\n",
        "                    dist_matrix[i,j]=min(dist_matrix[i,j],dist_matrix[i, k] + dist_matrix[k, j])"
      ],
      "execution_count": 158,
      "outputs": []
    },
    {
      "cell_type": "code",
      "metadata": {
        "id": "TVE5y11O5lYa",
        "colab_type": "code",
        "colab": {
          "base_uri": "https://localhost:8080/",
          "height": 34
        },
        "outputId": "9b8042f4-55f3-45dc-dbca-425ef7a89b04"
      },
      "source": [
        "%timeit floyd_warshall_scipy_parallel_semir(adjlist)"
      ],
      "execution_count": 159,
      "outputs": [
        {
          "output_type": "stream",
          "text": [
            "1 loop, best of 3: 1min 40s per loop\n"
          ],
          "name": "stdout"
        }
      ]
    },
    {
      "cell_type": "code",
      "metadata": {
        "id": "N7MifIDhjIdD",
        "colab_type": "code",
        "colab": {
          "base_uri": "https://localhost:8080/",
          "height": 136
        },
        "outputId": "46385528-fe9d-47fa-8c3b-7ca00b95b287"
      },
      "source": [
        "print(floyd_warshall_scipy_parallel_semir(adjlist))"
      ],
      "execution_count": 95,
      "outputs": [
        {
          "output_type": "stream",
          "text": [
            "[[ 0.  1.  1. ... inf inf  5.]\n",
            " [ 1.  0.  2. ... inf inf  6.]\n",
            " [ 1.  2.  0. ... inf inf  4.]\n",
            " ...\n",
            " [inf inf inf ...  0.  1. inf]\n",
            " [inf inf inf ...  1.  0. inf]\n",
            " [ 5.  6.  4. ... inf inf  0.]]\n"
          ],
          "name": "stdout"
        }
      ]
    },
    {
      "cell_type": "code",
      "metadata": {
        "id": "HSgBpeODLtVd",
        "colab_type": "code",
        "colab": {}
      },
      "source": [
        "#correctness checks \n",
        "output1=floyd_warshall_scipy(adjlist)\n",
        "output2=floyd_warshall_scipy_parallel(adjlist)\n",
        "output3=floyd_warshall_scipy_parallel_semir(adjlist)"
      ],
      "execution_count": null,
      "outputs": []
    },
    {
      "cell_type": "code",
      "metadata": {
        "id": "L7dGdPnCL6Nr",
        "colab_type": "code",
        "colab": {
          "base_uri": "https://localhost:8080/",
          "height": 51
        },
        "outputId": "0e45bd3f-3574-4c7a-ea2c-df0f148a20c9"
      },
      "source": [
        "#yay we passed\n",
        "print((output1==output2).all())\n",
        "print((output3==output2).all())"
      ],
      "execution_count": null,
      "outputs": [
        {
          "output_type": "stream",
          "text": [
            "True\n",
            "True\n"
          ],
          "name": "stdout"
        }
      ]
    },
    {
      "cell_type": "markdown",
      "metadata": {
        "id": "pEp7aMMLWQTg",
        "colab_type": "text"
      },
      "source": [
        "Now, i'm going to be seeing how fast numpy performs with similar code. "
      ]
    },
    {
      "cell_type": "code",
      "metadata": {
        "id": "oJdDWXJgDWX7",
        "colab_type": "code",
        "colab": {}
      },
      "source": [
        "import numpy as np \n",
        "from numba import jit\n",
        "#assume its not sparse, no negative cycles, etc \n",
        "@jit(nopython=True,parallel=False)\n",
        "def numbafw(csgraph):\n",
        "  dist_matrix=csgraph\n",
        "  #dist_matrix[dist_matrix==0] = np.inf have to do this by hand \n",
        "  for a,v in np.ndenumerate(dist_matrix):\n",
        "    if v ==0:\n",
        "      dist_matrix[a]=np.inf\n",
        "  _fw(dist_matrix)  \n",
        "  return dist_matrix\n",
        "\n",
        "@jit(nopython=True,parallel=False)\n",
        "def _fw(dist_matrix):\n",
        "  N=dist_matrix.shape[0]\n",
        "  assert dist_matrix.shape[1]==N\n",
        "  #  Initialize distance matrix\n",
        "  #   - set diagonal to zero\n",
        "  #   - symmetrize matrix if non-directed graph is desired\n",
        "  #dist_matrix.flat[::N + 1] = 0\n",
        "  np.fill_diagonal(dist_matrix,0) #does this work?\n",
        "  for i in range(N):\n",
        "      for j in range(i + 1, N):\n",
        "          if dist_matrix[j, i] <= dist_matrix[i, j]:\n",
        "              dist_matrix[i, j] = dist_matrix[j, i]\n",
        "          else:\n",
        "              dist_matrix[j, i] = dist_matrix[i, j]\n",
        "  #below is the FW\n",
        "  for k in range(N):\n",
        "            for i in range(N):\n",
        "                if dist_matrix[i, k] == np.inf:\n",
        "                    continue\n",
        "                for j in range(N):\n",
        "                    d_ijk = dist_matrix[i, k] + dist_matrix[k, j]\n",
        "                    if d_ijk < dist_matrix[i, j]:\n",
        "                        dist_matrix[i, j] = d_ijk\n",
        "    "
      ],
      "execution_count": 152,
      "outputs": []
    },
    {
      "cell_type": "code",
      "metadata": {
        "id": "3goUtAkP_9tQ",
        "colab_type": "code",
        "colab": {
          "base_uri": "https://localhost:8080/",
          "height": 34
        },
        "outputId": "0f625b52-7d4e-4087-8602-c124f1e7986a"
      },
      "source": [
        "%timeit answerfornumbafw=numbafw(adjlist)"
      ],
      "execution_count": 153,
      "outputs": [
        {
          "output_type": "stream",
          "text": [
            "1 loop, best of 3: 1min 40s per loop\n"
          ],
          "name": "stdout"
        }
      ]
    },
    {
      "cell_type": "code",
      "metadata": {
        "id": "VrvrlH9iG6J5",
        "colab_type": "code",
        "colab": {
          "base_uri": "https://localhost:8080/",
          "height": 255
        },
        "outputId": "f273ed44-29d8-419f-8c39-6fc752a2cae4"
      },
      "source": [
        "print(adjlist)\n",
        "print(numbafw(adjlist)) # this is a small correctness example. It matches what scipy produces for the same input "
      ],
      "execution_count": 91,
      "outputs": [
        {
          "output_type": "stream",
          "text": [
            "[[0. 1. 1. ... 0. 0. 0.]\n",
            " [1. 0. 0. ... 0. 0. 0.]\n",
            " [1. 0. 0. ... 0. 0. 0.]\n",
            " ...\n",
            " [0. 0. 0. ... 0. 1. 0.]\n",
            " [0. 0. 0. ... 1. 0. 0.]\n",
            " [0. 0. 0. ... 0. 0. 0.]]\n",
            "[[ 0.  1.  1. ... inf inf  5.]\n",
            " [ 1.  0.  2. ... inf inf  6.]\n",
            " [ 1.  2.  0. ... inf inf  4.]\n",
            " ...\n",
            " [inf inf inf ...  0.  1. inf]\n",
            " [inf inf inf ...  1.  0. inf]\n",
            " [ 5.  6.  4. ... inf inf  0.]]\n"
          ],
          "name": "stdout"
        }
      ]
    },
    {
      "cell_type": "code",
      "metadata": {
        "id": "palIyfLTE6u8",
        "colab_type": "code",
        "colab": {}
      },
      "source": [
        "import numpy as np \n",
        "import numba\n",
        "from numba import jit,prange\n",
        "#assume its not sparse, no negative cycles, etc \n",
        "@jit(nopython=True)\n",
        "def numbafwparallel(csgraph):\n",
        "  dist_matrix=csgraph\n",
        "  #dist_matrix[dist_matrix==0] = np.inf have to do this by hand \n",
        "  for a,v in np.ndenumerate(dist_matrix):\n",
        "    if v ==0:\n",
        "      dist_matrix[a]=np.inf\n",
        "  _fwp(dist_matrix)  #dist_matrix[dist_matrix == 0] = np.inf\n",
        "  return dist_matrix\n",
        "\n",
        "@jit(nopython=True,parallel=True)\n",
        "def _fwp(dist_matrix):\n",
        "  N=dist_matrix.shape[0]\n",
        "  assert dist_matrix.shape[1]==N\n",
        "  #  Initialize distance matrix\n",
        "  #   - set diagonal to zero\n",
        "  #   - symmetrize matrix if non-directed graph is desired\n",
        "  #dist_matrix.flat[::N + 1] = 0\n",
        "  np.fill_diagonal(dist_matrix,0) #does this work?\n",
        "  for i in range(N):\n",
        "      for j in range(i + 1, N):\n",
        "          if dist_matrix[j, i] <= dist_matrix[i, j]:\n",
        "              dist_matrix[i, j] = dist_matrix[j, i]\n",
        "          else:\n",
        "              dist_matrix[j, i] = dist_matrix[i, j]\n",
        "  #below is the FW\n",
        "  for k in range(N):\n",
        "    for i in numba.prange(N):\n",
        "        if dist_matrix[i, k] == np.inf:\n",
        "            continue\n",
        "        for j in numba.prange(N):\n",
        "            d_ijk = dist_matrix[i, k] + dist_matrix[k, j]\n",
        "            if d_ijk < dist_matrix[i, j]:\n",
        "                dist_matrix[i, j] = d_ijk\n",
        "    "
      ],
      "execution_count": 145,
      "outputs": []
    },
    {
      "cell_type": "code",
      "metadata": {
        "id": "-rNY61TvFMp6",
        "colab_type": "code",
        "colab": {
          "base_uri": "https://localhost:8080/",
          "height": 34
        },
        "outputId": "f7807916-4aaf-4018-a3ee-26cb9b62b5cf"
      },
      "source": [
        "%timeit answerfornumbafwparallel=numbafwparallel(adjlist)"
      ],
      "execution_count": 146,
      "outputs": [
        {
          "output_type": "stream",
          "text": [
            "1 loop, best of 3: 1min 36s per loop\n"
          ],
          "name": "stdout"
        }
      ]
    },
    {
      "cell_type": "code",
      "metadata": {
        "id": "SVUg3uZPjPiO",
        "colab_type": "code",
        "colab": {}
      },
      "source": [
        "import numpy as np \n",
        "from numba import jit,prange\n",
        "#assume its not sparse, no negative cycles, etc \n",
        "@jit(nopython=True)\n",
        "def numbafwparallelsemir(csgraph):\n",
        "  dist_matrix=csgraph\n",
        "  #dist_matrix[dist_matrix==0] = np.inf have to do this by hand \n",
        "  for a,v in np.ndenumerate(dist_matrix):\n",
        "    if v ==0:\n",
        "      dist_matrix[a]=np.inf\n",
        "  _fwps(dist_matrix)  #dist_matrix[dist_matrix == 0] = np.inf\n",
        "  return dist_matrix\n",
        "\n",
        "@jit(nopython=True,parallel=True)\n",
        "def _fwps(dist_matrix):\n",
        "  N=dist_matrix.shape[0]\n",
        "  assert dist_matrix.shape[1]==N\n",
        "  #  Initialize distance matrix\n",
        "  #   - set diagonal to zero\n",
        "  #   - symmetrize matrix if non-directed graph is desired\n",
        "  #dist_matrix.flat[::N + 1] = 0\n",
        "  np.fill_diagonal(dist_matrix,0) #does this work?\n",
        "  for i in range(N):\n",
        "      for j in range(i + 1, N):\n",
        "          if dist_matrix[j, i] <= dist_matrix[i, j]:\n",
        "              dist_matrix[i, j] = dist_matrix[j, i]\n",
        "          else:\n",
        "              dist_matrix[j, i] = dist_matrix[i, j]\n",
        "  #below is the FW\n",
        "  for k in range(N):\n",
        "            for i in prange(N):\n",
        "                if dist_matrix[i, k] == np.inf:\n",
        "                    continue\n",
        "                for j in prange(N):\n",
        "                    dist_matrix[i,j]=min(dist_matrix[i,j],dist_matrix[i, k] + dist_matrix[k, j])\n",
        "    "
      ],
      "execution_count": 129,
      "outputs": []
    },
    {
      "cell_type": "code",
      "metadata": {
        "id": "oMVT30rJEoM7",
        "colab_type": "code",
        "colab": {
          "base_uri": "https://localhost:8080/",
          "height": 34
        },
        "outputId": "9943d2a9-ad3b-410d-d1ea-35678de688ae"
      },
      "source": [
        "%timeit answerfornumbafwparallelsemir=numbafwparallelsemir(adjlist)"
      ],
      "execution_count": 141,
      "outputs": [
        {
          "output_type": "stream",
          "text": [
            "1 loop, best of 3: 1min 35s per loop\n"
          ],
          "name": "stdout"
        }
      ]
    },
    {
      "cell_type": "code",
      "metadata": {
        "id": "harxAg7SNZO9",
        "colab_type": "code",
        "colab": {
          "base_uri": "https://localhost:8080/",
          "height": 136
        },
        "outputId": "6812b71d-1112-41e1-f305-ed788a288b2b"
      },
      "source": [
        "cythonans=floyd_warshall_scipy_parallel_semir(adjlist)\n",
        "answerfornumbafwparallelsemir=numbafwparallelsemir(adjlist)\n",
        "print(cythonans==answerfornumbafwparallelsemir)"
      ],
      "execution_count": 142,
      "outputs": [
        {
          "output_type": "stream",
          "text": [
            "[[ True  True  True ...  True  True  True]\n",
            " [ True  True  True ...  True  True  True]\n",
            " [ True  True  True ...  True  True  True]\n",
            " ...\n",
            " [ True  True  True ...  True  True  True]\n",
            " [ True  True  True ...  True  True  True]\n",
            " [ True  True  True ...  True  True  True]]\n"
          ],
          "name": "stdout"
        }
      ]
    },
    {
      "cell_type": "code",
      "metadata": {
        "id": "zckH9YWtSeWV",
        "colab_type": "code",
        "colab": {
          "base_uri": "https://localhost:8080/",
          "height": 85
        },
        "outputId": "201c63c6-5e35-4890-ae0d-633e3f347e74"
      },
      "source": [
        "!pip install numba"
      ],
      "execution_count": 56,
      "outputs": [
        {
          "output_type": "stream",
          "text": [
            "Requirement already satisfied: numba in /usr/local/lib/python3.6/dist-packages (0.48.0)\n",
            "Requirement already satisfied: setuptools in /usr/local/lib/python3.6/dist-packages (from numba) (47.3.1)\n",
            "Requirement already satisfied: llvmlite<0.32.0,>=0.31.0dev0 in /usr/local/lib/python3.6/dist-packages (from numba) (0.31.0)\n",
            "Requirement already satisfied: numpy>=1.15 in /usr/local/lib/python3.6/dist-packages (from numba) (1.18.5)\n"
          ],
          "name": "stdout"
        }
      ]
    }
  ]
}