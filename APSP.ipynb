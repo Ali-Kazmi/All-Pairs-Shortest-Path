{
  "nbformat": 4,
  "nbformat_minor": 0,
  "metadata": {
    "colab": {
      "name": "APSP.ipynb",
      "provenance": [],
      "authorship_tag": "ABX9TyNvuVvaaMxrvAtzTvKugrY4",
      "include_colab_link": true
    },
    "kernelspec": {
      "name": "python3",
      "display_name": "Python 3"
    }
  },
  "cells": [
    {
      "cell_type": "markdown",
      "metadata": {
        "id": "view-in-github",
        "colab_type": "text"
      },
      "source": [
        "<a href=\"https://colab.research.google.com/github/Ali-Kazmi/All-Pairs-Shortest-Path/blob/master/APSP.ipynb\" target=\"_parent\"><img src=\"https://colab.research.google.com/assets/colab-badge.svg\" alt=\"Open In Colab\"/></a>"
      ]
    },
    {
      "cell_type": "markdown",
      "metadata": {
        "id": "AH-VdTURMxdD",
        "colab_type": "text"
      },
      "source": [
        "In this notebook I will use python's networkX library to perform All Pairs Shortest Paths (APSP) on the california road dataset. \n",
        "\n",
        "The cell below installs the files we need. "
      ]
    },
    {
      "cell_type": "code",
      "metadata": {
        "id": "Km4x4IWKJqrV",
        "colab_type": "code",
        "colab": {}
      },
      "source": [
        "!if ! test -f ca-roads.zip ; then wget https://github.com/rvuduc/graph-demos-for-ali/raw/master/sssp-networkx/ca-roads.zip ; fi\n",
        "!if ! test -d ca-roads ; then unzip ca-roads.zip && ls -al | grep ca-roads* ; fi\n",
        "!if ! test -f ca-roads-path-demo.png ; then wget https://raw.githubusercontent.com/rvuduc/graph-demos-for-ali/master/sssp-networkx/ca-roads-path-demo.png ; fi\n",
        "!if ! test -f problem_utils.py ; then wget https://github.com/rvuduc/graph-demos-for-ali/raw/master/sssp-networkx/problem_utils.py ; fi"
      ],
      "execution_count": 0,
      "outputs": []
    },
    {
      "cell_type": "markdown",
      "metadata": {
        "id": "H4KYvPrrhg_0",
        "colab_type": "text"
      },
      "source": [
        "Steps to get the dataset I used: \n",
        "1) go to https://www.cs.utah.edu/~lifeifei/SpatialDataset.htm \n",
        "2) navigate down to the last dataset: city of oldenburg road network (chosen for a small size) \n",
        "3) click on the nodes and the edges (two tabs in a browser) \n",
        "4) save them as text. Convert them to CSV using excel, then upload them into colab using the cells below \n",
        "5) get it into pandas using the commands below (make sure file names are the same)"
      ]
    },
    {
      "cell_type": "code",
      "metadata": {
        "id": "tQHOuY0fs5Xe",
        "colab_type": "code",
        "outputId": "0b185f0e-2adf-4a6d-f182-db2d161d2970",
        "colab": {
          "resources": {
            "http://localhost:8080/nbextensions/google.colab/files.js": {
              "data": "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",
              "ok": true,
              "headers": [
                [
                  "content-type",
                  "application/javascript"
                ]
              ],
              "status": 200,
              "status_text": ""
            }
          },
          "base_uri": "https://localhost:8080/",
          "height": 71
        }
      },
      "source": [
        "from google.colab import files\n",
        "\n",
        "uploaded = files.upload()"
      ],
      "execution_count": 4,
      "outputs": [
        {
          "output_type": "display_data",
          "data": {
            "text/html": [
              "\n",
              "     <input type=\"file\" id=\"files-f9537103-efde-4a71-bef8-613036885a17\" name=\"files[]\" multiple disabled />\n",
              "     <output id=\"result-f9537103-efde-4a71-bef8-613036885a17\">\n",
              "      Upload widget is only available when the cell has been executed in the\n",
              "      current browser session. Please rerun this cell to enable.\n",
              "      </output>\n",
              "      <script src=\"/nbextensions/google.colab/files.js\"></script> "
            ],
            "text/plain": [
              "<IPython.core.display.HTML object>"
            ]
          },
          "metadata": {
            "tags": []
          }
        },
        {
          "output_type": "stream",
          "text": [
            "Saving ol-nodes.csv to ol-nodes.csv\n"
          ],
          "name": "stdout"
        }
      ]
    },
    {
      "cell_type": "code",
      "metadata": {
        "id": "_efj6hFXtTlF",
        "colab_type": "code",
        "outputId": "dd156924-cc52-4f4c-b2ed-b2d56d8d3748",
        "colab": {
          "resources": {
            "http://localhost:8080/nbextensions/google.colab/files.js": {
              "data": "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",
              "ok": true,
              "headers": [
                [
                  "content-type",
                  "application/javascript"
                ]
              ],
              "status": 200,
              "status_text": ""
            }
          },
          "base_uri": "https://localhost:8080/",
          "height": 71
        }
      },
      "source": [
        "from google.colab import files\n",
        "\n",
        "uploaded = files.upload()"
      ],
      "execution_count": 5,
      "outputs": [
        {
          "output_type": "display_data",
          "data": {
            "text/html": [
              "\n",
              "     <input type=\"file\" id=\"files-61805af7-5e16-4f68-9731-068c09f21c56\" name=\"files[]\" multiple disabled />\n",
              "     <output id=\"result-61805af7-5e16-4f68-9731-068c09f21c56\">\n",
              "      Upload widget is only available when the cell has been executed in the\n",
              "      current browser session. Please rerun this cell to enable.\n",
              "      </output>\n",
              "      <script src=\"/nbextensions/google.colab/files.js\"></script> "
            ],
            "text/plain": [
              "<IPython.core.display.HTML object>"
            ]
          },
          "metadata": {
            "tags": []
          }
        },
        {
          "output_type": "stream",
          "text": [
            "Saving OL.cedge.csv to OL.cedge.csv\n"
          ],
          "name": "stdout"
        }
      ]
    },
    {
      "cell_type": "code",
      "metadata": {
        "id": "slVvTLmStC-U",
        "colab_type": "code",
        "outputId": "168fd9d5-fb63-495f-d89d-a75b23cbed09",
        "colab": {
          "base_uri": "https://localhost:8080/",
          "height": 255
        }
      },
      "source": [
        "import pandas as pd\n",
        "\n",
        "nodes = pd.read_csv(\"ol-nodes.csv\",nrows=2000)\n",
        "nodes.columns = ['Node_ID', 'X','Y']\n",
        "print(nodes)"
      ],
      "execution_count": 6,
      "outputs": [
        {
          "output_type": "stream",
          "text": [
            "      Node_ID            X            Y\n",
            "0           1   863.275757  3005.275635\n",
            "1           2   690.196411  3333.704834\n",
            "2           3  1197.556519  2984.470215\n",
            "3           4  1261.188599  2985.956299\n",
            "4           5   722.436707  3467.454346\n",
            "...       ...          ...          ...\n",
            "1995     1996  5259.831055  8158.344238\n",
            "1996     1997  5121.961426  8039.456055\n",
            "1997     1998  4969.244629  9184.871094\n",
            "1998     1999  5509.693359  8321.816406\n",
            "1999     2000  4911.975586  8922.945312\n",
            "\n",
            "[2000 rows x 3 columns]\n"
          ],
          "name": "stdout"
        }
      ]
    },
    {
      "cell_type": "code",
      "metadata": {
        "id": "l1JEmuIXtvC9",
        "colab_type": "code",
        "outputId": "5a3b2a76-f9d1-4ee4-eced-df2382fee3fa",
        "colab": {
          "base_uri": "https://localhost:8080/",
          "height": 255
        }
      },
      "source": [
        "edges=pd.read_csv(\"OL.cedge.csv\",nrows=2000)\n",
        "edges.columns = ['Edge ID', 'Start_Node_ID','End_Node_ID','L2_distance']\n",
        "print(edges)"
      ],
      "execution_count": 7,
      "outputs": [
        {
          "output_type": "stream",
          "text": [
            "      Edge ID  Start_Node_ID  End_Node_ID  L2_distance\n",
            "0           1           2471         2479    29.718756\n",
            "1           2           2463         2471    61.706902\n",
            "2           3           2443         2448    19.080025\n",
            "3           4           1417         1491    28.248583\n",
            "4           5           4961         4962    15.014112\n",
            "...       ...            ...          ...          ...\n",
            "1995     1996           2263         4144   106.143394\n",
            "1996     1997           2184         2213   115.173096\n",
            "1997     1998           2168         2184    95.859863\n",
            "1998     1999           4145         4147     9.629313\n",
            "1999     2000           4145         4146     9.210923\n",
            "\n",
            "[2000 rows x 4 columns]\n"
          ],
          "name": "stdout"
        }
      ]
    },
    {
      "cell_type": "markdown",
      "metadata": {
        "id": "Z2H2kVKdOSH-",
        "colab_type": "text"
      },
      "source": [
        "The cell below will output an example of one shortest path (between two vertices). For APSP, we will be finding these shortest paths for all shortest paths between all pairs of vertices. As you can imagine, it gets expensive fast "
      ]
    },
    {
      "cell_type": "code",
      "metadata": {
        "id": "Ibwbe7EjOSub",
        "colab_type": "code",
        "outputId": "daff2d6d-46f5-4297-df55-2ae2a4a1d6ad",
        "colab": {
          "base_uri": "https://localhost:8080/",
          "height": 51
        }
      },
      "source": [
        "from problem_utils import get_path, display_image, assert_tibbles_are_equivalent, pandas_df_to_markdown_table\n",
        "print(\"Example of what you will produce in this problem (shortest paths on the California road network):\")\n",
        "display_image(get_path('ca-roads-path-demo.png'))\n",
        "print(\"What we will be doing is calculating the shortest path between EVERY pair of vertices.\")"
      ],
      "execution_count": 9,
      "outputs": [
        {
          "output_type": "stream",
          "text": [
            "Example of what you will produce in this problem (shortest paths on the California road network):\n",
            "What we will be doing is calculating the shortest path between EVERY pair of vertices.\n"
          ],
          "name": "stdout"
        }
      ]
    },
    {
      "cell_type": "code",
      "metadata": {
        "id": "Pr0WkQi7SzeJ",
        "colab_type": "code",
        "outputId": "1e4a2734-a924-4361-9f2b-85a66f6bb7a5",
        "colab": {
          "base_uri": "https://localhost:8080/",
          "height": 1000
        }
      },
      "source": [
        "def get_edgelist(df):\n",
        "    ### BEGIN SOLUTION\n",
        "    return [(a, b, {'w': w}) for a, b, w in zip(df[\"Start_Node_ID\"], df[\"End_Node_ID\"], df[\"L2_distance\"])]\n",
        "    ### END SOLUTION\n",
        "    \n",
        "# Demo\n",
        "edgelist = get_edgelist(edges)\n",
        "edgelist[:]"
      ],
      "execution_count": 10,
      "outputs": [
        {
          "output_type": "execute_result",
          "data": {
            "text/plain": [
              "[(2471, 2479, {'w': 29.718756}),\n",
              " (2463, 2471, {'w': 61.706902}),\n",
              " (2443, 2448, {'w': 19.080025}),\n",
              " (1417, 1491, {'w': 28.248583}),\n",
              " (4961, 4962, {'w': 15.014111999999999}),\n",
              " (3150, 3156, {'w': 78.55722}),\n",
              " (1629, 1633, {'w': 10.386786}),\n",
              " (2234, 2249, {'w': 55.720881999999996}),\n",
              " (2159, 2162, {'w': 37.383289000000005}),\n",
              " (2154, 2159, {'w': 160.897079}),\n",
              " (2148, 2150, {'w': 15.142239000000002}),\n",
              " (1312, 1317, {'w': 55.35796}),\n",
              " (1692, 1700, {'w': 75.79039}),\n",
              " (293, 299, {'w': 19.293741}),\n",
              " (3806, 3807, {'w': 19.894999}),\n",
              " (3521, 3528, {'w': 85.082039}),\n",
              " (3515, 3521, {'w': 104.642044}),\n",
              " (3833, 3845, {'w': 75.549019}),\n",
              " (3857, 3874, {'w': 81.339333}),\n",
              " (3848, 3851, {'w': 10.663867999999999}),\n",
              " (3833, 3848, {'w': 82.003647}),\n",
              " (472, 475, {'w': 562.864563}),\n",
              " (3202, 3203, {'w': 5.514648}),\n",
              " (0, 2, {'w': 359.674072}),\n",
              " (2, 5, {'w': 137.580414}),\n",
              " (5, 7, {'w': 314.74127200000004}),\n",
              " (7, 11, {'w': 487.54174800000004}),\n",
              " (11, 37, {'w': 227.21356200000002}),\n",
              " (0, 1, {'w': 95.952362}),\n",
              " (1, 3, {'w': 334.927582}),\n",
              " (3, 4, {'w': 63.649429000000005}),\n",
              " (4, 6, {'w': 56.746574}),\n",
              " (5679, 5681, {'w': 25.871616}),\n",
              " (2702, 2703, {'w': 145.897064}),\n",
              " (1671, 4959, {'w': 54.15274399999999}),\n",
              " (4276, 4278, {'w': 31.746073}),\n",
              " (2462, 2473, {'w': 70.04586}),\n",
              " (5676, 5677, {'w': 13.299081}),\n",
              " (1261, 1266, {'w': 5.7165989999999995}),\n",
              " (126, 128, {'w': 60.918822999999996}),\n",
              " (239, 270, {'w': 349.654602}),\n",
              " (238, 239, {'w': 64.192543}),\n",
              " (237, 238, {'w': 358.99017299999997}),\n",
              " (236, 237, {'w': 208.66288799999998}),\n",
              " (184, 236, {'w': 332.353607}),\n",
              " (129, 184, {'w': 369.537933}),\n",
              " (126, 129, {'w': 102.685822}),\n",
              " (125, 126, {'w': 259.437286}),\n",
              " (123, 125, {'w': 228.396591}),\n",
              " (121, 123, {'w': 352.85083}),\n",
              " (118, 121, {'w': 364.763855}),\n",
              " (118, 119, {'w': 247.53533900000002}),\n",
              " (448, 469, {'w': 95.11084}),\n",
              " (379, 448, {'w': 518.6619870000001}),\n",
              " (354, 355, {'w': 558.9997559999999}),\n",
              " (355, 356, {'w': 495.47311399999995}),\n",
              " (356, 357, {'w': 436.354279}),\n",
              " (357, 379, {'w': 714.758667}),\n",
              " (469, 590, {'w': 515.7787480000001}),\n",
              " (138, 590, {'w': 501.58642599999996}),\n",
              " (124, 138, {'w': 544.010193}),\n",
              " (120, 124, {'w': 532.781677}),\n",
              " (119, 120, {'w': 107.46025800000001}),\n",
              " (119, 122, {'w': 431.17248499999994}),\n",
              " (122, 127, {'w': 526.950012}),\n",
              " (127, 201, {'w': 559.049622}),\n",
              " (201, 480, {'w': 417.526489}),\n",
              " (477, 480, {'w': 788.324585}),\n",
              " (475, 477, {'w': 532.81958}),\n",
              " (472, 473, {'w': 286.377411}),\n",
              " (355, 375, {'w': 1619.545898}),\n",
              " (473, 474, {'w': 245.16043100000002}),\n",
              " (474, 476, {'w': 485.11377000000005}),\n",
              " (476, 478, {'w': 545.7198490000001}),\n",
              " (478, 479, {'w': 294.833679}),\n",
              " (479, 491, {'w': 214.543396}),\n",
              " (491, 535, {'w': 431.2435}),\n",
              " (535, 591, {'w': 499.35778799999997}),\n",
              " (270, 591, {'w': 588.669617}),\n",
              " (270, 309, {'w': 128.987625}),\n",
              " (309, 592, {'w': 277.716217}),\n",
              " (592, 593, {'w': 374.50235}),\n",
              " (593, 631, {'w': 446.01180999999997}),\n",
              " (631, 710, {'w': 372.671448}),\n",
              " (710, 711, {'w': 205.051132}),\n",
              " (78, 828, {'w': 1426.648071}),\n",
              " (66, 78, {'w': 279.768494}),\n",
              " (66, 82, {'w': 303.43850699999996}),\n",
              " (82, 713, {'w': 499.889496}),\n",
              " (711, 713, {'w': 603.454712}),\n",
              " (711, 712, {'w': 418.507599}),\n",
              " (712, 714, {'w': 325.99987799999997}),\n",
              " (714, 731, {'w': 308.564819}),\n",
              " (731, 803, {'w': 279.804779}),\n",
              " (803, 831, {'w': 345.615234}),\n",
              " (829, 831, {'w': 375.000092}),\n",
              " (829, 830, {'w': 262.954437}),\n",
              " (830, 833, {'w': 178.176117}),\n",
              " (833, 841, {'w': 92.142578}),\n",
              " (833, 839, {'w': 68.408211}),\n",
              " (833, 947, {'w': 522.182739}),\n",
              " (947, 948, {'w': 245.85530099999997}),\n",
              " (948, 949, {'w': 153.156235}),\n",
              " (949, 953, {'w': 166.15948500000002}),\n",
              " (949, 951, {'w': 123.857803}),\n",
              " (3331, 3333, {'w': 115.723495}),\n",
              " (358, 366, {'w': 419.818176}),\n",
              " (366, 393, {'w': 387.19622799999996}),\n",
              " (393, 1066, {'w': 497.35321}),\n",
              " (1065, 1066, {'w': 411.823364}),\n",
              " (953, 1065, {'w': 568.55603}),\n",
              " (355, 358, {'w': 1005.4010619999999}),\n",
              " (6062, 6068, {'w': 87.84304}),\n",
              " (6055, 6062, {'w': 64.887192}),\n",
              " (6051, 6055, {'w': 70.900475}),\n",
              " (6042, 6051, {'w': 67.987526}),\n",
              " (6033, 6042, {'w': 82.11796600000001}),\n",
              " (6021, 6033, {'w': 159.761383}),\n",
              " (575, 4002, {'w': 132.88738999999998}),\n",
              " (5751, 5752, {'w': 168.70976299999998}),\n",
              " (12, 14, {'w': 14.769893}),\n",
              " (6, 8, {'w': 305.473419}),\n",
              " (1067, 1070, {'w': 172.379303}),\n",
              " (701, 1067, {'w': 58.978413}),\n",
              " (698, 1067, {'w': 83.86129}),\n",
              " (1067, 1068, {'w': 78.572479}),\n",
              " (8, 10, {'w': 421.793671}),\n",
              " (1185, 1187, {'w': 28.892017}),\n",
              " (1185, 1186, {'w': 28.175490999999997}),\n",
              " (1185, 1188, {'w': 38.215431}),\n",
              " (1185, 1197, {'w': 138.462723}),\n",
              " (10, 12, {'w': 52.11665}),\n",
              " (625, 634, {'w': 44.277126}),\n",
              " (625, 626, {'w': 15.208901000000001}),\n",
              " (625, 639, {'w': 49.176753999999995}),\n",
              " (618, 625, {'w': 49.845314}),\n",
              " (12, 16, {'w': 62.589615}),\n",
              " (1303, 1309, {'w': 125.490517}),\n",
              " (1303, 1305, {'w': 39.903214}),\n",
              " (1303, 1307, {'w': 88.941315}),\n",
              " (1303, 1304, {'w': 15.332479000000001}),\n",
              " (6, 9, {'w': 377.39401200000003}),\n",
              " (1421, 1425, {'w': 54.54128299999999}),\n",
              " (1421, 1423, {'w': 17.874529000000003}),\n",
              " (1421, 1422, {'w': 14.811548000000002}),\n",
              " (1421, 1426, {'w': 60.617439000000005}),\n",
              " (935, 4978, {'w': 112.9515}),\n",
              " (935, 5637, {'w': 67.25145}),\n",
              " (902, 935, {'w': 67.029999}),\n",
              " (935, 5639, {'w': 74.676407}),\n",
              " (1539, 1544, {'w': 42.190533}),\n",
              " (1539, 1542, {'w': 31.668910999999998}),\n",
              " (1539, 1540, {'w': 0.848633}),\n",
              " (1539, 1545, {'w': 47.670097}),\n",
              " (16, 20, {'w': 35.133064000000005}),\n",
              " (1557, 1562, {'w': 133.400726}),\n",
              " (1287, 1557, {'w': 38.168839}),\n",
              " (1294, 1557, {'w': 105.90261100000001}),\n",
              " (1557, 1558, {'w': 63.194697999999995}),\n",
              " (20, 25, {'w': 30.313584999999996}),\n",
              " (1675, 1679, {'w': 86.741425}),\n",
              " (1675, 1678, {'w': 80.438766}),\n",
              " (1675, 1676, {'w': 63.87588100000001}),\n",
              " (1675, 1677, {'w': 79.156189}),\n",
              " (1793, 1797, {'w': 70.233482}),\n",
              " (1793, 1795, {'w': 44.749348}),\n",
              " (1793, 1794, {'w': 33.592663}),\n",
              " (1793, 1801, {'w': 99.5867}),\n",
              " (25, 32, {'w': 38.611893}),\n",
              " (1911, 1914, {'w': 94.12894399999999}),\n",
              " (1911, 1913, {'w': 79.586685}),\n",
              " (1911, 1912, {'w': 55.591011}),\n",
              " (1911, 1918, {'w': 117.589417}),\n",
              " (723, 734, {'w': 92.943329}),\n",
              " (1867, 1908, {'w': 143.714844}),\n",
              " (1867, 1886, {'w': 77.337311}),\n",
              " (1849, 1867, {'w': 76.46685}),\n",
              " (1867, 1891, {'w': 99.779976}),\n",
              " (5349, 5363, {'w': 664.744507}),\n",
              " (2029, 2033, {'w': 53.649437}),\n",
              " (2029, 2032, {'w': 39.06694}),\n",
              " (2029, 2031, {'w': 15.256043}),\n",
              " (2029, 2030, {'w': 13.805349}),\n",
              " (5345, 5349, {'w': 117.591881}),\n",
              " (2147, 2149, {'w': 36.900784}),\n",
              " (2147, 2155, {'w': 97.822769}),\n",
              " (2147, 2148, {'w': 31.116545000000002}),\n",
              " (2147, 2151, {'w': 50.711265999999995}),\n",
              " (2815, 4363, {'w': 60.006618}),\n",
              " (2226, 2241, {'w': 49.768589}),\n",
              " (2226, 2248, {'w': 80.579025}),\n",
              " (2213, 2226, {'w': 69.50636300000001}),\n",
              " (2196, 2226, {'w': 136.178833}),\n",
              " (4716, 4717, {'w': 33.10767}),\n",
              " (2265, 2270, {'w': 105.09748799999998}),\n",
              " (2265, 2272, {'w': 133.866852}),\n",
              " (2265, 2266, {'w': 23.482674}),\n",
              " (2265, 2267, {'w': 41.6964}),\n",
              " (941, 4717, {'w': 259.079437}),\n",
              " (2383, 2386, {'w': 108.33479299999999}),\n",
              " (2383, 2384, {'w': 55.982696999999995}),\n",
              " (2383, 2385, {'w': 74.7714}),\n",
              " (2383, 2387, {'w': 111.148697}),\n",
              " (1587, 1588, {'w': 40.070034}),\n",
              " (364, 372, {'w': 215.07720899999998}),\n",
              " (372, 400, {'w': 329.297852}),\n",
              " (372, 399, {'w': 327.236938}),\n",
              " (372, 377, {'w': 71.371422}),\n",
              " (2480, 2483, {'w': 45.111362}),\n",
              " (2501, 2505, {'w': 90.186623}),\n",
              " (2501, 2502, {'w': 56.926311}),\n",
              " (110, 2501, {'w': 65.03370699999999}),\n",
              " (2501, 2503, {'w': 75.273003}),\n",
              " (2495, 2497, {'w': 44.937374}),\n",
              " (1526, 2665, {'w': 153.293732}),\n",
              " (1526, 2661, {'w': 81.332474}),\n",
              " (1507, 1526, {'w': 114.978554}),\n",
              " (1526, 2651, {'w': 89.666374}),\n",
              " (1657, 2500, {'w': 35.939175}),\n",
              " (1657, 2495, {'w': 64.563797}),\n",
              " (810, 2619, {'w': 148.303024}),\n",
              " (2619, 2620, {'w': 63.402763}),\n",
              " (2620, 2621, {'w': 54.420811}),\n",
              " (2621, 2622, {'w': 85.435005}),\n",
              " (2623, 2624, {'w': 44.845119}),\n",
              " (2624, 2625, {'w': 13.700673000000002}),\n",
              " (2624, 2626, {'w': 15.884041}),\n",
              " (2627, 2629, {'w': 34.945984}),\n",
              " (2627, 2628, {'w': 28.547240999999996}),\n",
              " (2626, 2627, {'w': 14.031560999999998}),\n",
              " (2628, 2630, {'w': 19.601871}),\n",
              " (2628, 2631, {'w': 34.597378000000006}),\n",
              " (757, 766, {'w': 37.756954}),\n",
              " (766, 789, {'w': 71.70079799999999}),\n",
              " (766, 783, {'w': 53.730247}),\n",
              " (783, 794, {'w': 35.405193}),\n",
              " (794, 800, {'w': 16.353385999999997}),\n",
              " (800, 821, {'w': 60.748343999999996}),\n",
              " (821, 2633, {'w': 52.003857}),\n",
              " (2632, 2633, {'w': 28.621534000000004}),\n",
              " (2632, 2634, {'w': 38.784088}),\n",
              " (2634, 2635, {'w': 29.028637}),\n",
              " (2636, 2637, {'w': 12.019508}),\n",
              " (804, 2636, {'w': 92.520798}),\n",
              " (2636, 2638, {'w': 32.162597999999996}),\n",
              " (2638, 2639, {'w': 40.263565}),\n",
              " (108, 2641, {'w': 41.940639000000004}),\n",
              " (2641, 2642, {'w': 5.031873}),\n",
              " (2642, 2644, {'w': 25.161376999999998}),\n",
              " (2642, 2643, {'w': 19.864456}),\n",
              " (2643, 2645, {'w': 14.542446}),\n",
              " (2645, 2648, {'w': 9.78295}),\n",
              " (115, 2648, {'w': 11.430612}),\n",
              " (112, 115, {'w': 10.907202}),\n",
              " (108, 112, {'w': 15.193726000000002}),\n",
              " (105, 108, {'w': 32.141498999999996}),\n",
              " (2650, 2651, {'w': 190.214645}),\n",
              " (1523, 1527, {'w': 36.122276}),\n",
              " (1527, 2653, {'w': 145.565475}),\n",
              " (2653, 2654, {'w': 68.858368}),\n",
              " (2654, 2655, {'w': 46.331409}),\n",
              " (2655, 2656, {'w': 18.757473}),\n",
              " (2656, 2657, {'w': 77.39741500000001}),\n",
              " (2657, 2658, {'w': 13.325142999999999}),\n",
              " (2658, 2659, {'w': 222.171402}),\n",
              " (2659, 2660, {'w': 23.206768}),\n",
              " (1523, 2660, {'w': 150.682297}),\n",
              " (1517, 1523, {'w': 29.697838}),\n",
              " (1507, 1517, {'w': 49.198792}),\n",
              " (2661, 2662, {'w': 32.449696}),\n",
              " (2661, 2663, {'w': 33.017399}),\n",
              " (2662, 2663, {'w': 10.713529}),\n",
              " (2663, 2664, {'w': 4.503442}),\n",
              " (2666, 2667, {'w': 20.506098}),\n",
              " (2667, 2668, {'w': 102.03256999999999}),\n",
              " (2668, 2669, {'w': 40.840195}),\n",
              " (2668, 2670, {'w': 72.49913000000001}),\n",
              " (720, 724, {'w': 44.458324}),\n",
              " (714, 720, {'w': 204.981308}),\n",
              " (720, 726, {'w': 68.198471}),\n",
              " (726, 733, {'w': 43.984539}),\n",
              " (733, 765, {'w': 156.516068}),\n",
              " (765, 788, {'w': 79.338722}),\n",
              " (765, 774, {'w': 34.444077}),\n",
              " (782, 2683, {'w': 326.601288}),\n",
              " (782, 2684, {'w': 150.082108}),\n",
              " (769, 804, {'w': 104.155548}),\n",
              " (769, 788, {'w': 78.588394}),\n",
              " (755, 769, {'w': 61.791714}),\n",
              " (48, 49, {'w': 45.848114}),\n",
              " (39, 48, {'w': 53.883922999999996}),\n",
              " (34, 39, {'w': 35.911732}),\n",
              " (39, 46, {'w': 32.547367}),\n",
              " (755, 805, {'w': 172.13493300000002}),\n",
              " (805, 2639, {'w': 141.79148899999998}),\n",
              " (2639, 2640, {'w': 51.540478}),\n",
              " (18, 23, {'w': 44.415546}),\n",
              " (16, 18, {'w': 9.119387}),\n",
              " (14, 18, {'w': 64.93002299999999}),\n",
              " (32, 44, {'w': 80.968971}),\n",
              " (1404, 1417, {'w': 99.745811}),\n",
              " (1398, 1404, {'w': 41.665356}),\n",
              " (1393, 1398, {'w': 29.839053999999997}),\n",
              " (1403, 1405, {'w': 79.425713}),\n",
              " (1393, 1403, {'w': 54.355316}),\n",
              " (1403, 1415, {'w': 92.772209}),\n",
              " (736, 755, {'w': 90.677864}),\n",
              " (51, 52, {'w': 18.403489999999998}),\n",
              " (43, 52, {'w': 99.284966}),\n",
              " (40, 42, {'w': 7.769544000000001}),\n",
              " (42, 45, {'w': 20.084784}),\n",
              " (40, 43, {'w': 12.604389}),\n",
              " (28, 43, {'w': 93.03290600000001}),\n",
              " (24, 28, {'w': 13.291942}),\n",
              " (28, 35, {'w': 42.54887}),\n",
              " (2510, 2514, {'w': 88.806435}),\n",
              " (2507, 2510, {'w': 62.975697}),\n",
              " (2510, 2516, {'w': 154.839935}),\n",
              " (2516, 2517, {'w': 11.296204}),\n",
              " (2519, 2523, {'w': 38.920761}),\n",
              " (2521, 2523, {'w': 17.590267}),\n",
              " (2514, 2521, {'w': 162.11113}),\n",
              " (2521, 2532, {'w': 131.558823}),\n",
              " (1459, 1465, {'w': 80.33161199999999}),\n",
              " (1465, 1467, {'w': 12.904542}),\n",
              " (1465, 1507, {'w': 405.789917}),\n",
              " (2651, 2652, {'w': 168.64978}),\n",
              " (66, 74, {'w': 193.469788}),\n",
              " (74, 80, {'w': 91.42865}),\n",
              " (74, 92, {'w': 191.286179}),\n",
              " (92, 104, {'w': 41.572998}),\n",
              " (104, 2685, {'w': 71.080208}),\n",
              " (2685, 2686, {'w': 163.085587}),\n",
              " (2686, 2689, {'w': 123.411057}),\n",
              " (2689, 2694, {'w': 195.20881699999998}),\n",
              " (1510, 2694, {'w': 180.734055}),\n",
              " (1496, 1510, {'w': 86.252914}),\n",
              " (2695, 2696, {'w': 20.717029999999998}),\n",
              " (2695, 2697, {'w': 36.67799}),\n",
              " (2695, 2698, {'w': 45.781254}),\n",
              " (2698, 2699, {'w': 69.596085}),\n",
              " (1537, 2699, {'w': 56.440380000000005}),\n",
              " (1530, 1537, {'w': 46.256001}),\n",
              " (1530, 1535, {'w': 38.986095}),\n",
              " (1522, 1530, {'w': 54.524364}),\n",
              " (31, 38, {'w': 34.547844}),\n",
              " (26, 31, {'w': 33.160835}),\n",
              " (20, 31, {'w': 78.042702}),\n",
              " (15, 23, {'w': 70.55471800000001}),\n",
              " (38, 44, {'w': 34.016487}),\n",
              " (2504, 2511, {'w': 108.506798}),\n",
              " (2502, 2504, {'w': 25.087917}),\n",
              " (2504, 2509, {'w': 63.853825}),\n",
              " (2509, 2513, {'w': 110.853783}),\n",
              " (2513, 2526, {'w': 211.368652}),\n",
              " (2511, 2513, {'w': 74.419701}),\n",
              " (2539, 2542, {'w': 108.318008}),\n",
              " (2538, 2539, {'w': 7.6449}),\n",
              " (2539, 2541, {'w': 65.712448}),\n",
              " (2541, 2544, {'w': 59.401379000000006}),\n",
              " (2544, 2546, {'w': 31.411386}),\n",
              " (2546, 2549, {'w': 78.55744200000001}),\n",
              " (105, 2549, {'w': 267.184143}),\n",
              " (96, 105, {'w': 28.83717}),\n",
              " (74, 96, {'w': 204.47659299999998}),\n",
              " (29, 41, {'w': 78.47090899999999}),\n",
              " (29, 34, {'w': 38.595222}),\n",
              " (22, 29, {'w': 29.937433000000002}),\n",
              " (22, 36, {'w': 72.042015}),\n",
              " (19, 22, {'w': 28.929461}),\n",
              " (19, 30, {'w': 69.35721600000001}),\n",
              " (15, 19, {'w': 33.156506}),\n",
              " (14, 15, {'w': 30.774278999999996}),\n",
              " (1372, 1387, {'w': 67.3228}),\n",
              " (1387, 1393, {'w': 38.325588}),\n",
              " (1393, 1400, {'w': 38.325344}),\n",
              " (1400, 1405, {'w': 38.819508}),\n",
              " (1405, 1500, {'w': 168.326279}),\n",
              " (1496, 1500, {'w': 44.776196}),\n",
              " (57, 60, {'w': 26.004272}),\n",
              " (55, 57, {'w': 81.431885}),\n",
              " (53, 55, {'w': 55.603062}),\n",
              " (51, 53, {'w': 14.207393}),\n",
              " (49, 51, {'w': 31.954646999999998}),\n",
              " (47, 49, {'w': 32.997025}),\n",
              " (2700, 2701, {'w': 51.666119}),\n",
              " (2701, 2702, {'w': 8.120736}),\n",
              " (810, 2702, {'w': 102.188324}),\n",
              " (2517, 2519, {'w': 62.764846999999996}),\n",
              " (2519, 2531, {'w': 78.129906}),\n",
              " (2526, 2533, {'w': 70.725975}),\n",
              " (2526, 2532, {'w': 32.926514000000005}),\n",
              " (2511, 2512, {'w': 53.236027}),\n",
              " (788, 1415, {'w': 134.514694}),\n",
              " (774, 813, {'w': 118.845047}),\n",
              " (813, 2631, {'w': 43.449936}),\n",
              " (2631, 2632, {'w': 50.24556}),\n",
              " (782, 792, {'w': 31.990972999999997}),\n",
              " (773, 782, {'w': 33.224281}),\n",
              " (760, 773, {'w': 44.235096}),\n",
              " (750, 760, {'w': 46.105396}),\n",
              " (748, 750, {'w': 15.526407999999998}),\n",
              " (745, 748, {'w': 13.175277}),\n",
              " (742, 745, {'w': 13.003418}),\n",
              " (740, 742, {'w': 15.097508}),\n",
              " (736, 740, {'w': 14.974639000000002}),\n",
              " (736, 790, {'w': 217.36853}),\n",
              " (727, 736, {'w': 61.249264000000004}),\n",
              " (2514, 2518, {'w': 180.34613000000002}),\n",
              " (2507, 2515, {'w': 207.726517}),\n",
              " (2503, 2507, {'w': 50.075153}),\n",
              " (2644, 2646, {'w': 11.468258}),\n",
              " (2644, 2647, {'w': 14.282673999999998}),\n",
              " (2647, 2649, {'w': 14.007629999999999}),\n",
              " (2646, 2649, {'w': 14.805619}),\n",
              " (1415, 1419, {'w': 33.674454}),\n",
              " (1419, 2696, {'w': 52.659992}),\n",
              " (1535, 2697, {'w': 41.630833}),\n",
              " (1522, 2704, {'w': 100.980568}),\n",
              " (1520, 1522, {'w': 15.118160999999999}),\n",
              " (46, 51, {'w': 104.61882800000001}),\n",
              " (41, 46, {'w': 36.939686}),\n",
              " (36, 41, {'w': 35.526089}),\n",
              " (30, 36, {'w': 38.818142}),\n",
              " (26, 30, {'w': 26.444440999999998}),\n",
              " (23, 26, {'w': 13.35655}),\n",
              " (724, 738, {'w': 95.03134200000001}),\n",
              " (724, 727, {'w': 26.113602}),\n",
              " (2704, 2705, {'w': 224.63075299999997}),\n",
              " (2703, 2704, {'w': 37.194122}),\n",
              " (2517, 2520, {'w': 79.360504}),\n",
              " (24, 40, {'w': 92.252983}),\n",
              " (17, 24, {'w': 53.434036}),\n",
              " (13, 17, {'w': 54.944244}),\n",
              " (10, 13, {'w': 64.94165799999999}),\n",
              " (2680, 2681, {'w': 25.858812}),\n",
              " (2681, 2682, {'w': 42.094578000000006}),\n",
              " (2617, 2682, {'w': 44.039654}),\n",
              " (2612, 2617, {'w': 25.3528}),\n",
              " (2606, 2612, {'w': 44.664677000000005}),\n",
              " (2597, 2606, {'w': 53.41114}),\n",
              " (2591, 2597, {'w': 32.943138}),\n",
              " (2584, 2591, {'w': 71.080116}),\n",
              " (2573, 2584, {'w': 93.291588}),\n",
              " (2564, 2573, {'w': 38.162582}),\n",
              " (2558, 2564, {'w': 103.98732}),\n",
              " (2551, 2558, {'w': 58.375083999999994}),\n",
              " (2547, 2551, {'w': 109.33512900000001}),\n",
              " (2542, 2547, {'w': 80.555252}),\n",
              " (2537, 2538, {'w': 124.51821899999999}),\n",
              " (2535, 2537, {'w': 78.820351}),\n",
              " (2534, 2535, {'w': 39.826954}),\n",
              " (2533, 2534, {'w': 71.16967}),\n",
              " (2515, 2518, {'w': 31.731159}),\n",
              " (2515, 2524, {'w': 131.66069}),\n",
              " (2522, 2525, {'w': 12.019871}),\n",
              " (2525, 2528, {'w': 10.150872}),\n",
              " (2528, 2529, {'w': 13.505586}),\n",
              " (2529, 2530, {'w': 11.579472}),\n",
              " (2527, 2530, {'w': 19.479668}),\n",
              " (2522, 2527, {'w': 16.22468}),\n",
              " (2512, 2522, {'w': 211.897018}),\n",
              " (2505, 2506, {'w': 22.083378}),\n",
              " (2506, 2508, {'w': 15.975585999999998}),\n",
              " (25, 38, {'w': 82.86367800000001}),\n",
              " (2691, 2692, {'w': 18.793173}),\n",
              " (2690, 2691, {'w': 87.384552}),\n",
              " (2691, 2693, {'w': 24.605206}),\n",
              " (2692, 2693, {'w': 16.87895}),\n",
              " (2688, 2690, {'w': 57.383404000000006}),\n",
              " (2687, 2688, {'w': 22.936135999999998}),\n",
              " (2686, 2687, {'w': 96.993027}),\n",
              " (1490, 1496, {'w': 96.47936999999999}),\n",
              " (1496, 1497, {'w': 4.755827}),\n",
              " (1497, 1499, {'w': 28.420252}),\n",
              " (1499, 1520, {'w': 100.925499}),\n",
              " (810, 2524, {'w': 80.714867}),\n",
              " (790, 810, {'w': 57.538025}),\n",
              " (35, 47, {'w': 76.03954300000001}),\n",
              " (34, 35, {'w': 20.848642}),\n",
              " (2679, 2680, {'w': 71.320274}),\n",
              " (2678, 2679, {'w': 18.136511}),\n",
              " (2677, 2678, {'w': 49.944835999999995}),\n",
              " (2676, 2677, {'w': 79.22258000000001}),\n",
              " (2675, 2676, {'w': 84.321564}),\n",
              " (2674, 2675, {'w': 95.042084}),\n",
              " (2673, 2674, {'w': 61.482647}),\n",
              " (2672, 2673, {'w': 102.222145}),\n",
              " (2670, 2672, {'w': 125.34513100000001}),\n",
              " (2670, 2671, {'w': 58.807049}),\n",
              " (9, 21, {'w': 499.884125}),\n",
              " (21, 27, {'w': 35.265373}),\n",
              " (27, 33, {'w': 42.497147}),\n",
              " (33, 66, {'w': 421.827362}),\n",
              " (80, 89, {'w': 78.442017}),\n",
              " (89, 110, {'w': 99.709038}),\n",
              " (2706, 2708, {'w': 97.046936}),\n",
              " (2706, 2707, {'w': 4.458496}),\n",
              " (364, 384, {'w': 344.33075}),\n",
              " (360, 364, {'w': 100.009163}),\n",
              " (2824, 2827, {'w': 294.227264}),\n",
              " (2824, 2825, {'w': 116.26013200000001}),\n",
              " (2824, 2826, {'w': 269.766602}),\n",
              " (444, 2826, {'w': 188.254837}),\n",
              " (2826, 2828, {'w': 66.49276}),\n",
              " (380, 389, {'w': 94.564217}),\n",
              " (361, 380, {'w': 396.783234}),\n",
              " (380, 385, {'w': 47.545601}),\n",
              " (2796, 2838, {'w': 104.271935}),\n",
              " (2838, 2839, {'w': 205.508255}),\n",
              " (2838, 2845, {'w': 664.5996700000001}),\n",
              " (2897, 2898, {'w': 135.39946}),\n",
              " (2898, 2899, {'w': 29.946517999999998}),\n",
              " (387, 392, {'w': 107.849411}),\n",
              " (373, 387, {'w': 116.63678700000001}),\n",
              " (387, 391, {'w': 65.52172900000001}),\n",
              " (391, 398, {'w': 98.402451}),\n",
              " (382, 391, {'w': 127.546074}),\n",
              " (442, 453, {'w': 46.67593}),\n",
              " (442, 445, {'w': 13.338525}),\n",
              " (424, 433, {'w': 54.698975}),\n",
              " (424, 426, {'w': 11.896367999999999}),\n",
              " (419, 424, {'w': 28.149294}),\n",
              " (2839, 2841, {'w': 239.70130899999998}),\n",
              " (2841, 2842, {'w': 29.697954}),\n",
              " (2842, 2844, {'w': 112.808273}),\n",
              " (2844, 2846, {'w': 162.739395}),\n",
              " (2846, 2851, {'w': 193.430054}),\n",
              " (2851, 2858, {'w': 300.142181}),\n",
              " (2858, 2886, {'w': 452.379913}),\n",
              " (2858, 2881, {'w': 366.35305800000003}),\n",
              " (368, 383, {'w': 203.499496}),\n",
              " (368, 378, {'w': 151.78833}),\n",
              " (363, 368, {'w': 219.861328}),\n",
              " (398, 418, {'w': 144.918106}),\n",
              " (392, 398, {'w': 65.66449}),\n",
              " (383, 392, {'w': 114.52901499999999}),\n",
              " (369, 373, {'w': 103.910248}),\n",
              " (373, 381, {'w': 51.243401}),\n",
              " (407, 430, {'w': 131.755722}),\n",
              " (378, 407, {'w': 303.342529}),\n",
              " (407, 2781, {'w': 327.607056}),\n",
              " (2778, 2781, {'w': 18.798265}),\n",
              " (418, 2781, {'w': 305.25546299999996}),\n",
              " (2852, 2853, {'w': 35.296791}),\n",
              " (2853, 2854, {'w': 64.451279}),\n",
              " (2854, 2856, {'w': 112.52552800000001}),\n",
              " (2856, 2861, {'w': 161.166306}),\n",
              " (2861, 2865, {'w': 114.02906000000002}),\n",
              " (2865, 2893, {'w': 307.830414}),\n",
              " (2886, 2893, {'w': 297.62667799999997}),\n",
              " (377, 415, {'w': 593.839294}),\n",
              " (431, 436, {'w': 24.616163}),\n",
              " (404, 431, {'w': 185.452133}),\n",
              " (431, 434, {'w': 21.262463}),\n",
              " (434, 438, {'w': 10.150872}),\n",
              " (436, 438, {'w': 16.674934}),\n",
              " (404, 449, {'w': 265.551636}),\n",
              " (390, 404, {'w': 133.55986000000001}),\n",
              " (2913, 2915, {'w': 24.24791}),\n",
              " (2913, 2917, {'w': 119.90043600000001}),\n",
              " (2913, 2914, {'w': 19.393704999999997}),\n",
              " (2914, 2916, {'w': 8.458864}),\n",
              " (2915, 2916, {'w': 13.533979}),\n",
              " (2917, 2919, {'w': 260.728668}),\n",
              " (2917, 2918, {'w': 36.776485}),\n",
              " (2919, 2922, {'w': 115.81481200000002}),\n",
              " (362, 363, {'w': 11.525787}),\n",
              " (363, 365, {'w': 119.54900400000001}),\n",
              " (359, 360, {'w': 108.947556}),\n",
              " (359, 361, {'w': 116.475151}),\n",
              " (385, 415, {'w': 258.713623}),\n",
              " (385, 394, {'w': 123.58146699999999}),\n",
              " (2847, 2849, {'w': 89.647644}),\n",
              " (2845, 2847, {'w': 87.2939}),\n",
              " (2845, 2850, {'w': 193.08102399999999}),\n",
              " (2850, 2855, {'w': 261.92431600000003}),\n",
              " (2850, 2852, {'w': 93.139679}),\n",
              " (2839, 2840, {'w': 221.732803}),\n",
              " (2840, 2843, {'w': 100.470375}),\n",
              " (2843, 2848, {'w': 311.96859700000005}),\n",
              " (449, 2848, {'w': 241.922821}),\n",
              " (386, 390, {'w': 74.581482}),\n",
              " (390, 395, {'w': 62.237629000000005}),\n",
              " (2881, 2884, {'w': 20.745878}),\n",
              " (465, 2884, {'w': 375.953094}),\n",
              " (2884, 2896, {'w': 194.39115900000002}),\n",
              " (358, 359, {'w': 133.637085}),\n",
              " (358, 362, {'w': 251.39102200000002}),\n",
              " (386, 403, {'w': 206.877579}),\n",
              " (370, 386, {'w': 181.08286999999999}),\n",
              " (415, 423, {'w': 84.661247}),\n",
              " (423, 427, {'w': 20.506098}),\n",
              " (427, 437, {'w': 61.072421999999996}),\n",
              " (437, 444, {'w': 24.883423}),\n",
              " (2828, 2829, {'w': 27.387579}),\n",
              " (2829, 2830, {'w': 20.849407}),\n",
              " (2830, 2831, {'w': 194.126831}),\n",
              " (2831, 2832, {'w': 66.214668}),\n",
              " (470, 2923, {'w': 64.396751}),\n",
              " (445, 470, {'w': 108.37463400000001}),\n",
              " (426, 442, {'w': 80.275635}),\n",
              " (412, 419, {'w': 70.721802}),\n",
              " (396, 412, {'w': 109.874077}),\n",
              " (384, 412, {'w': 268.404205}),\n",
              " (2778, 2809, {'w': 119.66858700000002}),\n",
              " (381, 382, {'w': 10.398475999999999}),\n",
              " (382, 396, {'w': 164.018814}),\n",
              " (2903, 2905, {'w': 120.739006}),\n",
              " (2901, 2903, {'w': 63.538662}),\n",
              " (2899, 2901, {'w': 96.040756}),\n",
              " (2899, 2900, {'w': 65.576538}),\n",
              " (2900, 2902, {'w': 44.725390999999995}),\n",
              " (2902, 2904, {'w': 60.148368999999995}),\n",
              " (2904, 2906, {'w': 155.404282}),\n",
              " (2906, 2908, {'w': 276.23407000000003}),\n",
              " (2906, 2907, {'w': 11.139453999999999}),\n",
              " (374, 383, {'w': 88.63369}),\n",
              " (367, 369, {'w': 81.778076}),\n",
              " (369, 374, {'w': 132.79830900000002}),\n",
              " (2881, 2895, {'w': 185.388657}),\n",
              " (422, 465, {'w': 185.619003}),\n",
              " (395, 422, {'w': 205.203339}),\n",
              " (362, 370, {'w': 262.253723}),\n",
              " (365, 367, {'w': 38.903824}),\n",
              " (2911, 2912, {'w': 64.841042}),\n",
              " (2910, 2911, {'w': 37.762959}),\n",
              " (2909, 2910, {'w': 196.36801100000002}),\n",
              " (2908, 2909, {'w': 21.011473000000002}),\n",
              " (449, 2907, {'w': 125.974098}),\n",
              " (449, 2918, {'w': 289.85733}),\n",
              " (422, 2918, {'w': 389.32165499999996}),\n",
              " (2836, 2837, {'w': 179.116272}),\n",
              " (2835, 2836, {'w': 60.597538}),\n",
              " (2834, 2835, {'w': 31.951171999999996}),\n",
              " (2833, 2834, {'w': 66.91967}),\n",
              " (2827, 2833, {'w': 355.40545699999996}),\n",
              " (2920, 2921, {'w': 78.246712}),\n",
              " (2919, 2920, {'w': 24.408297}),\n",
              " (371, 376, {'w': 84.742012}),\n",
              " (371, 374, {'w': 72.883095}),\n",
              " (367, 371, {'w': 117.51746399999999}),\n",
              " (406, 443, {'w': 212.059067}),\n",
              " (399, 409, {'w': 71.791374}),\n",
              " (452, 2924, {'w': 236.822815}),\n",
              " (2925, 2926, {'w': 36.752528999999996}),\n",
              " (2925, 2927, {'w': 39.588710999999996}),\n",
              " (2927, 2931, {'w': 42.031525}),\n",
              " (1036, 1050, {'w': 79.720062}),\n",
              " (1027, 1036, {'w': 28.620476}),\n",
              " (1022, 1027, {'w': 23.354817999999998}),\n",
              " (1013, 1022, {'w': 43.675259000000004}),\n",
              " (973, 974, {'w': 11.517578}),\n",
              " (974, 1006, {'w': 111.45752}),\n",
              " (966, 973, {'w': 56.100586}),\n",
              " (960, 966, {'w': 50.174564000000004}),\n",
              " (956, 960, {'w': 31.482634}),\n",
              " (952, 956, {'w': 71.717651}),\n",
              " (950, 952, {'w': 64.21859}),\n",
              " (949, 950, {'w': 78.32399000000001}),\n",
              " (462, 467, {'w': 50.257351}),\n",
              " (462, 471, {'w': 61.646533999999996}),\n",
              " (455, 462, {'w': 12.733512}),\n",
              " (441, 457, {'w': 59.235580000000006}),\n",
              " (441, 455, {'w': 54.621140000000004}),\n",
              " (432, 441, {'w': 38.466682}),\n",
              " (2753, 2759, {'w': 50.077961}),\n",
              " (2753, 2758, {'w': 49.632385}),\n",
              " (2748, 2753, {'w': 18.013752}),\n",
              " (2758, 2766, {'w': 57.113098}),\n",
              " (2758, 2760, {'w': 16.544153}),\n",
              " (2792, 2801, {'w': 36.230015}),\n",
              " (2777, 2792, {'w': 63.746834}),\n",
              " (471, 2792, {'w': 38.027107}),\n",
              " (2777, 2786, {'w': 41.279995}),\n",
              " (2767, 2777, {'w': 50.880081}),\n",
              " (3043, 3044, {'w': 20.422016}),\n",
              " (3044, 3046, {'w': 62.05001800000001}),\n",
              " (3044, 3045, {'w': 17.709011}),\n",
              " (3046, 3048, {'w': 13.105618}),\n",
              " (3047, 3049, {'w': 23.76841}),\n",
              " (3046, 3047, {'w': 8.001946}),\n",
              " (3050, 3051, {'w': 33.444973}),\n",
              " (3049, 3050, {'w': 15.343898000000001}),\n",
              " (3049, 3052, {'w': 83.346176}),\n",
              " (2810, 3056, {'w': 41.233292}),\n",
              " (2810, 3045, {'w': 56.587799}),\n",
              " (2794, 2810, {'w': 61.461605000000006}),\n",
              " (3057, 3058, {'w': 47.846030999999996}),\n",
              " (3058, 3059, {'w': 16.185316}),\n",
              " (2818, 3058, {'w': 45.385677}),\n",
              " (3059, 3060, {'w': 47.846030999999996}),\n",
              " (3059, 3061, {'w': 59.917480000000005}),\n",
              " (2813, 3065, {'w': 46.522808000000005}),\n",
              " (2813, 3063, {'w': 63.082539000000004}),\n",
              " (2802, 2813, {'w': 46.513931}),\n",
              " (3061, 3062, {'w': 34.994766}),\n",
              " (3063, 3064, {'w': 50.245792}),\n",
              " (2762, 2776, {'w': 87.67049399999999}),\n",
              " (2749, 2762, {'w': 90.691864}),\n",
              " (2762, 2768, {'w': 41.360104}),\n",
              " (2812, 3066, {'w': 65.068207}),\n",
              " (3054, 3055, {'w': 32.225876}),\n",
              " (3053, 3054, {'w': 43.267441}),\n",
              " (391, 410, {'w': 150.43438700000002}),\n",
              " (410, 417, {'w': 70.03398100000001}),\n",
              " (417, 464, {'w': 205.832092}),\n",
              " (464, 468, {'w': 35.322205}),\n",
              " (464, 3329, {'w': 100.507751}),\n",
              " (3067, 3068, {'w': 20.223329999999997}),\n",
              " (3180, 3185, {'w': 69.661888}),\n",
              " (3173, 3180, {'w': 52.76106600000001}),\n",
              " (3180, 3182, {'w': 15.735335999999998}),\n",
              " (3182, 3184, {'w': 13.15564}),\n",
              " (3184, 3187, {'w': 29.115658000000003}),\n",
              " (3186, 3187, {'w': 21.674456}),\n",
              " (1060, 3186, {'w': 93.722176}),\n",
              " (3186, 3188, {'w': 75.294235}),\n",
              " (964, 978, {'w': 95.821655}),\n",
              " (978, 984, {'w': 16.948875}),\n",
              " (978, 993, {'w': 64.987373}),\n",
              " (996, 1005, {'w': 24.231417}),\n",
              " (991, 996, {'w': 27.960037}),\n",
              " (987, 996, {'w': 58.113964}),\n",
              " (981, 987, {'w': 19.428444}),\n",
              " (975, 979, {'w': 13.085238}),\n",
              " (979, 981, {'w': 4.386207}),\n",
              " (979, 990, {'w': 35.977303000000006}),\n",
              " (981, 990, {'w': 35.841377}),\n",
              " (990, 992, {'w': 10.981213}),\n",
              " (990, 1012, {'w': 74.41931899999999}),\n",
              " (3002, 3004, {'w': 15.82523}),\n",
              " (2988, 3002, {'w': 64.811325}),\n",
              " (2988, 2990, {'w': 36.046406}),\n",
              " (2985, 2988, {'w': 17.568686}),\n",
              " (3189, 3190, {'w': 133.084442}),\n",
              " (2994, 3003, {'w': 47.754211}),\n",
              " (3003, 3008, {'w': 15.384569}),\n",
              " (3008, 3009, {'w': 12.513166}),\n",
              " (3009, 3012, {'w': 7.368271000000001}),\n",
              " (3003, 3009, {'w': 15.457697}),\n",
              " (3138, 3155, {'w': 187.567215}),\n",
              " (3138, 3150, {'w': 127.607597}),\n",
              " (3134, 3138, {'w': 50.827393}),\n",
              " (3155, 3307, {'w': 353.980255}),\n",
              " (2775, 2794, {'w': 79.783096}),\n",
              " (2768, 2775, {'w': 41.739468}),\n",
              " (2775, 2812, {'w': 153.536972}),\n",
              " (2794, 2806, {'w': 45.404796999999995}),\n",
              " (2806, 2818, {'w': 39.786327}),\n",
              " (2818, 3053, {'w': 98.06777199999999}),\n",
              " (3052, 3053, {'w': 36.684032}),\n",
              " (463, 3052, {'w': 57.498863}),\n",
              " (446, 463, {'w': 60.474026}),\n",
              " (418, 428, {'w': 53.852909}),\n",
              " (3157, 3161, {'w': 13.663103}),\n",
              " (3150, 3157, {'w': 86.233124}),\n",
              " (3161, 3176, {'w': 104.737984}),\n",
              " (3172, 3176, {'w': 51.017761}),\n",
              " (3172, 3308, {'w': 92.39418}),\n",
              " (3308, 3309, {'w': 52.126415}),\n",
              " (3308, 3310, {'w': 142.344849}),\n",
              " (1024, 3310, {'w': 217.516373}),\n",
              " (1014, 1024, {'w': 53.873771999999995}),\n",
              " (1024, 1025, {'w': 13.552307}),\n",
              " (2942, 2944, {'w': 7.109425}),\n",
              " (2944, 2947, {'w': 11.606760000000001}),\n",
              " (2942, 2955, {'w': 50.458508}),\n",
              " (2955, 2961, {'w': 42.838276}),\n",
              " (2940, 2961, {'w': 140.039001}),\n",
              " (3079, 3085, {'w': 111.69988300000001}),\n",
              " (3085, 3088, {'w': 13.828814000000001}),\n",
              " (3085, 3103, {'w': 111.04124499999999}),\n",
              " (2943, 2965, {'w': 158.45867900000002}),\n",
              " (2937, 2943, {'w': 74.143982}),\n",
              " (2943, 2949, {'w': 132.81636}),\n",
              " (2949, 2951, {'w': 4.792141}),\n",
              " (2939, 2949, {'w': 68.22269399999999}),\n",
              " (3209, 3210, {'w': 30.199271999999997}),\n",
              " (3207, 3209, {'w': 46.160351}),\n",
              " (3206, 3207, {'w': 37.325511999999996}),\n",
              " (3205, 3206, {'w': 24.168964000000003}),\n",
              " (3201, 3205, {'w': 165.271759}),\n",
              " (3201, 3202, {'w': 33.531231}),\n",
              " (3198, 3201, {'w': 88.275131}),\n",
              " (2971, 2973, {'w': 14.808859}),\n",
              " (2946, 2971, {'w': 178.269913}),\n",
              " (2946, 2953, {'w': 31.589547999999997}),\n",
              " (2938, 2946, {'w': 65.154945}),\n",
              " (3160, 3166, {'w': 65.13595600000001}),\n",
              " (3166, 3169, {'w': 13.505586}),\n",
              " (3166, 3171, {'w': 18.417553}),\n",
              " (3171, 3174, {'w': 14.736612}),\n",
              " (3169, 3174, {'w': 19.909531}),\n",
              " (3162, 3177, {'w': 93.308876}),\n",
              " (3177, 3311, {'w': 103.735283}),\n",
              " (3311, 3312, {'w': 100.019234}),\n",
              " (1045, 3312, {'w': 155.54953}),\n",
              " (1025, 1045, {'w': 87.697006}),\n",
              " (1045, 1064, {'w': 80.961212}),\n",
              " (2433, 2438, {'w': 30.366795}),\n",
              " (2431, 2433, {'w': 13.275317000000001}),\n",
              " (2433, 2444, {'w': 75.01840200000001}),\n",
              " (3094, 3100, {'w': 36.988003000000006}),\n",
              " (3100, 3102, {'w': 11.217485}),\n",
              " (3092, 3100, {'w': 51.56562}),\n",
              " (3083, 3092, {'w': 79.03484300000001}),\n",
              " (3080, 3083, {'w': 74.560913}),\n",
              " (3068, 3069, {'w': 29.074034}),\n",
              " (3069, 3075, {'w': 166.334152}),\n",
              " (3069, 3072, {'w': 97.972321}),\n",
              " (3072, 3079, {'w': 119.42831399999999}),\n",
              " (3072, 3076, {'w': 77.732475}),\n",
              " (3194, 3197, {'w': 114.033882}),\n",
              " (3192, 3194, {'w': 147.060806}),\n",
              " (3037, 3194, {'w': 106.426773}),\n",
              " (2979, 2983, {'w': 75.839493}),\n",
              " (2974, 2979, {'w': 48.627842}),\n",
              " (2971, 2974, {'w': 27.213397999999998}),\n",
              " (2973, 2976, {'w': 23.258293}),\n",
              " (1062, 2976, {'w': 90.24767299999999}),\n",
              " (1057, 1062, {'w': 20.090214000000003}),\n",
              " (1057, 1058, {'w': 6.899399000000001}),\n",
              " (3164, 3167, {'w': 16.256485}),\n",
              " (466, 3129, {'w': 172.377594}),\n",
              " (451, 466, {'w': 72.31907700000001}),\n",
              " (466, 3175, {'w': 212.97261}),\n",
              " (2446, 2456, {'w': 34.366661}),\n",
              " (2456, 2465, {'w': 54.895035}),\n",
              " (2465, 2957, {'w': 372.392548}),\n",
              " (2950, 2957, {'w': 39.036362}),\n",
              " (2950, 2956, {'w': 31.657627}),\n",
              " (3068, 3070, {'w': 100.782791}),\n",
              " (3071, 3074, {'w': 78.780922}),\n",
              " (3070, 3071, {'w': 5.670001999999999}),\n",
              " (3071, 3073, {'w': 38.156445}),\n",
              " (3073, 3077, {'w': 77.813301}),\n",
              " (3077, 3078, {'w': 22.132399}),\n",
              " (3077, 3081, {'w': 42.878159000000004}),\n",
              " (1052, 3313, {'w': 73.09630600000001}),\n",
              " (1027, 1052, {'w': 117.51042199999999}),\n",
              " (1052, 1061, {'w': 39.382236}),\n",
              " (3164, 3175, {'w': 46.526489}),\n",
              " (3151, 3164, {'w': 136.448242}),\n",
              " (3148, 3151, {'w': 53.156853000000005}),\n",
              " (2812, 3148, {'w': 76.92349200000001}),\n",
              " (3145, 3148, {'w': 35.723141}),\n",
              " (432, 446, {'w': 55.787659}),\n",
              " (428, 432, {'w': 26.004625}),\n",
              " (3314, 3317, {'w': 52.129311}),\n",
              " (3314, 3315, {'w': 8.362596}),\n",
              " (3315, 3316, {'w': 7.188325}),\n",
              " (3040, 3317, {'w': 33.26025}),\n",
              " (3035, 3040, {'w': 51.476887}),\n",
              " (2934, 2937, {'w': 30.387736999999998}),\n",
              " (2929, 2934, {'w': 38.607388}),\n",
              " (2926, 2929, {'w': 38.603516}),\n",
              " (2926, 2930, {'w': 42.95525}),\n",
              " (2930, 2933, {'w': 29.887045}),\n",
              " (2933, 2938, {'w': 51.212967}),\n",
              " (2945, 2948, {'w': 11.879281}),\n",
              " (2938, 2945, {'w': 58.94746800000001}),\n",
              " (2945, 2954, {'w': 41.08567}),\n",
              " (2954, 2964, {'w': 97.42795600000001}),\n",
              " (1050, 2457, {'w': 127.47979699999999}),\n",
              " (1050, 3449, {'w': 79.4011}),\n",
              " (1050, 2964, {'w': 105.536324}),\n",
              " (3160, 3162, {'w': 22.767349}),\n",
              " (3155, 3160, {'w': 39.507687}),\n",
              " (3128, 3136, {'w': 63.118317000000005}),\n",
              " (3119, 3128, {'w': 55.90232099999999}),\n",
              " (3110, 3119, {'w': 62.336418}),\n",
              " (3110, 3124, {'w': 92.052223}),\n",
              " (3091, 3110, {'w': 123.076378}),\n",
              " (963, 964, {'w': 32.071213}),\n",
              " (953, 963, {'w': 85.255028}),\n",
              " (971, 972, {'w': 11.024511}),\n",
              " (972, 986, {'w': 53.903572}),\n",
              " (986, 991, {'w': 12.834507}),\n",
              " (1005, 1014, {'w': 27.886301}),\n",
              " (3016, 3029, {'w': 61.963809999999995}),\n",
              " (3029, 3035, {'w': 21.368689}),\n",
              " (2965, 2989, {'w': 179.33909599999998}),\n",
              " (2965, 2981, {'w': 111.51276399999999}),\n",
              " (2390, 2393, {'w': 13.828379}),\n",
              " (2393, 2394, {'w': 14.588915}),\n",
              " (2393, 2404, {'w': 75.448036}),\n",
              " (2407, 2411, {'w': 10.837708000000001}),\n",
              " (2407, 2411, {'w': 10.837708000000001}),\n",
              " (2405, 2407, {'w': 12.307736}),\n",
              " (2395, 2405, {'w': 82.466408}),\n",
              " (2384, 2389, {'w': 69.138863}),\n",
              " (2384, 2395, {'w': 109.54173300000001}),\n",
              " (2384, 2400, {'w': 172.398727}),\n",
              " (2400, 2410, {'w': 54.720493000000005}),\n",
              " (3038, 3152, {'w': 69.32337199999999}),\n",
              " (3021, 3038, {'w': 90.819702}),\n",
              " (3038, 3321, {'w': 81.03613299999999}),\n",
              " (3320, 3321, {'w': 26.202310999999998}),\n",
              " (3320, 3322, {'w': 27.764212}),\n",
              " (3042, 3322, {'w': 23.777344}),\n",
              " (3036, 3042, {'w': 80.50188399999999}),\n",
              " (3007, 3036, {'w': 111.748573}),\n",
              " (2999, 3007, {'w': 32.448440999999995}),\n",
              " (2993, 2999, {'w': 31.705621999999998}),\n",
              " (2986, 2993, {'w': 35.525814000000004}),\n",
              " (2986, 3010, {'w': 100.251068}),\n",
              " (2981, 2986, {'w': 59.374001}),\n",
              " (3035, 3105, {'w': 94.325699}),\n",
              " (3095, 3105, {'w': 58.957687}),\n",
              " (3088, 3095, {'w': 43.765865000000005}),\n",
              " (3076, 3087, {'w': 164.150543}),\n",
              " (435, 3087, {'w': 148.90098600000002}),\n",
              " (964, 967, {'w': 16.857059}),\n",
              " (984, 1051, {'w': 277.538422}),\n",
              " (2749, 2760, {'w': 89.20744300000001}),\n",
              " (2745, 2748, {'w': 28.059466999999998}),\n",
              " (2745, 2767, {'w': 159.682266}),\n",
              " (2736, 2745, {'w': 76.919617}),\n",
              " (3098, 3107, {'w': 46.398567}),\n",
              " (3080, 3098, {'w': 176.023209}),\n",
              " (3075, 3080, {'w': 62.905666000000004}),\n",
              " (2396, 2398, {'w': 30.284540000000003}),\n",
              " (2388, 2396, {'w': 44.457451}),\n",
              " (2385, 2388, {'w': 47.180446999999994}),\n",
              " (2385, 2391, {'w': 70.04927099999999}),\n",
              " (2967, 2977, {'w': 64.490593}),\n",
              " (2967, 2991, {'w': 188.114731}),\n",
              " (2991, 2994, {'w': 8.235284}),\n",
              " (2994, 3014, {'w': 81.727974}),\n",
              " (3014, 3018, {'w': 27.387949}),\n",
              " (3321, 3323, {'w': 75.454071}),\n",
              " (3162, 3172, {'w': 70.602005}),\n",
              " (409, 450, {'w': 230.457794}),\n",
              " (406, 409, {'w': 10.714252}),\n",
              " (388, 406, {'w': 191.213928}),\n",
              " (388, 408, {'w': 201.829071}),\n",
              " (384, 388, {'w': 49.591801000000004}),\n",
              " (3033, 3036, {'w': 109.928574}),\n",
              " (3028, 3033, {'w': 14.894175}),\n",
              " (2985, 3028, {'w': 193.41751100000002}),\n",
              " (2978, 2985, {'w': 69.436409}),\n",
              " (1005, 1023, {'w': 78.114731}),\n",
              " (1023, 1042, {'w': 70.386894}),\n",
              " (3161, 3165, {'w': 63.538502}),\n",
              " (3165, 3173, {'w': 29.560452}),\n",
              " (1051, 1060, {'w': 37.94836}),\n",
              " (1060, 3309, {'w': 83.897774}),\n",
              " (397, 401, {'w': 51.430252}),\n",
              " (396, 397, {'w': 4.275812999999999}),\n",
              " (3089, 3104, {'w': 100.796509}),\n",
              " (3090, 3104, {'w': 112.764702}),\n",
              " (3081, 3090, {'w': 123.185501}),\n",
              " (3090, 3093, {'w': 26.073147}),\n",
              " (988, 998, {'w': 39.875977}),\n",
              " (973, 988, {'w': 57.693358999999994}),\n",
              " (988, 1018, {'w': 118.56233999999999}),\n",
              " (1018, 1033, {'w': 64.266968}),\n",
              " (1006, 1018, {'w': 74.446663}),\n",
              " (2932, 2935, {'w': 40.5308}),\n",
              " (2935, 2940, {'w': 44.859756}),\n",
              " (2940, 2950, {'w': 66.538956}),\n",
              " (3019, 3024, {'w': 25.177547}),\n",
              " (3024, 3027, {'w': 27.402451}),\n",
              " (2990, 3027, {'w': 156.884369}),\n",
              " (2984, 2990, {'w': 46.755238}),\n",
              " (957, 969, {'w': 80.456131}),\n",
              " (969, 975, {'w': 61.975475}),\n",
              " (992, 1002, {'w': 37.023346000000004}),\n",
              " (998, 1002, {'w': 24.89209}),\n",
              " (998, 1001, {'w': 8.492508}),\n",
              " (2392, 2394, {'w': 16.980455}),\n",
              " (2394, 2406, {'w': 93.318024}),\n",
              " (2406, 2414, {'w': 22.742104}),\n",
              " (2406, 2416, {'w': 55.07762099999999}),\n",
              " (967, 971, {'w': 38.826687}),\n",
              " (957, 967, {'w': 87.008179}),\n",
              " (952, 957, {'w': 82.719604}),\n",
              " (1033, 1046, {'w': 81.55257399999999}),\n",
              " (1001, 1033, {'w': 117.098495}),\n",
              " (1006, 1013, {'w': 16.347168}),\n",
              " (2396, 2402, {'w': 117.74202700000001}),\n",
              " (2402, 2408, {'w': 36.791565000000006}),\n",
              " (2391, 2402, {'w': 85.884766}),\n",
              " (2402, 2412, {'w': 67.612083}),\n",
              " (2412, 2417, {'w': 40.889038}),\n",
              " (2401, 2412, {'w': 47.306393}),\n",
              " (3081, 3089, {'w': 108.3312}),\n",
              " (3089, 3096, {'w': 49.770008000000004}),\n",
              " (3096, 3114, {'w': 124.16176599999999}),\n",
              " (3114, 3120, {'w': 45.326172}),\n",
              " (3120, 3122, {'w': 8.193799}),\n",
              " (3120, 3126, {'w': 30.541069}),\n",
              " (3115, 3129, {'w': 87.65078000000001}),\n",
              " (3102, 3129, {'w': 199.550522}),\n",
              " (3126, 3130, {'w': 30.140615000000004}),\n",
              " (3126, 3147, {'w': 202.437225}),\n",
              " (3147, 3149, {'w': 25.044134}),\n",
              " (2425, 2426, {'w': 28.768887}),\n",
              " (2419, 2425, {'w': 91.175926}),\n",
              " ...]"
            ]
          },
          "metadata": {
            "tags": []
          },
          "execution_count": 10
        }
      ]
    },
    {
      "cell_type": "code",
      "metadata": {
        "id": "GpN-0-STfoeO",
        "colab_type": "code",
        "colab": {
          "base_uri": "https://localhost:8080/",
          "height": 190
        },
        "outputId": "4e9bf420-a1b7-4f7c-b462-3767989bf53a"
      },
      "source": [
        "!pip install ipython-autotime"
      ],
      "execution_count": 12,
      "outputs": [
        {
          "output_type": "stream",
          "text": [
            "Collecting ipython-autotime\n",
            "  Downloading https://files.pythonhosted.org/packages/e6/f9/0626bbdb322e3a078d968e87e3b01341e7890544de891d0cb613641220e6/ipython-autotime-0.1.tar.bz2\n",
            "Building wheels for collected packages: ipython-autotime\n",
            "  Building wheel for ipython-autotime (setup.py) ... \u001b[?25l\u001b[?25hdone\n",
            "  Created wheel for ipython-autotime: filename=ipython_autotime-0.1-cp36-none-any.whl size=1832 sha256=26e13d54e573c93d38384aaae1d1b17422d2c3fab51a6b11abe94b6262f16518\n",
            "  Stored in directory: /root/.cache/pip/wheels/d2/df/81/2db1e54bc91002cec40334629bc39cfa86dff540b304ebcd6e\n",
            "Successfully built ipython-autotime\n",
            "Installing collected packages: ipython-autotime\n",
            "Successfully installed ipython-autotime-0.1\n"
          ],
          "name": "stdout"
        }
      ]
    },
    {
      "cell_type": "code",
      "metadata": {
        "id": "_Zops2LWWRjk",
        "colab_type": "code",
        "colab": {}
      },
      "source": [
        "%load_ext autotime"
      ],
      "execution_count": 0,
      "outputs": []
    },
    {
      "cell_type": "code",
      "metadata": {
        "id": "NDq_z5f0QtJb",
        "colab_type": "code",
        "outputId": "c78e92c5-badf-47bc-d128-fb5420666a32",
        "colab": {
          "base_uri": "https://localhost:8080/",
          "height": 51
        }
      },
      "source": [
        "\n",
        "from networkx import Graph\n",
        "G = Graph()\n",
        "G.add_nodes_from(nodes[\"Node_ID\"])\n",
        "G.add_edges_from(edgelist)\n",
        "\n",
        "print(f\"The graph has {G.number_of_nodes()} nodes and {G.number_of_edges()} edges.\")"
      ],
      "execution_count": 14,
      "outputs": [
        {
          "output_type": "stream",
          "text": [
            "The graph has 3278 nodes and 1999 edges.\n",
            "time: 435 ms\n"
          ],
          "name": "stdout"
        }
      ]
    },
    {
      "cell_type": "code",
      "metadata": {
        "id": "XC-1Q9tYVmK4",
        "colab_type": "code",
        "colab": {}
      },
      "source": [
        ""
      ],
      "execution_count": 0,
      "outputs": []
    },
    {
      "cell_type": "code",
      "metadata": {
        "id": "we_H_gEvQnzD",
        "colab_type": "code",
        "outputId": "5b1966c0-9c5c-4c9f-c80d-e2e61a7a437f",
        "colab": {
          "base_uri": "https://localhost:8080/",
          "height": 34
        }
      },
      "source": [
        "def get_shortest_path(G):\n",
        "    from networkx import all_pairs_dijkstra_path\n",
        "    return dict(all_pairs_dijkstra_path(G, weight='w'))\n",
        "start = nodes[\"Node_ID\"].iloc[1]\n",
        "finish = nodes[\"Node_ID\"].iloc[3]\n",
        "#print(f\"Calculating a shortest path between all pairs of nodes\")\n",
        "path1 = get_shortest_path(G)\n",
        "#print(f\"\\n==> This cell made a dictionary of shortest paths using networkX `{type(path)}`:\")\n",
        "#print(\"To use, enter two nodeID's and this will return the shortest path.\")\n",
        "#print(\"If there is no path,it will throw a key error as the pairs that cannot be reached are not stored.\")\n",
        "\n",
        "#print(path[start][finish])"
      ],
      "execution_count": 17,
      "outputs": [
        {
          "output_type": "stream",
          "text": [
            "time: 12.2 s\n"
          ],
          "name": "stdout"
        }
      ]
    },
    {
      "cell_type": "code",
      "metadata": {
        "id": "mG6OdsTpfyD0",
        "colab_type": "code",
        "colab": {
          "base_uri": "https://localhost:8080/",
          "height": 34
        },
        "outputId": "94d1649f-659e-459c-d292-be50dab4b949"
      },
      "source": [
        "def get_shortest_path(G):\n",
        "    from networkx import all_pairs_bellman_ford_path\n",
        "    return dict(all_pairs_bellman_ford_path(G, weight='w'))\n",
        "start = nodes[\"Node_ID\"].iloc[1]\n",
        "finish = nodes[\"Node_ID\"].iloc[3]\n",
        "#print(f\"Calculating a shortest path between all pairs of nodes\")\n",
        "path = get_shortest_path(G)\n",
        "#print(f\"\\n==> This cell made a dictionary of shortest paths using networkX `{type(path)}`:\")\n",
        "#print(\"To use, enter two nodeID's and this will return the shortest path.\")\n",
        "#print(\"If there is no path,it will throw a key error as the pairs that cannot be reached are not stored.\")\n",
        "\n",
        "#print(path[start][finish])"
      ],
      "execution_count": 16,
      "outputs": [
        {
          "output_type": "stream",
          "text": [
            "time: 52 s\n"
          ],
          "name": "stdout"
        }
      ]
    },
    {
      "cell_type": "code",
      "metadata": {
        "id": "u6gTo__Uz2Ym",
        "colab_type": "code",
        "outputId": "890f5380-ca1b-4f97-dc4e-c8e005a65fb2",
        "colab": {
          "base_uri": "https://localhost:8080/",
          "height": 51
        }
      },
      "source": [
        "print(path1==path)"
      ],
      "execution_count": 18,
      "outputs": [
        {
          "output_type": "stream",
          "text": [
            "True\n",
            "time: 767 ms\n"
          ],
          "name": "stdout"
        }
      ]
    },
    {
      "cell_type": "code",
      "metadata": {
        "id": "-2wWpLzE09dW",
        "colab_type": "code",
        "outputId": "6e70c816-0273-4cf8-ee4e-3a22f2c6b4c6",
        "colab": {
          "base_uri": "https://localhost:8080/",
          "height": 51
        }
      },
      "source": [
        "print(path[1][8])"
      ],
      "execution_count": 20,
      "outputs": [
        {
          "output_type": "stream",
          "text": [
            "[1, 3, 4, 6, 8]\n",
            "time: 958 µs\n"
          ],
          "name": "stdout"
        }
      ]
    },
    {
      "cell_type": "code",
      "metadata": {
        "id": "lpauLpO3yl7E",
        "colab_type": "code",
        "colab": {
          "base_uri": "https://localhost:8080/",
          "height": 378
        },
        "outputId": "b0c59468-dec8-4fc2-ebe6-c9014e1c888e"
      },
      "source": [
        "from networkx import floyd_warshall\n",
        "\n",
        "pathfw = floyd_warshall(G)\n"
      ],
      "execution_count": 68,
      "outputs": [
        {
          "output_type": "error",
          "ename": "KeyboardInterrupt",
          "evalue": "ignored",
          "traceback": [
            "\u001b[0;31m---------------------------------------------------------------------------\u001b[0m",
            "\u001b[0;31mKeyboardInterrupt\u001b[0m                         Traceback (most recent call last)",
            "\u001b[0;32m<ipython-input-68-2e08aa269beb>\u001b[0m in \u001b[0;36m<module>\u001b[0;34m()\u001b[0m\n\u001b[1;32m      1\u001b[0m \u001b[0;32mfrom\u001b[0m \u001b[0mnetworkx\u001b[0m \u001b[0;32mimport\u001b[0m \u001b[0mfloyd_warshall\u001b[0m\u001b[0;34m\u001b[0m\u001b[0;34m\u001b[0m\u001b[0m\n\u001b[1;32m      2\u001b[0m \u001b[0;34m\u001b[0m\u001b[0m\n\u001b[0;32m----> 3\u001b[0;31m \u001b[0mpathfw\u001b[0m \u001b[0;34m=\u001b[0m \u001b[0mfloyd_warshall\u001b[0m\u001b[0;34m(\u001b[0m\u001b[0mG\u001b[0m\u001b[0;34m)\u001b[0m\u001b[0;34m\u001b[0m\u001b[0;34m\u001b[0m\u001b[0m\n\u001b[0m",
            "\u001b[0;32m/usr/local/lib/python3.6/dist-packages/networkx/algorithms/shortest_paths/dense.py\u001b[0m in \u001b[0;36mfloyd_warshall\u001b[0;34m(G, weight)\u001b[0m\n\u001b[1;32m    209\u001b[0m     \"\"\"\n\u001b[1;32m    210\u001b[0m     \u001b[0;31m# could make this its own function to reduce memory costs\u001b[0m\u001b[0;34m\u001b[0m\u001b[0;34m\u001b[0m\u001b[0;34m\u001b[0m\u001b[0m\n\u001b[0;32m--> 211\u001b[0;31m     \u001b[0;32mreturn\u001b[0m \u001b[0mfloyd_warshall_predecessor_and_distance\u001b[0m\u001b[0;34m(\u001b[0m\u001b[0mG\u001b[0m\u001b[0;34m,\u001b[0m \u001b[0mweight\u001b[0m\u001b[0;34m=\u001b[0m\u001b[0mweight\u001b[0m\u001b[0;34m)\u001b[0m\u001b[0;34m[\u001b[0m\u001b[0;36m1\u001b[0m\u001b[0;34m]\u001b[0m\u001b[0;34m\u001b[0m\u001b[0;34m\u001b[0m\u001b[0m\n\u001b[0m\u001b[1;32m    212\u001b[0m \u001b[0;34m\u001b[0m\u001b[0m\n\u001b[1;32m    213\u001b[0m \u001b[0;34m\u001b[0m\u001b[0m\n",
            "\u001b[0;32m/usr/local/lib/python3.6/dist-packages/networkx/algorithms/shortest_paths/dense.py\u001b[0m in \u001b[0;36mfloyd_warshall_predecessor_and_distance\u001b[0;34m(G, weight)\u001b[0m\n\u001b[1;32m    128\u001b[0m             \u001b[0;32mfor\u001b[0m \u001b[0mv\u001b[0m \u001b[0;32min\u001b[0m \u001b[0mG\u001b[0m\u001b[0;34m:\u001b[0m\u001b[0;34m\u001b[0m\u001b[0;34m\u001b[0m\u001b[0m\n\u001b[1;32m    129\u001b[0m                 \u001b[0md\u001b[0m \u001b[0;34m=\u001b[0m \u001b[0mdist_u\u001b[0m\u001b[0;34m[\u001b[0m\u001b[0mw\u001b[0m\u001b[0;34m]\u001b[0m \u001b[0;34m+\u001b[0m \u001b[0mdist_w\u001b[0m\u001b[0;34m[\u001b[0m\u001b[0mv\u001b[0m\u001b[0;34m]\u001b[0m\u001b[0;34m\u001b[0m\u001b[0;34m\u001b[0m\u001b[0m\n\u001b[0;32m--> 130\u001b[0;31m                 \u001b[0;32mif\u001b[0m \u001b[0mdist_u\u001b[0m\u001b[0;34m[\u001b[0m\u001b[0mv\u001b[0m\u001b[0;34m]\u001b[0m \u001b[0;34m>\u001b[0m \u001b[0md\u001b[0m\u001b[0;34m:\u001b[0m\u001b[0;34m\u001b[0m\u001b[0;34m\u001b[0m\u001b[0m\n\u001b[0m\u001b[1;32m    131\u001b[0m                     \u001b[0mdist_u\u001b[0m\u001b[0;34m[\u001b[0m\u001b[0mv\u001b[0m\u001b[0;34m]\u001b[0m \u001b[0;34m=\u001b[0m \u001b[0md\u001b[0m\u001b[0;34m\u001b[0m\u001b[0;34m\u001b[0m\u001b[0m\n\u001b[1;32m    132\u001b[0m                     \u001b[0mpred\u001b[0m\u001b[0;34m[\u001b[0m\u001b[0mu\u001b[0m\u001b[0;34m]\u001b[0m\u001b[0;34m[\u001b[0m\u001b[0mv\u001b[0m\u001b[0;34m]\u001b[0m \u001b[0;34m=\u001b[0m \u001b[0mpred\u001b[0m\u001b[0;34m[\u001b[0m\u001b[0mw\u001b[0m\u001b[0;34m]\u001b[0m\u001b[0;34m[\u001b[0m\u001b[0mv\u001b[0m\u001b[0;34m]\u001b[0m\u001b[0;34m\u001b[0m\u001b[0;34m\u001b[0m\u001b[0m\n",
            "\u001b[0;31mKeyboardInterrupt\u001b[0m: "
          ]
        },
        {
          "output_type": "stream",
          "text": [
            "time: 43.9 s\n"
          ],
          "name": "stdout"
        }
      ]
    },
    {
      "cell_type": "markdown",
      "metadata": {
        "id": "J1l4FbrqgIwK",
        "colab_type": "text"
      },
      "source": [
        "The two cells above demonstrate an important point: this can take different amounts of time. Using networkX's bellman ford APSP took 52 seconds, and using their dijkstras it only took 14 (non gpu for both)! Using their FW, it took (although this returns the pred as well, so it's a significantly more work). The advantage of bellman ford is that it can handle negative edge weights, but it is slower. Below, I will be trying to use Numba to speed this up even more  "
      ]
    },
    {
      "cell_type": "code",
      "metadata": {
        "id": "_pCFppHVpr8M",
        "colab_type": "code",
        "colab": {
          "base_uri": "https://localhost:8080/",
          "height": 102
        },
        "outputId": "f4986519-5be0-4111-8c81-1a87011ac11b"
      },
      "source": [
        "!pip install numba"
      ],
      "execution_count": 30,
      "outputs": [
        {
          "output_type": "stream",
          "text": [
            "Requirement already satisfied: numba in /usr/local/lib/python3.6/dist-packages (0.48.0)\n",
            "Requirement already satisfied: llvmlite<0.32.0,>=0.31.0dev0 in /usr/local/lib/python3.6/dist-packages (from numba) (0.31.0)\n",
            "Requirement already satisfied: setuptools in /usr/local/lib/python3.6/dist-packages (from numba) (46.3.0)\n",
            "Requirement already satisfied: numpy>=1.15 in /usr/local/lib/python3.6/dist-packages (from numba) (1.18.4)\n",
            "time: 2.81 s\n"
          ],
          "name": "stdout"
        }
      ]
    },
    {
      "cell_type": "code",
      "metadata": {
        "id": "LeONmtkGp256",
        "colab_type": "code",
        "colab": {}
      },
      "source": [
        ""
      ],
      "execution_count": 0,
      "outputs": []
    },
    {
      "cell_type": "code",
      "metadata": {
        "id": "e7mxa8acgsw7",
        "colab_type": "code",
        "colab": {
          "base_uri": "https://localhost:8080/",
          "height": 34
        },
        "outputId": "fbb574d5-838f-43cb-88da-cb80fce3c20e"
      },
      "source": [
        "from heapq import heappush, heappop\n",
        "from itertools import count\n",
        "from numba import jit\n",
        "#@jit(nopython=True)\n",
        "def _dijkstra_multisource(G, sources, weight, pred=None, paths=None,\n",
        "                          cutoff=None, target=None):\n",
        "    G_succ = G._succ if G.is_directed() else G._adj\n",
        "\n",
        "    push = heappush\n",
        "    pop = heappop\n",
        "    dist = {}  # dictionary of final distances\n",
        "    seen = {}\n",
        "    # fringe is heapq with 3-tuples (distance,c,node)\n",
        "    # use the count c to avoid comparing nodes (may not be able to)\n",
        "    c = count()\n",
        "    fringe = []\n",
        "    for source in sources:\n",
        "        if source not in G:\n",
        "            raise nx.NodeNotFound(\"Source {} not in G\".format(source))\n",
        "        seen[source] = 0\n",
        "        push(fringe, (0, next(c), source))\n",
        "    while fringe:\n",
        "        (d, _, v) = pop(fringe)\n",
        "        if v in dist:\n",
        "            continue  # already searched this node.\n",
        "        dist[v] = d\n",
        "        if v == target:\n",
        "            break\n",
        "        for u, e in G_succ[v].items():\n",
        "            cost = weight(v, u, e)\n",
        "            if cost is None:\n",
        "                continue\n",
        "            vu_dist = dist[v] + cost\n",
        "            if cutoff is not None:\n",
        "                if vu_dist > cutoff:\n",
        "                    continue\n",
        "            if u in dist:\n",
        "                if vu_dist < dist[u]:\n",
        "                    raise ValueError('Contradictory paths found:',\n",
        "                                     'negative weights?')\n",
        "            elif u not in seen or vu_dist < seen[u]:\n",
        "                seen[u] = vu_dist\n",
        "                push(fringe, (vu_dist, next(c), u))\n",
        "                if paths is not None:\n",
        "                    paths[u] = paths[v] + [u]\n",
        "                if pred is not None:\n",
        "                    pred[u] = [v]\n",
        "            elif vu_dist == seen[u]:\n",
        "                if pred is not None:\n",
        "                    pred[u].append(v)\n",
        "\n",
        "    # The optional predecessor and path dictionaries can be accessed\n",
        "    # by the caller via the pred and paths objects passed as arguments.\n",
        "    return dist\n",
        "#@jit(nopython=True)\n",
        "def _weight_function(G, weight):\n",
        "    if callable(weight):\n",
        "        return weight\n",
        "    # If the weight keyword argument is not callable, we assume it is a\n",
        "    # string representing the edge attribute containing the weight of\n",
        "    # the edge.\n",
        "    if G.is_multigraph():\n",
        "        return lambda u, v, d: min(attr.get(weight, 1) for attr in d.values())\n",
        "    return lambda u, v, data: data.get(weight, 1)\n",
        "#@jit(nopython=True)\n",
        "def multi_source_dijkstra(G, sources, target=None, cutoff=None,\n",
        "                          weight='weight'):\n",
        "    if not sources:\n",
        "        raise ValueError('sources must not be empty')\n",
        "    if target in sources:\n",
        "        return (0, [target])\n",
        "    weight = _weight_function(G, weight)\n",
        "    paths = {source: [source] for source in sources}  # dictionary of paths\n",
        "    dist = _dijkstra_multisource(G, sources, weight, paths=paths,\n",
        "                                 cutoff=cutoff, target=target)\n",
        "    if target is None:\n",
        "        return (dist, paths)\n",
        "    try:\n",
        "        return (dist[target], paths[target])\n",
        "    except KeyError:\n",
        "        raise nx.NetworkXNoPath(\"No path to {}.\".format(target))\n",
        "\n",
        "#@jit(nopython=True)\n",
        "def multi_source_dijkstra_path(G, sources, cutoff=None, weight='weight'):\n",
        "    length, path = multi_source_dijkstra(G, sources, cutoff=cutoff,\n",
        "                                         weight=weight)\n",
        "    return path\n",
        "#@jit(nopython=True)\n",
        "def single_source_dijkstra_path(G, source, cutoff=None, weight='weight'):\n",
        "    return multi_source_dijkstra_path(G, {source}, cutoff=cutoff,\n",
        "                                      weight=weight)\n",
        "@jit() \n",
        "#@jit(nopython=True)\n",
        "def numba_all_pairs_dijkstra_path(G, cutoff=None, weight='weight'):\n",
        "    path = single_source_dijkstra_path\n",
        "    # TODO This can be trivially parallelized.\n",
        "    for n in G:\n",
        "        yield (n, path(G, n, cutoff=cutoff, weight=weight))"
      ],
      "execution_count": 71,
      "outputs": [
        {
          "output_type": "stream",
          "text": [
            "time: 88.7 ms\n"
          ],
          "name": "stdout"
        }
      ]
    },
    {
      "cell_type": "code",
      "metadata": {
        "id": "SxNa0-QRlBCv",
        "colab_type": "code",
        "colab": {
          "base_uri": "https://localhost:8080/",
          "height": 530
        },
        "outputId": "2243beb5-244f-4b7a-ec20-2bb797d55619"
      },
      "source": [
        "def get_shortest_path(G):\n",
        "    return dict(numba_all_pairs_dijkstra_path(G, weight='w'))\n",
        "start = nodes[\"Node_ID\"].iloc[1]\n",
        "finish = nodes[\"Node_ID\"].iloc[3]\n",
        "#print(f\"Calculating a shortest path between all pairs of nodes\")\n",
        "path4 = get_shortest_path(G)\n",
        "#print(f\"\\n==> This cell made a dictionary of shortest paths using networkX `{type(path)}`:\")\n",
        "#print(\"To use, enter two nodeID's and this will return the shortest path.\")\n",
        "#print(\"If there is no path,it will throw a key error as the pairs that cannot be reached are not stored.\")\n",
        "\n",
        "#print(path[start][finish])"
      ],
      "execution_count": 72,
      "outputs": [
        {
          "output_type": "stream",
          "text": [
            "<ipython-input-71-4997665e430c>:92: NumbaWarning: \n",
            "Compilation is falling back to object mode WITH looplifting enabled because Function \"numba_all_pairs_dijkstra_path\" failed type inference due to: Untyped global name 'single_source_dijkstra_path': cannot determine Numba type of <class 'function'>\n",
            "\n",
            "File \"<ipython-input-71-4997665e430c>\", line 95:\n",
            "def numba_all_pairs_dijkstra_path(G, cutoff=None, weight='weight'):\n",
            "    path = single_source_dijkstra_path\n",
            "    ^\n",
            "\n",
            "  @jit()\n",
            "/usr/local/lib/python3.6/dist-packages/numba/object_mode_passes.py:178: NumbaWarning: Function \"numba_all_pairs_dijkstra_path\" was compiled in object mode without forceobj=True.\n",
            "\n",
            "File \"<ipython-input-71-4997665e430c>\", line 94:\n",
            "#@jit(nopython=True)\n",
            "def numba_all_pairs_dijkstra_path(G, cutoff=None, weight='weight'):\n",
            "^\n",
            "\n",
            "  state.func_ir.loc))\n",
            "/usr/local/lib/python3.6/dist-packages/numba/object_mode_passes.py:188: NumbaDeprecationWarning: \n",
            "Fall-back from the nopython compilation path to the object mode compilation path has been detected, this is deprecated behaviour.\n",
            "\n",
            "For more information visit http://numba.pydata.org/numba-doc/latest/reference/deprecation.html#deprecation-of-object-mode-fall-back-behaviour-when-using-jit\n",
            "\n",
            "File \"<ipython-input-71-4997665e430c>\", line 94:\n",
            "#@jit(nopython=True)\n",
            "def numba_all_pairs_dijkstra_path(G, cutoff=None, weight='weight'):\n",
            "^\n",
            "\n",
            "  state.func_ir.loc))\n"
          ],
          "name": "stderr"
        },
        {
          "output_type": "stream",
          "text": [
            "time: 17.6 s\n"
          ],
          "name": "stdout"
        }
      ]
    },
    {
      "cell_type": "markdown",
      "metadata": {
        "id": "tvqjmZuyrNM7",
        "colab_type": "text"
      },
      "source": [
        "If you just add @jit() above the numba_all_pairs_dijkstra path, it doesn't actually speed it up! It takes slightly longer (13.5 seconds compared to around 12 seconds regularly. On a second run, 17 seconds.) because numba is not properly exploting the parallelism. It also gives a bunch of warnings. Numba nopython mode is faster, but can't just run on networkx graphs. Numba's use case is basic data structures, which is an avenue to explore "
      ]
    },
    {
      "cell_type": "code",
      "metadata": {
        "id": "yYCY1lM0rC9t",
        "colab_type": "code",
        "colab": {
          "base_uri": "https://localhost:8080/",
          "height": 51
        },
        "outputId": "17c2281e-4b78-474e-e0ea-cb871dc75eaf"
      },
      "source": [
        "print(path4==path)"
      ],
      "execution_count": 40,
      "outputs": [
        {
          "output_type": "stream",
          "text": [
            "True\n",
            "time: 1.04 s\n"
          ],
          "name": "stdout"
        }
      ]
    },
    {
      "cell_type": "markdown",
      "metadata": {
        "id": "LO8ZVt7QuBfO",
        "colab_type": "text"
      },
      "source": [
        "Now, I'm going to do the following: \n",
        "\n",
        "1) convert the networkx graph we had above into an adjacency matrix representation in numpy \n",
        "\n",
        "2) use SciPY shortest path on the new adjacency matrix, to test the speed of a numpy based approach \n",
        "\n",
        "3) use numba to speed this up? (edit: numba can't just speed up scipy) \n",
        "\n",
        "> Indented block\n",
        "\n"
      ]
    },
    {
      "cell_type": "code",
      "metadata": {
        "id": "1r47dCHWuBOi",
        "colab_type": "code",
        "colab": {
          "base_uri": "https://localhost:8080/",
          "height": 34
        },
        "outputId": "375da194-699d-4069-8a24-452c07c190a9"
      },
      "source": [
        "import numpy as np\n",
        "from networkx import to_numpy_array\n",
        "adjlist = to_numpy_array(G)"
      ],
      "execution_count": 58,
      "outputs": [
        {
          "output_type": "stream",
          "text": [
            "time: 63.9 ms\n"
          ],
          "name": "stdout"
        }
      ]
    },
    {
      "cell_type": "code",
      "metadata": {
        "id": "mG77VwQIvJ0s",
        "colab_type": "code",
        "colab": {
          "base_uri": "https://localhost:8080/",
          "height": 153
        },
        "outputId": "e478c6b6-64af-4255-c65b-77cbe87b5768"
      },
      "source": [
        "print(adjlist.shape)\n",
        "adjlist.view()\n"
      ],
      "execution_count": 59,
      "outputs": [
        {
          "output_type": "stream",
          "text": [
            "(3278, 3278)\n"
          ],
          "name": "stdout"
        },
        {
          "output_type": "execute_result",
          "data": {
            "text/plain": [
              "array([[0., 0., 1., ..., 0., 0., 0.],\n",
              "       [0., 0., 0., ..., 0., 0., 0.],\n",
              "       [1., 0., 0., ..., 0., 0., 0.],\n",
              "       ...,\n",
              "       [0., 0., 0., ..., 0., 1., 1.],\n",
              "       [0., 0., 0., ..., 1., 0., 0.],\n",
              "       [0., 0., 0., ..., 1., 0., 0.]])"
            ]
          },
          "metadata": {
            "tags": []
          },
          "execution_count": 59
        },
        {
          "output_type": "stream",
          "text": [
            "time: 7.09 ms\n"
          ],
          "name": "stdout"
        }
      ]
    },
    {
      "cell_type": "code",
      "metadata": {
        "id": "ycruUwWnwBO-",
        "colab_type": "code",
        "colab": {
          "base_uri": "https://localhost:8080/",
          "height": 34
        },
        "outputId": "bc0249d4-933b-40af-94aa-916b32542e43"
      },
      "source": [
        "import scipy as sp\n",
        "\n",
        "result = sp.sparse.csgraph.shortest_path(adjlist,method='FW')"
      ],
      "execution_count": 66,
      "outputs": [
        {
          "output_type": "stream",
          "text": [
            "time: 3.64 s\n"
          ],
          "name": "stdout"
        }
      ]
    },
    {
      "cell_type": "markdown",
      "metadata": {
        "id": "uuemWPtsw9cO",
        "colab_type": "text"
      },
      "source": [
        "Wow! Scipy can do APSP in around 3.6 seconds (averaged over 3 runs) using floyd warshal! This makes networkX look really slow. \n",
        "\n",
        "Looking into how Scipy does it https://github.com/scipy/scipy/blob/master/scipy/sparse/csgraph/_shortest_path.pyx, the trick is using cython (it compiles to C). It also takes advantage of the sparsity of the problem. "
      ]
    },
    {
      "cell_type": "code",
      "metadata": {
        "id": "pHriQz5Gw6jA",
        "colab_type": "code",
        "colab": {
          "base_uri": "https://localhost:8080/",
          "height": 136
        },
        "outputId": "d13fc985-0769-478c-8a4c-1b24d2723e29"
      },
      "source": [
        "result.view()"
      ],
      "execution_count": 63,
      "outputs": [
        {
          "output_type": "execute_result",
          "data": {
            "text/plain": [
              "array([[ 0.,  2.,  1., ..., inf, inf, inf],\n",
              "       [ 2.,  0.,  3., ..., inf, inf, inf],\n",
              "       [ 1.,  3.,  0., ..., inf, inf, inf],\n",
              "       ...,\n",
              "       [inf, inf, inf, ...,  0.,  1.,  1.],\n",
              "       [inf, inf, inf, ...,  1.,  0.,  2.],\n",
              "       [inf, inf, inf, ...,  1.,  2.,  0.]])"
            ]
          },
          "metadata": {
            "tags": []
          },
          "execution_count": 63
        },
        {
          "output_type": "stream",
          "text": [
            "time: 4.52 ms\n"
          ],
          "name": "stdout"
        }
      ]
    }
  ]
}