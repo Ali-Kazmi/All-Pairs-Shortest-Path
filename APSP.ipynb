{
  "nbformat": 4,
  "nbformat_minor": 0,
  "metadata": {
    "colab": {
      "name": "APSP.ipynb",
      "provenance": [],
      "authorship_tag": "ABX9TyMK+HK9+Fg89RkjFCKcPsC/",
      "include_colab_link": true
    },
    "kernelspec": {
      "name": "python3",
      "display_name": "Python 3"
    }
  },
  "cells": [
    {
      "cell_type": "markdown",
      "metadata": {
        "id": "view-in-github",
        "colab_type": "text"
      },
      "source": [
        "<a href=\"https://colab.research.google.com/github/Ali-Kazmi/All-Pairs-Shortest-Path/blob/master/APSP.ipynb\" target=\"_parent\"><img src=\"https://colab.research.google.com/assets/colab-badge.svg\" alt=\"Open In Colab\"/></a>"
      ]
    },
    {
      "cell_type": "markdown",
      "metadata": {
        "id": "AH-VdTURMxdD",
        "colab_type": "text"
      },
      "source": [
        "In this notebook I will use python's networkX library to perform All Pairs Shortest Paths (APSP) on the california road dataset. Then, i'll use scipy to do the same much faster. Lastly, I'll implement my own and use numba to speed it up, beating scipy! "
      ]
    },
    {
      "cell_type": "code",
      "metadata": {
        "id": "tQHOuY0fs5Xe",
        "colab_type": "code",
        "colab": {}
      },
      "source": [
        "# Get the data \n",
        "from pandas import read_csv\n",
        "OLcnode = read_csv('https://www.cs.utah.edu/~lifeifei/research/tpq/OL.cnode',\n",
        "                 names=['Node_ID', 'X','Y'],\n",
        "                 delim_whitespace=True, nrows=5000) \n",
        "\n",
        "OLcedge=read_csv('https://www.cs.utah.edu/~lifeifei/research/tpq/OL.cedge',\n",
        "                 names=['Edge ID', 'Start_Node_ID','End_Node_ID','L2_distance'],\n",
        "                 delim_whitespace=True,nrows=5000) \n"
      ],
      "execution_count": 2,
      "outputs": []
    },
    {
      "cell_type": "code",
      "metadata": {
        "id": "6cUaOKVG2_Z5",
        "colab_type": "code",
        "colab": {
          "base_uri": "https://localhost:8080/",
          "height": 204
        },
        "outputId": "bc3512f3-4f07-4687-9aed-0c8569b346c3"
      },
      "source": [
        "OLcedge.head() "
      ],
      "execution_count": 35,
      "outputs": [
        {
          "output_type": "execute_result",
          "data": {
            "text/html": [
              "<div>\n",
              "<style scoped>\n",
              "    .dataframe tbody tr th:only-of-type {\n",
              "        vertical-align: middle;\n",
              "    }\n",
              "\n",
              "    .dataframe tbody tr th {\n",
              "        vertical-align: top;\n",
              "    }\n",
              "\n",
              "    .dataframe thead th {\n",
              "        text-align: right;\n",
              "    }\n",
              "</style>\n",
              "<table border=\"1\" class=\"dataframe\">\n",
              "  <thead>\n",
              "    <tr style=\"text-align: right;\">\n",
              "      <th></th>\n",
              "      <th>Edge ID</th>\n",
              "      <th>Start_Node_ID</th>\n",
              "      <th>End_Node_ID</th>\n",
              "      <th>L2_distance</th>\n",
              "    </tr>\n",
              "  </thead>\n",
              "  <tbody>\n",
              "    <tr>\n",
              "      <th>0</th>\n",
              "      <td>0</td>\n",
              "      <td>1609</td>\n",
              "      <td>1622</td>\n",
              "      <td>57.403187</td>\n",
              "    </tr>\n",
              "    <tr>\n",
              "      <th>1</th>\n",
              "      <td>1</td>\n",
              "      <td>2471</td>\n",
              "      <td>2479</td>\n",
              "      <td>29.718756</td>\n",
              "    </tr>\n",
              "    <tr>\n",
              "      <th>2</th>\n",
              "      <td>2</td>\n",
              "      <td>2463</td>\n",
              "      <td>2471</td>\n",
              "      <td>61.706902</td>\n",
              "    </tr>\n",
              "    <tr>\n",
              "      <th>3</th>\n",
              "      <td>3</td>\n",
              "      <td>2443</td>\n",
              "      <td>2448</td>\n",
              "      <td>19.080025</td>\n",
              "    </tr>\n",
              "    <tr>\n",
              "      <th>4</th>\n",
              "      <td>4</td>\n",
              "      <td>1417</td>\n",
              "      <td>1491</td>\n",
              "      <td>28.248583</td>\n",
              "    </tr>\n",
              "  </tbody>\n",
              "</table>\n",
              "</div>"
            ],
            "text/plain": [
              "   Edge ID  Start_Node_ID  End_Node_ID  L2_distance\n",
              "0        0           1609         1622    57.403187\n",
              "1        1           2471         2479    29.718756\n",
              "2        2           2463         2471    61.706902\n",
              "3        3           2443         2448    19.080025\n",
              "4        4           1417         1491    28.248583"
            ]
          },
          "metadata": {
            "tags": []
          },
          "execution_count": 35
        }
      ]
    },
    {
      "cell_type": "code",
      "metadata": {
        "id": "SgrWs5U43AuV",
        "colab_type": "code",
        "colab": {
          "base_uri": "https://localhost:8080/",
          "height": 204
        },
        "outputId": "3386743a-1f14-4593-be31-7c2eef4b4c94"
      },
      "source": [
        "OLcnode.head()"
      ],
      "execution_count": null,
      "outputs": [
        {
          "output_type": "execute_result",
          "data": {
            "text/html": [
              "<div>\n",
              "<style scoped>\n",
              "    .dataframe tbody tr th:only-of-type {\n",
              "        vertical-align: middle;\n",
              "    }\n",
              "\n",
              "    .dataframe tbody tr th {\n",
              "        vertical-align: top;\n",
              "    }\n",
              "\n",
              "    .dataframe thead th {\n",
              "        text-align: right;\n",
              "    }\n",
              "</style>\n",
              "<table border=\"1\" class=\"dataframe\">\n",
              "  <thead>\n",
              "    <tr style=\"text-align: right;\">\n",
              "      <th></th>\n",
              "      <th>Node_ID</th>\n",
              "      <th>X</th>\n",
              "      <th>Y</th>\n",
              "    </tr>\n",
              "  </thead>\n",
              "  <tbody>\n",
              "    <tr>\n",
              "      <th>0</th>\n",
              "      <td>0</td>\n",
              "      <td>769.948669</td>\n",
              "      <td>2982.984131</td>\n",
              "    </tr>\n",
              "    <tr>\n",
              "      <th>1</th>\n",
              "      <td>1</td>\n",
              "      <td>863.275757</td>\n",
              "      <td>3005.275635</td>\n",
              "    </tr>\n",
              "    <tr>\n",
              "      <th>2</th>\n",
              "      <td>2</td>\n",
              "      <td>690.196411</td>\n",
              "      <td>3333.704834</td>\n",
              "    </tr>\n",
              "    <tr>\n",
              "      <th>3</th>\n",
              "      <td>3</td>\n",
              "      <td>1197.556519</td>\n",
              "      <td>2984.470215</td>\n",
              "    </tr>\n",
              "    <tr>\n",
              "      <th>4</th>\n",
              "      <td>4</td>\n",
              "      <td>1261.188599</td>\n",
              "      <td>2985.956299</td>\n",
              "    </tr>\n",
              "  </tbody>\n",
              "</table>\n",
              "</div>"
            ],
            "text/plain": [
              "   Node_ID            X            Y\n",
              "0        0   769.948669  2982.984131\n",
              "1        1   863.275757  3005.275635\n",
              "2        2   690.196411  3333.704834\n",
              "3        3  1197.556519  2984.470215\n",
              "4        4  1261.188599  2985.956299"
            ]
          },
          "metadata": {
            "tags": []
          },
          "execution_count": 3
        }
      ]
    },
    {
      "cell_type": "markdown",
      "metadata": {
        "id": "Z2H2kVKdOSH-",
        "colab_type": "text"
      },
      "source": [
        "The cell below will output an example of one shortest path (between two vertices). For APSP, we will be finding these shortest paths for all shortest paths between all pairs of vertices. As you can imagine, it gets expensive fast "
      ]
    },
    {
      "cell_type": "code",
      "metadata": {
        "id": "Pr0WkQi7SzeJ",
        "colab_type": "code",
        "colab": {
          "base_uri": "https://localhost:8080/",
          "height": 102
        },
        "outputId": "5a27f6db-f9e7-41de-8bb6-78c61ce6b9c7"
      },
      "source": [
        "def get_edgelist(df):\n",
        "    ### BEGIN SOLUTION\n",
        "    return [(a, b, {'w': w}) for a, b, w in zip(df[\"Start_Node_ID\"], df[\"End_Node_ID\"], df[\"L2_distance\"])]\n",
        "    ### END SOLUTION\n",
        "    \n",
        "# Demo\n",
        "edgelist = get_edgelist(OLcedge)\n",
        "edgelist[:5] #just display a few. There's a lot of these! "
      ],
      "execution_count": 3,
      "outputs": [
        {
          "output_type": "execute_result",
          "data": {
            "text/plain": [
              "[(1609, 1622, {'w': 57.403187}),\n",
              " (2471, 2479, {'w': 29.718756}),\n",
              " (2463, 2471, {'w': 61.706902}),\n",
              " (2443, 2448, {'w': 19.080025}),\n",
              " (1417, 1491, {'w': 28.248583})]"
            ]
          },
          "metadata": {
            "tags": []
          },
          "execution_count": 3
        }
      ]
    },
    {
      "cell_type": "code",
      "metadata": {
        "id": "NDq_z5f0QtJb",
        "colab_type": "code",
        "colab": {
          "base_uri": "https://localhost:8080/",
          "height": 34
        },
        "outputId": "73d3dfe9-db2a-4a1f-a3b9-8bb66082413d"
      },
      "source": [
        "\n",
        "from networkx import Graph\n",
        "G = Graph()\n",
        "G.add_nodes_from(OLcnode[\"Node_ID\"])\n",
        "G.add_edges_from(edgelist)\n",
        "\n",
        "print(f\"The graph has {G.number_of_nodes()} nodes and {G.number_of_edges()} edges.\")"
      ],
      "execution_count": 4,
      "outputs": [
        {
          "output_type": "stream",
          "text": [
            "The graph has 5590 nodes and 4995 edges.\n"
          ],
          "name": "stdout"
        }
      ]
    },
    {
      "cell_type": "code",
      "metadata": {
        "id": "we_H_gEvQnzD",
        "colab_type": "code",
        "colab": {
          "base_uri": "https://localhost:8080/",
          "height": 34
        },
        "outputId": "08062e67-8ac2-4799-fe1e-d32572b475ec"
      },
      "source": [
        "def get_shortest_path(G):\n",
        "    from networkx import all_pairs_dijkstra_path\n",
        "    return dict(all_pairs_dijkstra_path(G, weight='w'))\n",
        "start = OLcnode[\"Node_ID\"].iloc[1]\n",
        "finish = OLcnode[\"Node_ID\"].iloc[3]\n",
        "#print(f\"Calculating a shortest path between all pairs of nodes\")\n",
        "%timeit -n 3 get_shortest_path(G)\n",
        "#print(f\"\\n==> This cell made a dictionary of shortest paths using networkX `{type(path)}`:\")\n",
        "#print(\"To use, enter two nodeID's and this will return the shortest path.\")\n",
        "#print(\"If there is no path,it will throw a key error as the pairs that cannot be reached are not stored.\")\n",
        "path1 = get_shortest_path(G)\n",
        "#print(path[start][finish])"
      ],
      "execution_count": null,
      "outputs": [
        {
          "output_type": "stream",
          "text": [
            "3 loops, best of 3: 14.5 s per loop\n"
          ],
          "name": "stdout"
        }
      ]
    },
    {
      "cell_type": "code",
      "metadata": {
        "id": "mG6OdsTpfyD0",
        "colab_type": "code",
        "colab": {
          "base_uri": "https://localhost:8080/",
          "height": 34
        },
        "outputId": "59b64941-ecc4-495b-efc4-56f9bc71f167"
      },
      "source": [
        "def get_shortest_path(G):\n",
        "    from networkx import all_pairs_bellman_ford_path\n",
        "    return dict(all_pairs_bellman_ford_path(G, weight='w'))\n",
        "start = OLcnode[\"Node_ID\"].iloc[1]\n",
        "finish = OLcnode[\"Node_ID\"].iloc[3]\n",
        "#print(f\"Calculating a shortest path between all pairs of nodes\")\n",
        "%timeit -n 3 get_shortest_path(G)\n",
        "#print(f\"\\n==> This cell made a dictionary of shortest paths using networkX `{type(path)}`:\")\n",
        "#print(\"To use, enter two nodeID's and this will return the shortest path.\")\n",
        "#print(\"If there is no path,it will throw a key error as the pairs that cannot be reached are not stored.\")\n",
        "path = get_shortest_path(G) #Doesn't effect time\n",
        "#print(path[start][finish])"
      ],
      "execution_count": null,
      "outputs": [
        {
          "output_type": "stream",
          "text": [
            "3 loops, best of 3: 5.96 s per loop\n"
          ],
          "name": "stdout"
        }
      ]
    },
    {
      "cell_type": "code",
      "metadata": {
        "id": "-2wWpLzE09dW",
        "colab_type": "code",
        "colab": {
          "base_uri": "https://localhost:8080/",
          "height": 51
        },
        "outputId": "f483a67c-dc92-49dd-a370-f75be909246d"
      },
      "source": [
        "print(path[1][5])"
      ],
      "execution_count": null,
      "outputs": [
        {
          "output_type": "stream",
          "text": [
            "[1, 0, 2, 5]\n",
            "time: 1.55 ms\n"
          ],
          "name": "stdout"
        }
      ]
    },
    {
      "cell_type": "code",
      "metadata": {
        "id": "lpauLpO3yl7E",
        "colab_type": "code",
        "colab": {
          "base_uri": "https://localhost:8080/",
          "height": 429
        },
        "outputId": "b87c833f-db84-473e-fdab-4250e710cc7d"
      },
      "source": [
        "from networkx import floyd_warshall\n",
        "\n",
        "%timeit floyd_warshall(G)\n"
      ],
      "execution_count": null,
      "outputs": [
        {
          "output_type": "error",
          "ename": "KeyboardInterrupt",
          "evalue": "ignored",
          "traceback": [
            "\u001b[0;31m---------------------------------------------------------------------------\u001b[0m",
            "\u001b[0;31mKeyboardInterrupt\u001b[0m                         Traceback (most recent call last)",
            "\u001b[0;32m<ipython-input-10-7a842a7871d3>\u001b[0m in \u001b[0;36m<module>\u001b[0;34m()\u001b[0m\n\u001b[1;32m      1\u001b[0m \u001b[0;32mfrom\u001b[0m \u001b[0mnetworkx\u001b[0m \u001b[0;32mimport\u001b[0m \u001b[0mfloyd_warshall\u001b[0m\u001b[0;34m\u001b[0m\u001b[0;34m\u001b[0m\u001b[0m\n\u001b[1;32m      2\u001b[0m \u001b[0;34m\u001b[0m\u001b[0m\n\u001b[0;32m----> 3\u001b[0;31m \u001b[0mget_ipython\u001b[0m\u001b[0;34m(\u001b[0m\u001b[0;34m)\u001b[0m\u001b[0;34m.\u001b[0m\u001b[0mmagic\u001b[0m\u001b[0;34m(\u001b[0m\u001b[0;34m'timeit floyd_warshall(G)'\u001b[0m\u001b[0;34m)\u001b[0m\u001b[0;34m\u001b[0m\u001b[0;34m\u001b[0m\u001b[0m\n\u001b[0m",
            "\u001b[0;32m/usr/local/lib/python3.6/dist-packages/IPython/core/interactiveshell.py\u001b[0m in \u001b[0;36mmagic\u001b[0;34m(self, arg_s)\u001b[0m\n\u001b[1;32m   2158\u001b[0m         \u001b[0mmagic_name\u001b[0m\u001b[0;34m,\u001b[0m \u001b[0m_\u001b[0m\u001b[0;34m,\u001b[0m \u001b[0mmagic_arg_s\u001b[0m \u001b[0;34m=\u001b[0m \u001b[0marg_s\u001b[0m\u001b[0;34m.\u001b[0m\u001b[0mpartition\u001b[0m\u001b[0;34m(\u001b[0m\u001b[0;34m' '\u001b[0m\u001b[0;34m)\u001b[0m\u001b[0;34m\u001b[0m\u001b[0;34m\u001b[0m\u001b[0m\n\u001b[1;32m   2159\u001b[0m         \u001b[0mmagic_name\u001b[0m \u001b[0;34m=\u001b[0m \u001b[0mmagic_name\u001b[0m\u001b[0;34m.\u001b[0m\u001b[0mlstrip\u001b[0m\u001b[0;34m(\u001b[0m\u001b[0mprefilter\u001b[0m\u001b[0;34m.\u001b[0m\u001b[0mESC_MAGIC\u001b[0m\u001b[0;34m)\u001b[0m\u001b[0;34m\u001b[0m\u001b[0;34m\u001b[0m\u001b[0m\n\u001b[0;32m-> 2160\u001b[0;31m         \u001b[0;32mreturn\u001b[0m \u001b[0mself\u001b[0m\u001b[0;34m.\u001b[0m\u001b[0mrun_line_magic\u001b[0m\u001b[0;34m(\u001b[0m\u001b[0mmagic_name\u001b[0m\u001b[0;34m,\u001b[0m \u001b[0mmagic_arg_s\u001b[0m\u001b[0;34m)\u001b[0m\u001b[0;34m\u001b[0m\u001b[0;34m\u001b[0m\u001b[0m\n\u001b[0m\u001b[1;32m   2161\u001b[0m \u001b[0;34m\u001b[0m\u001b[0m\n\u001b[1;32m   2162\u001b[0m     \u001b[0;31m#-------------------------------------------------------------------------\u001b[0m\u001b[0;34m\u001b[0m\u001b[0;34m\u001b[0m\u001b[0;34m\u001b[0m\u001b[0m\n",
            "\u001b[0;32m/usr/local/lib/python3.6/dist-packages/IPython/core/interactiveshell.py\u001b[0m in \u001b[0;36mrun_line_magic\u001b[0;34m(self, magic_name, line)\u001b[0m\n\u001b[1;32m   2079\u001b[0m                 \u001b[0mkwargs\u001b[0m\u001b[0;34m[\u001b[0m\u001b[0;34m'local_ns'\u001b[0m\u001b[0;34m]\u001b[0m \u001b[0;34m=\u001b[0m \u001b[0msys\u001b[0m\u001b[0;34m.\u001b[0m\u001b[0m_getframe\u001b[0m\u001b[0;34m(\u001b[0m\u001b[0mstack_depth\u001b[0m\u001b[0;34m)\u001b[0m\u001b[0;34m.\u001b[0m\u001b[0mf_locals\u001b[0m\u001b[0;34m\u001b[0m\u001b[0;34m\u001b[0m\u001b[0m\n\u001b[1;32m   2080\u001b[0m             \u001b[0;32mwith\u001b[0m \u001b[0mself\u001b[0m\u001b[0;34m.\u001b[0m\u001b[0mbuiltin_trap\u001b[0m\u001b[0;34m:\u001b[0m\u001b[0;34m\u001b[0m\u001b[0;34m\u001b[0m\u001b[0m\n\u001b[0;32m-> 2081\u001b[0;31m                 \u001b[0mresult\u001b[0m \u001b[0;34m=\u001b[0m \u001b[0mfn\u001b[0m\u001b[0;34m(\u001b[0m\u001b[0;34m*\u001b[0m\u001b[0margs\u001b[0m\u001b[0;34m,\u001b[0m\u001b[0;34m**\u001b[0m\u001b[0mkwargs\u001b[0m\u001b[0;34m)\u001b[0m\u001b[0;34m\u001b[0m\u001b[0;34m\u001b[0m\u001b[0m\n\u001b[0m\u001b[1;32m   2082\u001b[0m             \u001b[0;32mreturn\u001b[0m \u001b[0mresult\u001b[0m\u001b[0;34m\u001b[0m\u001b[0;34m\u001b[0m\u001b[0m\n\u001b[1;32m   2083\u001b[0m \u001b[0;34m\u001b[0m\u001b[0m\n",
            "\u001b[0;32m<decorator-gen-59>\u001b[0m in \u001b[0;36mtimeit\u001b[0;34m(self, line, cell)\u001b[0m\n",
            "\u001b[0;32m/usr/local/lib/python3.6/dist-packages/IPython/core/magic.py\u001b[0m in \u001b[0;36m<lambda>\u001b[0;34m(f, *a, **k)\u001b[0m\n\u001b[1;32m    186\u001b[0m     \u001b[0;31m# but it's overkill for just that one bit of state.\u001b[0m\u001b[0;34m\u001b[0m\u001b[0;34m\u001b[0m\u001b[0;34m\u001b[0m\u001b[0m\n\u001b[1;32m    187\u001b[0m     \u001b[0;32mdef\u001b[0m \u001b[0mmagic_deco\u001b[0m\u001b[0;34m(\u001b[0m\u001b[0marg\u001b[0m\u001b[0;34m)\u001b[0m\u001b[0;34m:\u001b[0m\u001b[0;34m\u001b[0m\u001b[0;34m\u001b[0m\u001b[0m\n\u001b[0;32m--> 188\u001b[0;31m         \u001b[0mcall\u001b[0m \u001b[0;34m=\u001b[0m \u001b[0;32mlambda\u001b[0m \u001b[0mf\u001b[0m\u001b[0;34m,\u001b[0m \u001b[0;34m*\u001b[0m\u001b[0ma\u001b[0m\u001b[0;34m,\u001b[0m \u001b[0;34m**\u001b[0m\u001b[0mk\u001b[0m\u001b[0;34m:\u001b[0m \u001b[0mf\u001b[0m\u001b[0;34m(\u001b[0m\u001b[0;34m*\u001b[0m\u001b[0ma\u001b[0m\u001b[0;34m,\u001b[0m \u001b[0;34m**\u001b[0m\u001b[0mk\u001b[0m\u001b[0;34m)\u001b[0m\u001b[0;34m\u001b[0m\u001b[0;34m\u001b[0m\u001b[0m\n\u001b[0m\u001b[1;32m    189\u001b[0m \u001b[0;34m\u001b[0m\u001b[0m\n\u001b[1;32m    190\u001b[0m         \u001b[0;32mif\u001b[0m \u001b[0mcallable\u001b[0m\u001b[0;34m(\u001b[0m\u001b[0marg\u001b[0m\u001b[0;34m)\u001b[0m\u001b[0;34m:\u001b[0m\u001b[0;34m\u001b[0m\u001b[0;34m\u001b[0m\u001b[0m\n",
            "\u001b[0;32m/usr/local/lib/python3.6/dist-packages/IPython/core/magics/execution.py\u001b[0m in \u001b[0;36mtimeit\u001b[0;34m(self, line, cell)\u001b[0m\n\u001b[1;32m   1055\u001b[0m             \u001b[0mnumber\u001b[0m \u001b[0;34m=\u001b[0m \u001b[0;36m1\u001b[0m\u001b[0;34m\u001b[0m\u001b[0;34m\u001b[0m\u001b[0m\n\u001b[1;32m   1056\u001b[0m             \u001b[0;32mfor\u001b[0m \u001b[0m_\u001b[0m \u001b[0;32min\u001b[0m \u001b[0mrange\u001b[0m\u001b[0;34m(\u001b[0m\u001b[0;36m1\u001b[0m\u001b[0;34m,\u001b[0m \u001b[0;36m10\u001b[0m\u001b[0;34m)\u001b[0m\u001b[0;34m:\u001b[0m\u001b[0;34m\u001b[0m\u001b[0;34m\u001b[0m\u001b[0m\n\u001b[0;32m-> 1057\u001b[0;31m                 \u001b[0mtime_number\u001b[0m \u001b[0;34m=\u001b[0m \u001b[0mtimer\u001b[0m\u001b[0;34m.\u001b[0m\u001b[0mtimeit\u001b[0m\u001b[0;34m(\u001b[0m\u001b[0mnumber\u001b[0m\u001b[0;34m)\u001b[0m\u001b[0;34m\u001b[0m\u001b[0;34m\u001b[0m\u001b[0m\n\u001b[0m\u001b[1;32m   1058\u001b[0m                 \u001b[0mworst_tuning\u001b[0m \u001b[0;34m=\u001b[0m \u001b[0mmax\u001b[0m\u001b[0;34m(\u001b[0m\u001b[0mworst_tuning\u001b[0m\u001b[0;34m,\u001b[0m \u001b[0mtime_number\u001b[0m \u001b[0;34m/\u001b[0m \u001b[0mnumber\u001b[0m\u001b[0;34m)\u001b[0m\u001b[0;34m\u001b[0m\u001b[0;34m\u001b[0m\u001b[0m\n\u001b[1;32m   1059\u001b[0m                 \u001b[0;32mif\u001b[0m \u001b[0mtime_number\u001b[0m \u001b[0;34m>=\u001b[0m \u001b[0;36m0.2\u001b[0m\u001b[0;34m:\u001b[0m\u001b[0;34m\u001b[0m\u001b[0;34m\u001b[0m\u001b[0m\n",
            "\u001b[0;32m/usr/local/lib/python3.6/dist-packages/IPython/core/magics/execution.py\u001b[0m in \u001b[0;36mtimeit\u001b[0;34m(self, number)\u001b[0m\n\u001b[1;32m    137\u001b[0m         \u001b[0mgc\u001b[0m\u001b[0;34m.\u001b[0m\u001b[0mdisable\u001b[0m\u001b[0;34m(\u001b[0m\u001b[0;34m)\u001b[0m\u001b[0;34m\u001b[0m\u001b[0;34m\u001b[0m\u001b[0m\n\u001b[1;32m    138\u001b[0m         \u001b[0;32mtry\u001b[0m\u001b[0;34m:\u001b[0m\u001b[0;34m\u001b[0m\u001b[0;34m\u001b[0m\u001b[0m\n\u001b[0;32m--> 139\u001b[0;31m             \u001b[0mtiming\u001b[0m \u001b[0;34m=\u001b[0m \u001b[0mself\u001b[0m\u001b[0;34m.\u001b[0m\u001b[0minner\u001b[0m\u001b[0;34m(\u001b[0m\u001b[0mit\u001b[0m\u001b[0;34m,\u001b[0m \u001b[0mself\u001b[0m\u001b[0;34m.\u001b[0m\u001b[0mtimer\u001b[0m\u001b[0;34m)\u001b[0m\u001b[0;34m\u001b[0m\u001b[0;34m\u001b[0m\u001b[0m\n\u001b[0m\u001b[1;32m    140\u001b[0m         \u001b[0;32mfinally\u001b[0m\u001b[0;34m:\u001b[0m\u001b[0;34m\u001b[0m\u001b[0;34m\u001b[0m\u001b[0m\n\u001b[1;32m    141\u001b[0m             \u001b[0;32mif\u001b[0m \u001b[0mgcold\u001b[0m\u001b[0;34m:\u001b[0m\u001b[0;34m\u001b[0m\u001b[0;34m\u001b[0m\u001b[0m\n",
            "\u001b[0;32m<magic-timeit>\u001b[0m in \u001b[0;36minner\u001b[0;34m(_it, _timer)\u001b[0m\n",
            "\u001b[0;32m/usr/local/lib/python3.6/dist-packages/networkx/algorithms/shortest_paths/dense.py\u001b[0m in \u001b[0;36mfloyd_warshall\u001b[0;34m(G, weight)\u001b[0m\n\u001b[1;32m    209\u001b[0m     \"\"\"\n\u001b[1;32m    210\u001b[0m     \u001b[0;31m# could make this its own function to reduce memory costs\u001b[0m\u001b[0;34m\u001b[0m\u001b[0;34m\u001b[0m\u001b[0;34m\u001b[0m\u001b[0m\n\u001b[0;32m--> 211\u001b[0;31m     \u001b[0;32mreturn\u001b[0m \u001b[0mfloyd_warshall_predecessor_and_distance\u001b[0m\u001b[0;34m(\u001b[0m\u001b[0mG\u001b[0m\u001b[0;34m,\u001b[0m \u001b[0mweight\u001b[0m\u001b[0;34m=\u001b[0m\u001b[0mweight\u001b[0m\u001b[0;34m)\u001b[0m\u001b[0;34m[\u001b[0m\u001b[0;36m1\u001b[0m\u001b[0;34m]\u001b[0m\u001b[0;34m\u001b[0m\u001b[0;34m\u001b[0m\u001b[0m\n\u001b[0m\u001b[1;32m    212\u001b[0m \u001b[0;34m\u001b[0m\u001b[0m\n\u001b[1;32m    213\u001b[0m \u001b[0;34m\u001b[0m\u001b[0m\n",
            "\u001b[0;32m/usr/local/lib/python3.6/dist-packages/networkx/algorithms/shortest_paths/dense.py\u001b[0m in \u001b[0;36mfloyd_warshall_predecessor_and_distance\u001b[0;34m(G, weight)\u001b[0m\n\u001b[1;32m    126\u001b[0m         \u001b[0;32mfor\u001b[0m \u001b[0mu\u001b[0m \u001b[0;32min\u001b[0m \u001b[0mG\u001b[0m\u001b[0;34m:\u001b[0m\u001b[0;34m\u001b[0m\u001b[0;34m\u001b[0m\u001b[0m\n\u001b[1;32m    127\u001b[0m             \u001b[0mdist_u\u001b[0m \u001b[0;34m=\u001b[0m \u001b[0mdist\u001b[0m\u001b[0;34m[\u001b[0m\u001b[0mu\u001b[0m\u001b[0;34m]\u001b[0m  \u001b[0;31m# save recomputation\u001b[0m\u001b[0;34m\u001b[0m\u001b[0;34m\u001b[0m\u001b[0m\n\u001b[0;32m--> 128\u001b[0;31m             \u001b[0;32mfor\u001b[0m \u001b[0mv\u001b[0m \u001b[0;32min\u001b[0m \u001b[0mG\u001b[0m\u001b[0;34m:\u001b[0m\u001b[0;34m\u001b[0m\u001b[0;34m\u001b[0m\u001b[0m\n\u001b[0m\u001b[1;32m    129\u001b[0m                 \u001b[0md\u001b[0m \u001b[0;34m=\u001b[0m \u001b[0mdist_u\u001b[0m\u001b[0;34m[\u001b[0m\u001b[0mw\u001b[0m\u001b[0;34m]\u001b[0m \u001b[0;34m+\u001b[0m \u001b[0mdist_w\u001b[0m\u001b[0;34m[\u001b[0m\u001b[0mv\u001b[0m\u001b[0;34m]\u001b[0m\u001b[0;34m\u001b[0m\u001b[0;34m\u001b[0m\u001b[0m\n\u001b[1;32m    130\u001b[0m                 \u001b[0;32mif\u001b[0m \u001b[0mdist_u\u001b[0m\u001b[0;34m[\u001b[0m\u001b[0mv\u001b[0m\u001b[0;34m]\u001b[0m \u001b[0;34m>\u001b[0m \u001b[0md\u001b[0m\u001b[0;34m:\u001b[0m\u001b[0;34m\u001b[0m\u001b[0;34m\u001b[0m\u001b[0m\n",
            "\u001b[0;31mKeyboardInterrupt\u001b[0m: "
          ]
        }
      ]
    },
    {
      "cell_type": "code",
      "metadata": {
        "id": "2Hl0F0qn5j6O",
        "colab_type": "code",
        "colab": {
          "base_uri": "https://localhost:8080/",
          "height": 34
        },
        "outputId": "5f208b03-8278-40d6-d31c-3634b14f848a"
      },
      "source": [
        "from networkx import floyd_warshall_numpy\n",
        "%timeit -n 3 floyd_warshall_numpy(G)\n",
        "\n",
        "pathfwnp = floyd_warshall_numpy(G)\n",
        "#Much better, only 18-24 seconds on a 1500 or so node graph"
      ],
      "execution_count": null,
      "outputs": [
        {
          "output_type": "stream",
          "text": [
            "3 loops, best of 3: 4min 51s per loop\n"
          ],
          "name": "stdout"
        }
      ]
    },
    {
      "cell_type": "code",
      "metadata": {
        "id": "6hrfTVX76TtA",
        "colab_type": "code",
        "colab": {
          "base_uri": "https://localhost:8080/",
          "height": 136
        },
        "outputId": "9d7563ea-d9ec-4b19-d9b4-9f853a179c03"
      },
      "source": [
        "pathfwnp #Note: I only printed this for the smaller graph, the 1695 node one. This is just to give you an idea of the output "
      ],
      "execution_count": null,
      "outputs": [
        {
          "output_type": "execute_result",
          "data": {
            "text/plain": [
              "matrix([[ 0.,  1.,  1., ..., inf, inf, inf],\n",
              "        [ 1.,  0.,  2., ..., inf, inf, inf],\n",
              "        [ 1.,  2.,  0., ..., inf, inf, inf],\n",
              "        ...,\n",
              "        [inf, inf, inf, ...,  0.,  2.,  3.],\n",
              "        [inf, inf, inf, ...,  2.,  0.,  1.],\n",
              "        [inf, inf, inf, ...,  3.,  1.,  0.]])"
            ]
          },
          "metadata": {
            "tags": []
          },
          "execution_count": 17
        },
        {
          "output_type": "stream",
          "text": [
            "time: 3.93 ms\n"
          ],
          "name": "stdout"
        }
      ]
    },
    {
      "cell_type": "markdown",
      "metadata": {
        "id": "LO8ZVt7QuBfO",
        "colab_type": "text"
      },
      "source": [
        "Now, I'm going to do the following: \n",
        "\n",
        "1) convert the networkx graph we had above into an adjacency matrix representation in numpy \n",
        "\n",
        "2) use SciPY shortest path on the new adjacency matrix, to test the speed of a numpy based approach \n",
        "\n",
        "3) use numba to speed this up? (edit: numba can't just speed up scipy) \n",
        "\n",
        "> Indented block\n",
        "\n"
      ]
    },
    {
      "cell_type": "code",
      "metadata": {
        "id": "1r47dCHWuBOi",
        "colab_type": "code",
        "colab": {}
      },
      "source": [
        "import numpy as np\n",
        "from networkx import to_numpy_array\n",
        "adjlist = to_numpy_array(G)"
      ],
      "execution_count": 5,
      "outputs": []
    },
    {
      "cell_type": "code",
      "metadata": {
        "id": "mG77VwQIvJ0s",
        "colab_type": "code",
        "colab": {
          "base_uri": "https://localhost:8080/",
          "height": 153
        },
        "outputId": "d96586b9-05d3-4b50-b22a-363baaadb024"
      },
      "source": [
        "print(adjlist.shape)\n",
        "adjlist.view()\n"
      ],
      "execution_count": null,
      "outputs": [
        {
          "output_type": "stream",
          "text": [
            "(74, 74)\n"
          ],
          "name": "stdout"
        },
        {
          "output_type": "execute_result",
          "data": {
            "text/plain": [
              "array([[0., 1., 1., ..., 0., 0., 0.],\n",
              "       [1., 0., 0., ..., 0., 0., 0.],\n",
              "       [1., 0., 0., ..., 0., 0., 0.],\n",
              "       ...,\n",
              "       [0., 0., 0., ..., 0., 1., 0.],\n",
              "       [0., 0., 0., ..., 1., 0., 0.],\n",
              "       [0., 0., 0., ..., 0., 0., 0.]])"
            ]
          },
          "metadata": {
            "tags": []
          },
          "execution_count": 5
        }
      ]
    },
    {
      "cell_type": "code",
      "metadata": {
        "id": "ycruUwWnwBO-",
        "colab_type": "code",
        "colab": {
          "base_uri": "https://localhost:8080/",
          "height": 34
        },
        "outputId": "aa50343d-e197-46a9-a670-1a0fde5cba3c"
      },
      "source": [
        "import scipy as sp\n",
        "import scipy.sparse \n",
        "\n",
        "%timeit sp.sparse.csgraph.shortest_path(adjlist,method='FW')"
      ],
      "execution_count": null,
      "outputs": [
        {
          "output_type": "stream",
          "text": [
            "1 loop, best of 3: 376 ms per loop\n"
          ],
          "name": "stdout"
        }
      ]
    },
    {
      "cell_type": "markdown",
      "metadata": {
        "id": "uuemWPtsw9cO",
        "colab_type": "text"
      },
      "source": [
        "\n",
        "Looking into how Scipy does it https://github.com/scipy/scipy/blob/master/scipy/sparse/csgraph/_shortest_path.pyx, the trick is using cython (it compiles to C) and numpy. It also takes advantage of the sparsity of the problem. "
      ]
    },
    {
      "cell_type": "code",
      "metadata": {
        "id": "pHriQz5Gw6jA",
        "colab_type": "code",
        "colab": {
          "base_uri": "https://localhost:8080/",
          "height": 136
        },
        "outputId": "2d9ec809-8a98-4b8a-e329-08747b14cc9b"
      },
      "source": [
        "result.view()"
      ],
      "execution_count": null,
      "outputs": [
        {
          "output_type": "execute_result",
          "data": {
            "text/plain": [
              "array([[ 0.,  1.,  1., ..., 73., inf, inf],\n",
              "       [ 1.,  0.,  2., ..., 72., inf, inf],\n",
              "       [ 1.,  2.,  0., ..., 74., inf, inf],\n",
              "       ...,\n",
              "       [73., 72., 74., ...,  0., inf, inf],\n",
              "       [inf, inf, inf, ..., inf,  0.,  1.],\n",
              "       [inf, inf, inf, ..., inf,  1.,  0.]])"
            ]
          },
          "metadata": {
            "tags": []
          },
          "execution_count": 237
        },
        {
          "output_type": "stream",
          "text": [
            "time: 4.45 ms\n"
          ],
          "name": "stdout"
        }
      ]
    },
    {
      "cell_type": "code",
      "metadata": {
        "id": "6yyoD7jaBTji",
        "colab_type": "code",
        "colab": {}
      },
      "source": [
        "adjlist = to_numpy_array(G)"
      ],
      "execution_count": null,
      "outputs": []
    },
    {
      "cell_type": "code",
      "metadata": {
        "id": "df1pz6cMFpvR",
        "colab_type": "code",
        "colab": {}
      },
      "source": [
        "import numpy as np \n",
        "\n",
        "def floyd_warshall_simple(graph,vertex_num):\n",
        "  dist = (np.ones((vertex_num,vertex_num)) * np.inf)\n",
        "  for a in range(vertex_num):\n",
        "    dist[a][a]=0\n",
        "  for b in range(vertex_num):\n",
        "    for c in range(vertex_num):\n",
        "      if graph[b][c] != 0:\n",
        "        dist[b][c]=graph[b][c]\n",
        "  for k in range(vertex_num):\n",
        "    for i in range(vertex_num):\n",
        "      for j in range(vertex_num):\n",
        "        if dist[i][j] > dist[i][k] + dist[k][j]:\n",
        "          dist[i][j] = dist[i][k] + dist[k][j]\n",
        "  return dist"
      ],
      "execution_count": null,
      "outputs": []
    },
    {
      "cell_type": "code",
      "metadata": {
        "id": "tw9xEUTCTW2M",
        "colab_type": "code",
        "colab": {
          "base_uri": "https://localhost:8080/",
          "height": 375
        },
        "outputId": "f577a46f-2db3-48f9-a8e6-ffdeb54c7508"
      },
      "source": [
        "%timeit -n 3 floyd_warshall_simple(adjlist,4228)"
      ],
      "execution_count": null,
      "outputs": [
        {
          "output_type": "error",
          "ename": "KeyboardInterrupt",
          "evalue": "ignored",
          "traceback": [
            "\u001b[0;31m---------------------------------------------------------------------------\u001b[0m",
            "\u001b[0;31mKeyboardInterrupt\u001b[0m                         Traceback (most recent call last)",
            "\u001b[0;32m<ipython-input-40-2332f9ab6154>\u001b[0m in \u001b[0;36m<module>\u001b[0;34m()\u001b[0m\n\u001b[0;32m----> 1\u001b[0;31m \u001b[0mget_ipython\u001b[0m\u001b[0;34m(\u001b[0m\u001b[0;34m)\u001b[0m\u001b[0;34m.\u001b[0m\u001b[0mmagic\u001b[0m\u001b[0;34m(\u001b[0m\u001b[0;34m'timeit -n 3 floyd_warshall_simple(adjlist,4228)'\u001b[0m\u001b[0;34m)\u001b[0m\u001b[0;34m\u001b[0m\u001b[0;34m\u001b[0m\u001b[0m\n\u001b[0m",
            "\u001b[0;32m/usr/local/lib/python3.6/dist-packages/IPython/core/interactiveshell.py\u001b[0m in \u001b[0;36mmagic\u001b[0;34m(self, arg_s)\u001b[0m\n\u001b[1;32m   2158\u001b[0m         \u001b[0mmagic_name\u001b[0m\u001b[0;34m,\u001b[0m \u001b[0m_\u001b[0m\u001b[0;34m,\u001b[0m \u001b[0mmagic_arg_s\u001b[0m \u001b[0;34m=\u001b[0m \u001b[0marg_s\u001b[0m\u001b[0;34m.\u001b[0m\u001b[0mpartition\u001b[0m\u001b[0;34m(\u001b[0m\u001b[0;34m' '\u001b[0m\u001b[0;34m)\u001b[0m\u001b[0;34m\u001b[0m\u001b[0;34m\u001b[0m\u001b[0m\n\u001b[1;32m   2159\u001b[0m         \u001b[0mmagic_name\u001b[0m \u001b[0;34m=\u001b[0m \u001b[0mmagic_name\u001b[0m\u001b[0;34m.\u001b[0m\u001b[0mlstrip\u001b[0m\u001b[0;34m(\u001b[0m\u001b[0mprefilter\u001b[0m\u001b[0;34m.\u001b[0m\u001b[0mESC_MAGIC\u001b[0m\u001b[0;34m)\u001b[0m\u001b[0;34m\u001b[0m\u001b[0;34m\u001b[0m\u001b[0m\n\u001b[0;32m-> 2160\u001b[0;31m         \u001b[0;32mreturn\u001b[0m \u001b[0mself\u001b[0m\u001b[0;34m.\u001b[0m\u001b[0mrun_line_magic\u001b[0m\u001b[0;34m(\u001b[0m\u001b[0mmagic_name\u001b[0m\u001b[0;34m,\u001b[0m \u001b[0mmagic_arg_s\u001b[0m\u001b[0;34m)\u001b[0m\u001b[0;34m\u001b[0m\u001b[0;34m\u001b[0m\u001b[0m\n\u001b[0m\u001b[1;32m   2161\u001b[0m \u001b[0;34m\u001b[0m\u001b[0m\n\u001b[1;32m   2162\u001b[0m     \u001b[0;31m#-------------------------------------------------------------------------\u001b[0m\u001b[0;34m\u001b[0m\u001b[0;34m\u001b[0m\u001b[0;34m\u001b[0m\u001b[0m\n",
            "\u001b[0;32m/usr/local/lib/python3.6/dist-packages/IPython/core/interactiveshell.py\u001b[0m in \u001b[0;36mrun_line_magic\u001b[0;34m(self, magic_name, line)\u001b[0m\n\u001b[1;32m   2079\u001b[0m                 \u001b[0mkwargs\u001b[0m\u001b[0;34m[\u001b[0m\u001b[0;34m'local_ns'\u001b[0m\u001b[0;34m]\u001b[0m \u001b[0;34m=\u001b[0m \u001b[0msys\u001b[0m\u001b[0;34m.\u001b[0m\u001b[0m_getframe\u001b[0m\u001b[0;34m(\u001b[0m\u001b[0mstack_depth\u001b[0m\u001b[0;34m)\u001b[0m\u001b[0;34m.\u001b[0m\u001b[0mf_locals\u001b[0m\u001b[0;34m\u001b[0m\u001b[0;34m\u001b[0m\u001b[0m\n\u001b[1;32m   2080\u001b[0m             \u001b[0;32mwith\u001b[0m \u001b[0mself\u001b[0m\u001b[0;34m.\u001b[0m\u001b[0mbuiltin_trap\u001b[0m\u001b[0;34m:\u001b[0m\u001b[0;34m\u001b[0m\u001b[0;34m\u001b[0m\u001b[0m\n\u001b[0;32m-> 2081\u001b[0;31m                 \u001b[0mresult\u001b[0m \u001b[0;34m=\u001b[0m \u001b[0mfn\u001b[0m\u001b[0;34m(\u001b[0m\u001b[0;34m*\u001b[0m\u001b[0margs\u001b[0m\u001b[0;34m,\u001b[0m\u001b[0;34m**\u001b[0m\u001b[0mkwargs\u001b[0m\u001b[0;34m)\u001b[0m\u001b[0;34m\u001b[0m\u001b[0;34m\u001b[0m\u001b[0m\n\u001b[0m\u001b[1;32m   2082\u001b[0m             \u001b[0;32mreturn\u001b[0m \u001b[0mresult\u001b[0m\u001b[0;34m\u001b[0m\u001b[0;34m\u001b[0m\u001b[0m\n\u001b[1;32m   2083\u001b[0m \u001b[0;34m\u001b[0m\u001b[0m\n",
            "\u001b[0;32m<decorator-gen-59>\u001b[0m in \u001b[0;36mtimeit\u001b[0;34m(self, line, cell)\u001b[0m\n",
            "\u001b[0;32m/usr/local/lib/python3.6/dist-packages/IPython/core/magic.py\u001b[0m in \u001b[0;36m<lambda>\u001b[0;34m(f, *a, **k)\u001b[0m\n\u001b[1;32m    186\u001b[0m     \u001b[0;31m# but it's overkill for just that one bit of state.\u001b[0m\u001b[0;34m\u001b[0m\u001b[0;34m\u001b[0m\u001b[0;34m\u001b[0m\u001b[0m\n\u001b[1;32m    187\u001b[0m     \u001b[0;32mdef\u001b[0m \u001b[0mmagic_deco\u001b[0m\u001b[0;34m(\u001b[0m\u001b[0marg\u001b[0m\u001b[0;34m)\u001b[0m\u001b[0;34m:\u001b[0m\u001b[0;34m\u001b[0m\u001b[0;34m\u001b[0m\u001b[0m\n\u001b[0;32m--> 188\u001b[0;31m         \u001b[0mcall\u001b[0m \u001b[0;34m=\u001b[0m \u001b[0;32mlambda\u001b[0m \u001b[0mf\u001b[0m\u001b[0;34m,\u001b[0m \u001b[0;34m*\u001b[0m\u001b[0ma\u001b[0m\u001b[0;34m,\u001b[0m \u001b[0;34m**\u001b[0m\u001b[0mk\u001b[0m\u001b[0;34m:\u001b[0m \u001b[0mf\u001b[0m\u001b[0;34m(\u001b[0m\u001b[0;34m*\u001b[0m\u001b[0ma\u001b[0m\u001b[0;34m,\u001b[0m \u001b[0;34m**\u001b[0m\u001b[0mk\u001b[0m\u001b[0;34m)\u001b[0m\u001b[0;34m\u001b[0m\u001b[0;34m\u001b[0m\u001b[0m\n\u001b[0m\u001b[1;32m    189\u001b[0m \u001b[0;34m\u001b[0m\u001b[0m\n\u001b[1;32m    190\u001b[0m         \u001b[0;32mif\u001b[0m \u001b[0mcallable\u001b[0m\u001b[0;34m(\u001b[0m\u001b[0marg\u001b[0m\u001b[0;34m)\u001b[0m\u001b[0;34m:\u001b[0m\u001b[0;34m\u001b[0m\u001b[0;34m\u001b[0m\u001b[0m\n",
            "\u001b[0;32m/usr/local/lib/python3.6/dist-packages/IPython/core/magics/execution.py\u001b[0m in \u001b[0;36mtimeit\u001b[0;34m(self, line, cell)\u001b[0m\n\u001b[1;32m   1060\u001b[0m                     \u001b[0;32mbreak\u001b[0m\u001b[0;34m\u001b[0m\u001b[0;34m\u001b[0m\u001b[0m\n\u001b[1;32m   1061\u001b[0m                 \u001b[0mnumber\u001b[0m \u001b[0;34m*=\u001b[0m \u001b[0;36m10\u001b[0m\u001b[0;34m\u001b[0m\u001b[0;34m\u001b[0m\u001b[0m\n\u001b[0;32m-> 1062\u001b[0;31m         \u001b[0mall_runs\u001b[0m \u001b[0;34m=\u001b[0m \u001b[0mtimer\u001b[0m\u001b[0;34m.\u001b[0m\u001b[0mrepeat\u001b[0m\u001b[0;34m(\u001b[0m\u001b[0mrepeat\u001b[0m\u001b[0;34m,\u001b[0m \u001b[0mnumber\u001b[0m\u001b[0;34m)\u001b[0m\u001b[0;34m\u001b[0m\u001b[0;34m\u001b[0m\u001b[0m\n\u001b[0m\u001b[1;32m   1063\u001b[0m         \u001b[0mbest\u001b[0m \u001b[0;34m=\u001b[0m \u001b[0mmin\u001b[0m\u001b[0;34m(\u001b[0m\u001b[0mall_runs\u001b[0m\u001b[0;34m)\u001b[0m \u001b[0;34m/\u001b[0m \u001b[0mnumber\u001b[0m\u001b[0;34m\u001b[0m\u001b[0;34m\u001b[0m\u001b[0m\n\u001b[1;32m   1064\u001b[0m \u001b[0;34m\u001b[0m\u001b[0m\n",
            "\u001b[0;32m/usr/lib/python3.6/timeit.py\u001b[0m in \u001b[0;36mrepeat\u001b[0;34m(self, repeat, number)\u001b[0m\n\u001b[1;32m    204\u001b[0m         \u001b[0mr\u001b[0m \u001b[0;34m=\u001b[0m \u001b[0;34m[\u001b[0m\u001b[0;34m]\u001b[0m\u001b[0;34m\u001b[0m\u001b[0;34m\u001b[0m\u001b[0m\n\u001b[1;32m    205\u001b[0m         \u001b[0;32mfor\u001b[0m \u001b[0mi\u001b[0m \u001b[0;32min\u001b[0m \u001b[0mrange\u001b[0m\u001b[0;34m(\u001b[0m\u001b[0mrepeat\u001b[0m\u001b[0;34m)\u001b[0m\u001b[0;34m:\u001b[0m\u001b[0;34m\u001b[0m\u001b[0;34m\u001b[0m\u001b[0m\n\u001b[0;32m--> 206\u001b[0;31m             \u001b[0mt\u001b[0m \u001b[0;34m=\u001b[0m \u001b[0mself\u001b[0m\u001b[0;34m.\u001b[0m\u001b[0mtimeit\u001b[0m\u001b[0;34m(\u001b[0m\u001b[0mnumber\u001b[0m\u001b[0;34m)\u001b[0m\u001b[0;34m\u001b[0m\u001b[0;34m\u001b[0m\u001b[0m\n\u001b[0m\u001b[1;32m    207\u001b[0m             \u001b[0mr\u001b[0m\u001b[0;34m.\u001b[0m\u001b[0mappend\u001b[0m\u001b[0;34m(\u001b[0m\u001b[0mt\u001b[0m\u001b[0;34m)\u001b[0m\u001b[0;34m\u001b[0m\u001b[0;34m\u001b[0m\u001b[0m\n\u001b[1;32m    208\u001b[0m         \u001b[0;32mreturn\u001b[0m \u001b[0mr\u001b[0m\u001b[0;34m\u001b[0m\u001b[0;34m\u001b[0m\u001b[0m\n",
            "\u001b[0;32m/usr/local/lib/python3.6/dist-packages/IPython/core/magics/execution.py\u001b[0m in \u001b[0;36mtimeit\u001b[0;34m(self, number)\u001b[0m\n\u001b[1;32m    137\u001b[0m         \u001b[0mgc\u001b[0m\u001b[0;34m.\u001b[0m\u001b[0mdisable\u001b[0m\u001b[0;34m(\u001b[0m\u001b[0;34m)\u001b[0m\u001b[0;34m\u001b[0m\u001b[0;34m\u001b[0m\u001b[0m\n\u001b[1;32m    138\u001b[0m         \u001b[0;32mtry\u001b[0m\u001b[0;34m:\u001b[0m\u001b[0;34m\u001b[0m\u001b[0;34m\u001b[0m\u001b[0m\n\u001b[0;32m--> 139\u001b[0;31m             \u001b[0mtiming\u001b[0m \u001b[0;34m=\u001b[0m \u001b[0mself\u001b[0m\u001b[0;34m.\u001b[0m\u001b[0minner\u001b[0m\u001b[0;34m(\u001b[0m\u001b[0mit\u001b[0m\u001b[0;34m,\u001b[0m \u001b[0mself\u001b[0m\u001b[0;34m.\u001b[0m\u001b[0mtimer\u001b[0m\u001b[0;34m)\u001b[0m\u001b[0;34m\u001b[0m\u001b[0;34m\u001b[0m\u001b[0m\n\u001b[0m\u001b[1;32m    140\u001b[0m         \u001b[0;32mfinally\u001b[0m\u001b[0;34m:\u001b[0m\u001b[0;34m\u001b[0m\u001b[0;34m\u001b[0m\u001b[0m\n\u001b[1;32m    141\u001b[0m             \u001b[0;32mif\u001b[0m \u001b[0mgcold\u001b[0m\u001b[0;34m:\u001b[0m\u001b[0;34m\u001b[0m\u001b[0;34m\u001b[0m\u001b[0m\n",
            "\u001b[0;32m<magic-timeit>\u001b[0m in \u001b[0;36minner\u001b[0;34m(_it, _timer)\u001b[0m\n",
            "\u001b[0;32m<ipython-input-13-aaca21136c5b>\u001b[0m in \u001b[0;36mfloyd_warshall_simple\u001b[0;34m(graph, vertex_num)\u001b[0m\n\u001b[1;32m     12\u001b[0m     \u001b[0;32mfor\u001b[0m \u001b[0mi\u001b[0m \u001b[0;32min\u001b[0m \u001b[0mrange\u001b[0m\u001b[0;34m(\u001b[0m\u001b[0mvertex_num\u001b[0m\u001b[0;34m)\u001b[0m\u001b[0;34m:\u001b[0m\u001b[0;34m\u001b[0m\u001b[0;34m\u001b[0m\u001b[0m\n\u001b[1;32m     13\u001b[0m       \u001b[0;32mfor\u001b[0m \u001b[0mj\u001b[0m \u001b[0;32min\u001b[0m \u001b[0mrange\u001b[0m\u001b[0;34m(\u001b[0m\u001b[0mvertex_num\u001b[0m\u001b[0;34m)\u001b[0m\u001b[0;34m:\u001b[0m\u001b[0;34m\u001b[0m\u001b[0;34m\u001b[0m\u001b[0m\n\u001b[0;32m---> 14\u001b[0;31m         \u001b[0;32mif\u001b[0m \u001b[0mdist\u001b[0m\u001b[0;34m[\u001b[0m\u001b[0mi\u001b[0m\u001b[0;34m]\u001b[0m\u001b[0;34m[\u001b[0m\u001b[0mj\u001b[0m\u001b[0;34m]\u001b[0m \u001b[0;34m>\u001b[0m \u001b[0mdist\u001b[0m\u001b[0;34m[\u001b[0m\u001b[0mi\u001b[0m\u001b[0;34m]\u001b[0m\u001b[0;34m[\u001b[0m\u001b[0mk\u001b[0m\u001b[0;34m]\u001b[0m \u001b[0;34m+\u001b[0m \u001b[0mdist\u001b[0m\u001b[0;34m[\u001b[0m\u001b[0mk\u001b[0m\u001b[0;34m]\u001b[0m\u001b[0;34m[\u001b[0m\u001b[0mj\u001b[0m\u001b[0;34m]\u001b[0m\u001b[0;34m:\u001b[0m\u001b[0;34m\u001b[0m\u001b[0;34m\u001b[0m\u001b[0m\n\u001b[0m\u001b[1;32m     15\u001b[0m           \u001b[0mdist\u001b[0m\u001b[0;34m[\u001b[0m\u001b[0mi\u001b[0m\u001b[0;34m]\u001b[0m\u001b[0;34m[\u001b[0m\u001b[0mj\u001b[0m\u001b[0;34m]\u001b[0m \u001b[0;34m=\u001b[0m \u001b[0mdist\u001b[0m\u001b[0;34m[\u001b[0m\u001b[0mi\u001b[0m\u001b[0;34m]\u001b[0m\u001b[0;34m[\u001b[0m\u001b[0mk\u001b[0m\u001b[0;34m]\u001b[0m \u001b[0;34m+\u001b[0m \u001b[0mdist\u001b[0m\u001b[0;34m[\u001b[0m\u001b[0mk\u001b[0m\u001b[0;34m]\u001b[0m\u001b[0;34m[\u001b[0m\u001b[0mj\u001b[0m\u001b[0;34m]\u001b[0m\u001b[0;34m\u001b[0m\u001b[0;34m\u001b[0m\u001b[0m\n\u001b[1;32m     16\u001b[0m   \u001b[0;32mreturn\u001b[0m \u001b[0mdist\u001b[0m\u001b[0;34m\u001b[0m\u001b[0;34m\u001b[0m\u001b[0m\n",
            "\u001b[0;31mKeyboardInterrupt\u001b[0m: "
          ]
        }
      ]
    },
    {
      "cell_type": "code",
      "metadata": {
        "id": "Gp0V6t0yH7AJ",
        "colab_type": "code",
        "colab": {
          "base_uri": "https://localhost:8080/",
          "height": 170
        },
        "outputId": "9455b9c4-09cd-4912-d659-26de6343f614"
      },
      "source": [
        "#Correctness checks \n",
        "def test_floyd_warshall_algorithms_on_small_matrix():\n",
        "    INPUT = array([\n",
        "        [  0.,  inf,  -2.,  inf],\n",
        "        [  4.,   0.,   3.,  inf],\n",
        "        [ inf,  inf,   0.,   2.],\n",
        "        [ inf,  -1.,  inf,   0.]\n",
        "    ])\n",
        "\n",
        "    OUTPUT = array([\n",
        "        [ 0., -1., -2.,  0.],\n",
        "        [ 4.,  0.,  2.,  4.],\n",
        "        [ 5.,  1.,  0.,  2.],\n",
        "        [ 3., -1.,  1.,  0.]])\n",
        "    print(OUTPUT)\n",
        "    print(floyd_warshall_simple(INPUT,4))\n",
        "    #assert (floyd_warshall_naive(INPUT) == OUTPUT).all()\n",
        "test_floyd_warshall_algorithms_on_small_matrix()"
      ],
      "execution_count": null,
      "outputs": [
        {
          "output_type": "stream",
          "text": [
            "[[ 0. -1. -2.  0.]\n",
            " [ 4.  0.  2.  4.]\n",
            " [ 5.  1.  0.  2.]\n",
            " [ 3. -1.  1.  0.]]\n",
            "[[ 0. -1. -2.  0.]\n",
            " [ 4.  0.  2.  4.]\n",
            " [ 5.  1.  0.  2.]\n",
            " [ 3. -1.  1.  0.]]\n",
            "time: 9.49 ms\n"
          ],
          "name": "stdout"
        }
      ]
    },
    {
      "cell_type": "code",
      "metadata": {
        "id": "433Lnl38Aq2R",
        "colab_type": "code",
        "colab": {
          "base_uri": "https://localhost:8080/",
          "height": 105
        },
        "outputId": "54dd8fab-9874-4570-bf76-9697533673af"
      },
      "source": [
        "!pip install numba"
      ],
      "execution_count": null,
      "outputs": [
        {
          "output_type": "stream",
          "text": [
            "Requirement already satisfied: numba in /usr/local/lib/python3.6/dist-packages (0.48.0)\n",
            "Requirement already satisfied: setuptools in /usr/local/lib/python3.6/dist-packages (from numba) (47.1.1)\n",
            "Requirement already satisfied: llvmlite<0.32.0,>=0.31.0dev0 in /usr/local/lib/python3.6/dist-packages (from numba) (0.31.0)\n",
            "Requirement already satisfied: numpy>=1.15 in /usr/local/lib/python3.6/dist-packages (from numba) (1.18.4)\n"
          ],
          "name": "stdout"
        }
      ]
    },
    {
      "cell_type": "code",
      "metadata": {
        "id": "b0_iMhiJUHHq",
        "colab_type": "code",
        "colab": {}
      },
      "source": [
        "from numba import jit\n",
        "import numpy as np \n",
        "\n",
        "@jit(nopython=True)\n",
        "def floyd_warshall_nb(graph,vertex_num):\n",
        "  dist = (np.ones((vertex_num,vertex_num)) * np.inf)\n",
        "  for a in range(vertex_num):\n",
        "    dist[a][a]=0\n",
        "  for b in range(vertex_num):\n",
        "    for c in range(vertex_num):\n",
        "      if graph[b][c] != 0:\n",
        "        dist[b][c]=graph[b][c]\n",
        "  for k in range(vertex_num): #has dependences, careful with these. Must be sequential\n",
        "    for i in range(vertex_num): #i, j is indep, prange >\n",
        "      for j in range(vertex_num): #i, j is indep,  prange?\n",
        "        if dist[i][j] > dist[i][k] + dist[k][j]:\n",
        "          dist[i][j] = dist[i][k] + dist[k][j]\n",
        "  return dist"
      ],
      "execution_count": null,
      "outputs": []
    },
    {
      "cell_type": "code",
      "metadata": {
        "id": "YPCR4glKgvGE",
        "colab_type": "code",
        "colab": {}
      },
      "source": [
        "adjlist=to_numpy_array(G)"
      ],
      "execution_count": null,
      "outputs": []
    },
    {
      "cell_type": "markdown",
      "metadata": {
        "id": "-bMMP0GrfE56",
        "colab_type": "text"
      },
      "source": [
        "On the first call for the graph with 1700x1700 adj matrix, it takes 662 ms. THis is because the first time the function is run it has to do numba's compile step. Second call and onwards takes in the order of 3.62 ms to 6.5 ms. TODO: run this experiment on bigger graphs, as at this speed other costs can come into play.  "
      ]
    },
    {
      "cell_type": "code",
      "metadata": {
        "id": "rjkicU30DTPG",
        "colab_type": "code",
        "colab": {
          "base_uri": "https://localhost:8080/",
          "height": 51
        },
        "outputId": "79e412de-4436-4ec1-a713-3c4a4ed4396a"
      },
      "source": [
        "obj= %timeit -n 3 -o floyd_warshall_nb(adjlist,4228)\n",
        "obj.all_runs"
      ],
      "execution_count": null,
      "outputs": [
        {
          "output_type": "stream",
          "text": [
            "3 loops, best of 3: 2min 9s per loop\n"
          ],
          "name": "stdout"
        },
        {
          "output_type": "execute_result",
          "data": {
            "text/plain": [
              "[388.97960488699937, 388.3968831210004, 388.8255705519987]"
            ]
          },
          "metadata": {
            "tags": []
          },
          "execution_count": 38
        }
      ]
    },
    {
      "cell_type": "markdown",
      "metadata": {
        "id": "Xjbsxhwt56sK",
        "colab_type": "text"
      },
      "source": [
        "Ok, since this is using numba let's see how it looks below the hood. "
      ]
    },
    {
      "cell_type": "markdown",
      "metadata": {
        "id": "N9cuWYlcWzZp",
        "colab_type": "text"
      },
      "source": [
        "Just by adding jit we took down the runtime down drastically (from 1.7 seconds to 404 ms. Now our implementation is faster than scipys by a significant amount. But, let's parallelize ours! "
      ]
    },
    {
      "cell_type": "code",
      "metadata": {
        "id": "4RB8u0PrfwkX",
        "colab_type": "code",
        "colab": {}
      },
      "source": [
        "#Now, to parallelize it \n",
        "from numba import jit\n",
        "from numba import prange\n",
        "import numpy as np \n",
        "\n",
        "@jit(nopython=True,parallel=True)\n",
        "def floyd_warshall_parallel_nb(graph,vertex_num):\n",
        "  dist = (np.ones((vertex_num,vertex_num)) * np.inf)\n",
        "  for a in prange(vertex_num):\n",
        "    dist[a][a]=0\n",
        "  for b in prange(vertex_num):\n",
        "    for c in prange(vertex_num):\n",
        "      if graph[b][c] != 0:\n",
        "        dist[b][c]=graph[b][c]\n",
        "  for k in range(vertex_num): #has dependences, careful with these. Must be sequential\n",
        "    for i in prange(vertex_num): #i, j is indep, prange to parallize it\n",
        "      for j in prange(vertex_num): #i, j is indep,  prange to parallelize it \n",
        "        if dist[i][j] > dist[i][k] + dist[k][j]:\n",
        "          dist[i][j] = dist[i][k] + dist[k][j]\n",
        "  return dist"
      ],
      "execution_count": null,
      "outputs": []
    },
    {
      "cell_type": "code",
      "metadata": {
        "id": "sldJLd6s6JHz",
        "colab_type": "code",
        "colab": {
          "base_uri": "https://localhost:8080/",
          "height": 51
        },
        "outputId": "d43d3818-65a9-4777-f979-e3095a5caf4a"
      },
      "source": [
        "obj= %timeit -n 1 -o floyd_warshall_parallel_nb(adjlist,4228)\n",
        "obj.all_runs"
      ],
      "execution_count": null,
      "outputs": [
        {
          "output_type": "stream",
          "text": [
            "1 loop, best of 3: 1min 32s per loop\n"
          ],
          "name": "stdout"
        },
        {
          "output_type": "execute_result",
          "data": {
            "text/plain": [
              "[94.98123240099994, 93.3153924659996, 92.84180907300015]"
            ]
          },
          "metadata": {
            "tags": []
          },
          "execution_count": 7
        }
      ]
    },
    {
      "cell_type": "code",
      "metadata": {
        "id": "Z8mWCoKV4fit",
        "colab_type": "code",
        "colab": {}
      },
      "source": [
        ""
      ],
      "execution_count": null,
      "outputs": []
    },
    {
      "cell_type": "code",
      "metadata": {
        "id": "ZLaNwNUC4g94",
        "colab_type": "code",
        "colab": {}
      },
      "source": [
        ""
      ],
      "execution_count": null,
      "outputs": []
    },
    {
      "cell_type": "code",
      "metadata": {
        "id": "7HJbVl2L2jix",
        "colab_type": "code",
        "colab": {}
      },
      "source": [
        "from numba import jit\n",
        "from numba import prange\n",
        "import numpy as np \n",
        "\n",
        "@jit(nopython=True,parallel=True,fastmath=True)\n",
        "def floyd_warshall_parallel_nb_optimized(graph,vertex_num):\n",
        "  dist = (np.ones((vertex_num,vertex_num)) * np.inf)\n",
        "  for a in prange(vertex_num):\n",
        "    dist[a][a]=0\n",
        "  for b in prange(vertex_num):\n",
        "    for c in prange(vertex_num):\n",
        "      if graph[b][c] != 0:\n",
        "        dist[b][c]=graph[b][c]\n",
        "  for k in range(vertex_num): #has dependences, careful with these. Must be sequential\n",
        "    for i in prange(vertex_num): #i, j is indep, prange to parallize it\n",
        "      for j in prange(vertex_num): #i, j is indep,  prange to parallelize it \n",
        "        if dist[i][j] > dist[i][k] + dist[k][j]:\n",
        "          dist[i][j] = dist[i][k] + dist[k][j]\n",
        "  return dist"
      ],
      "execution_count": null,
      "outputs": []
    },
    {
      "cell_type": "code",
      "metadata": {
        "id": "QRmxEsVh4ht7",
        "colab_type": "code",
        "colab": {
          "base_uri": "https://localhost:8080/",
          "height": 68
        },
        "outputId": "018fab87-d4db-4a6f-f3fc-fba845aa2b3f"
      },
      "source": [
        "obj= %timeit -n 1 -o floyd_warshall_parallel_nb_optimized(adjlist,74)\n",
        "obj.all_runs"
      ],
      "execution_count": null,
      "outputs": [
        {
          "output_type": "stream",
          "text": [
            "The slowest run took 675.74 times longer than the fastest. This could mean that an intermediate result is being cached.\n",
            "1 loop, best of 3: 2.68 ms per loop\n"
          ],
          "name": "stdout"
        },
        {
          "output_type": "execute_result",
          "data": {
            "text/plain": [
              "[1.8132510680006817, 0.009130424000431958, 0.0026833379997697193]"
            ]
          },
          "metadata": {
            "tags": []
          },
          "execution_count": 16
        }
      ]
    },
    {
      "cell_type": "code",
      "metadata": {
        "id": "wHbymfCWn-C9",
        "colab_type": "code",
        "colab": {}
      },
      "source": [
        ""
      ],
      "execution_count": null,
      "outputs": []
    },
    {
      "cell_type": "code",
      "metadata": {
        "id": "34FRDOOmnvr4",
        "colab_type": "code",
        "colab": {}
      },
      "source": [
        "from numba import jit\n",
        "from numba import prange\n",
        "import numpy as np \n",
        "\n",
        "@jit(nopython=True,parallel=True)\n",
        "def floyd_warshall_parallel_nb_opt(graph,vertex_num):\n",
        "  dist = (np.ones((vertex_num,vertex_num)) * np.inf)\n",
        "  for a in prange(vertex_num):\n",
        "    dist[a][a]=0\n",
        "  for b in prange(vertex_num):\n",
        "    for c in prange(vertex_num):\n",
        "      if graph[b][c] != 0:\n",
        "        dist[b][c]=graph[b][c]\n",
        "  for k in range(vertex_num): #has dependences, careful with these. Must be sequential\n",
        "    for i in prange(vertex_num): #i, j is indep, prange to parallize it\n",
        "      for j in prange(vertex_num): #i, j is indep,  prange to parallelize it \n",
        "        myint=dist[i][k]+dist[k][j]\n",
        "        if dist[i][j] > myint:\n",
        "          dist[i][j] = myint\n",
        "  return dist"
      ],
      "execution_count": null,
      "outputs": []
    },
    {
      "cell_type": "code",
      "metadata": {
        "id": "7jlmpUO2n_PN",
        "colab_type": "code",
        "colab": {
          "base_uri": "https://localhost:8080/",
          "height": 68
        },
        "outputId": "1a28a6eb-eba4-4a3f-fc84-f38b78c1da29"
      },
      "source": [
        "obj= %timeit -n 1 -o floyd_warshall_parallel_nb_opt(adjlist,74)\n",
        "obj.all_runs"
      ],
      "execution_count": null,
      "outputs": [
        {
          "output_type": "stream",
          "text": [
            "The slowest run took 792.46 times longer than the fastest. This could mean that an intermediate result is being cached.\n",
            "1 loop, best of 3: 2.38 ms per loop\n"
          ],
          "name": "stdout"
        },
        {
          "output_type": "execute_result",
          "data": {
            "text/plain": [
              "[1.8849546050005301, 0.002588338999885309, 0.00237860300057946]"
            ]
          },
          "metadata": {
            "tags": []
          },
          "execution_count": 10
        }
      ]
    },
    {
      "cell_type": "code",
      "metadata": {
        "id": "lphFFokn78Ns",
        "colab_type": "code",
        "colab": {
          "base_uri": "https://localhost:8080/",
          "height": 232
        },
        "outputId": "3ef657be-cc5b-4854-cab3-7acf8164e42f"
      },
      "source": [
        "#This is to implement it on a semiring with the min + operations. \n",
        "import numpy as np \n",
        "@jit(nopython=True,parallel=True)\n",
        "def floyd_warshall_semir(graph,vertex_num):\n",
        "  dist = (np.ones((vertex_num,vertex_num)) * np.inf)\n",
        "  for a in range(vertex_num):\n",
        "    dist[a][a]=0\n",
        "  for b in range(vertex_num):\n",
        "    for c in range(vertex_num):\n",
        "      if graph[b][c] != 0:\n",
        "        dist[b][c]=graph[b][c]\n",
        "  for k in range(vertex_num):\n",
        "    for i in prange(vertex_num):\n",
        "      for j in prange(vertex_num):\n",
        "        dist[i][j]=min(dist[i][j],dist[i][k]+dist[k][j])\n",
        "  return dist\n",
        "  #Todo: correctness check and benchmarks "
      ],
      "execution_count": null,
      "outputs": [
        {
          "output_type": "error",
          "ename": "NameError",
          "evalue": "ignored",
          "traceback": [
            "\u001b[0;31m---------------------------------------------------------------------------\u001b[0m",
            "\u001b[0;31mNameError\u001b[0m                                 Traceback (most recent call last)",
            "\u001b[0;32m<ipython-input-8-fe0002d605fa>\u001b[0m in \u001b[0;36m<module>\u001b[0;34m()\u001b[0m\n\u001b[1;32m      1\u001b[0m \u001b[0;31m#This is to implement it on a semiring with the min + operations.\u001b[0m\u001b[0;34m\u001b[0m\u001b[0;34m\u001b[0m\u001b[0;34m\u001b[0m\u001b[0m\n\u001b[1;32m      2\u001b[0m \u001b[0;32mimport\u001b[0m \u001b[0mnumpy\u001b[0m \u001b[0;32mas\u001b[0m \u001b[0mnp\u001b[0m\u001b[0;34m\u001b[0m\u001b[0;34m\u001b[0m\u001b[0m\n\u001b[0;32m----> 3\u001b[0;31m \u001b[0;34m@\u001b[0m\u001b[0mjit\u001b[0m\u001b[0;34m(\u001b[0m\u001b[0mnopython\u001b[0m\u001b[0;34m=\u001b[0m\u001b[0;32mTrue\u001b[0m\u001b[0;34m,\u001b[0m\u001b[0mparallel\u001b[0m\u001b[0;34m=\u001b[0m\u001b[0;32mTrue\u001b[0m\u001b[0;34m)\u001b[0m\u001b[0;34m\u001b[0m\u001b[0;34m\u001b[0m\u001b[0m\n\u001b[0m\u001b[1;32m      4\u001b[0m \u001b[0;32mdef\u001b[0m \u001b[0mfloyd_warshall_semir\u001b[0m\u001b[0;34m(\u001b[0m\u001b[0mgraph\u001b[0m\u001b[0;34m,\u001b[0m\u001b[0mvertex_num\u001b[0m\u001b[0;34m)\u001b[0m\u001b[0;34m:\u001b[0m\u001b[0;34m\u001b[0m\u001b[0;34m\u001b[0m\u001b[0m\n\u001b[1;32m      5\u001b[0m   \u001b[0mdist\u001b[0m \u001b[0;34m=\u001b[0m \u001b[0;34m(\u001b[0m\u001b[0mnp\u001b[0m\u001b[0;34m.\u001b[0m\u001b[0mones\u001b[0m\u001b[0;34m(\u001b[0m\u001b[0;34m(\u001b[0m\u001b[0mvertex_num\u001b[0m\u001b[0;34m,\u001b[0m\u001b[0mvertex_num\u001b[0m\u001b[0;34m)\u001b[0m\u001b[0;34m)\u001b[0m \u001b[0;34m*\u001b[0m \u001b[0mnp\u001b[0m\u001b[0;34m.\u001b[0m\u001b[0minf\u001b[0m\u001b[0;34m)\u001b[0m\u001b[0;34m\u001b[0m\u001b[0;34m\u001b[0m\u001b[0m\n",
            "\u001b[0;31mNameError\u001b[0m: name 'jit' is not defined"
          ]
        }
      ]
    },
    {
      "cell_type": "code",
      "metadata": {
        "id": "VEdVShwpkXLK",
        "colab_type": "code",
        "colab": {
          "base_uri": "https://localhost:8080/",
          "height": 51
        },
        "outputId": "58154976-e7ed-4a0f-9b14-56acc3d3037e"
      },
      "source": [
        "obj= %timeit -n 1 -o floyd_warshall_semir(adjlist,4228)\n",
        "obj.all_runs"
      ],
      "execution_count": null,
      "outputs": [
        {
          "output_type": "stream",
          "text": [
            "1 loop, best of 3: 1min 11s per loop\n"
          ],
          "name": "stdout"
        },
        {
          "output_type": "execute_result",
          "data": {
            "text/plain": [
              "[72.53005440700144, 71.52838812999835, 71.8490746690004]"
            ]
          },
          "metadata": {
            "tags": []
          },
          "execution_count": 17
        }
      ]
    },
    {
      "cell_type": "code",
      "metadata": {
        "id": "oZYLZ0iyL6LM",
        "colab_type": "code",
        "colab": {}
      },
      "source": [
        "\n"
      ],
      "execution_count": null,
      "outputs": []
    },
    {
      "cell_type": "code",
      "metadata": {
        "id": "ASRRaKblPqb3",
        "colab_type": "code",
        "colab": {}
      },
      "source": [
        "%load_ext Cython"
      ],
      "execution_count": 7,
      "outputs": []
    },
    {
      "cell_type": "code",
      "metadata": {
        "id": "UpE1SPBrPsUz",
        "colab_type": "code",
        "colab": {}
      },
      "source": [
        "%%cython\n",
        "import numpy as np \n",
        "import numba\n",
        "\n",
        "def floyd_warshall_cython(graph, int vertex_num):\n",
        "  dist = (np.ones((vertex_num,vertex_num)) * np.inf)\n",
        "  cdef int a,b,c,k,j,i\n",
        "  for a in range(vertex_num):\n",
        "    dist[a][a]=0\n",
        "  for b in range(vertex_num):\n",
        "    for c in range(vertex_num):\n",
        "      if graph[b][c] != 0:\n",
        "        dist[b][c]=graph[b][c]\n",
        "  for k in range(vertex_num):\n",
        "    for i in range(vertex_num):\n",
        "      for j in range(vertex_num):\n",
        "          dist[i][j]=min(dist[i][j],dist[i][k]+dist[k][j])\n",
        "  return dist"
      ],
      "execution_count": null,
      "outputs": []
    },
    {
      "cell_type": "code",
      "metadata": {
        "id": "nFdh0ZDyP0b0",
        "colab_type": "code",
        "colab": {
          "base_uri": "https://localhost:8080/",
          "height": 51
        },
        "outputId": "9309530c-dfac-43ac-dc65-76ee4b70a843"
      },
      "source": [
        "obj= %timeit -n 1 -o floyd_warshall_cython(adjlist,74)\n",
        "obj.all_runs\n",
        "#todo try small graph (by hand) for correctness (are my types right?) \n",
        "#wait why would i be trying to add infinity??? need an if else somewhere\n",
        "#todo: cython prange???\n",
        "#double check correctness (if same answer but slower, try to track it down) (check the core+scipy scaffolding) (try to get scipys running for me)\n",
        "#another thing to try: not colab! Does this happen on jupyter local???? If that doesn't work, try stackoverflow post (probalby figure it out in the proces)\n",
        "#after this is working, introduce parallelism (goal: parallel numba/scipy > scipy)\n",
        "# why is there a gap between numab and cython? \n",
        "#next: parent pointers! Algo variations (how to make it work better)\n",
        "# next: APSP once then the graph changes. Is there a way to update and reuse instead of recompute (there has to be smt to do this...)\n",
        "# what does the updating look like in algbraic? Should look similar? Need to check (2 cases: #nodes is the same, only edges change (matrix a+ delta + a times delta))"
      ],
      "execution_count": null,
      "outputs": [
        {
          "output_type": "stream",
          "text": [
            "1 loop, best of 3: 315 ms per loop\n"
          ],
          "name": "stdout"
        },
        {
          "output_type": "execute_result",
          "data": {
            "text/plain": [
              "[0.3347447630003444, 0.31512190400007967, 0.33910887599995476]"
            ]
          },
          "metadata": {
            "tags": []
          },
          "execution_count": 14
        }
      ]
    },
    {
      "cell_type": "code",
      "metadata": {
        "id": "X-IjUEjviSZI",
        "colab_type": "code",
        "colab": {}
      },
      "source": [
        "#I took the source code of scipy, trimmed it down extensively, and put it here. \n",
        "#It took some work figuring out what to do with the types; they used a PXI file and included it originally\n",
        "#Instead, I just put them at the top of the cell (this is the Dtype stuff)\n",
        "%%cython\n",
        "import warnings\n",
        "\n",
        "import numpy as np\n",
        "cimport numpy as np\n",
        "\n",
        "from scipy.sparse import csr_matrix, isspmatrix, isspmatrix_csr, isspmatrix_csc\n",
        "from scipy.sparse.csgraph._validation import validate_graph\n",
        "\n",
        "cimport cython\n",
        "\n",
        "from libc.stdlib cimport malloc, free\n",
        "from numpy.math cimport INFINITY\n",
        "\n",
        "DTYPE = np.float64\n",
        "ctypedef np.float64_t DTYPE_t\n",
        "\n",
        "ITYPE = np.int32\n",
        "ctypedef np.int32_t ITYPE_t\n",
        "\n",
        "# Fused type for int32 and int64\n",
        "ctypedef fused int32_or_int64:\n",
        "    np.int32_t\n",
        "    np.int64_t\n",
        "\n",
        "# EPS is the precision of DTYPE\n",
        "DEF DTYPE_EPS = 1E-15\n",
        "\n",
        "# NULL_IDX is the index used in predecessor matrices to store a non-path\n",
        "DEF NULL_IDX = -9999\n",
        "\n",
        "class NegativeCycleError(Exception):\n",
        "    def __init__(self, message=''):\n",
        "        Exception.__init__(self, message)\n",
        "\n",
        "def floyd_warshall_scipy(csgraph, directed=True,\n",
        "                   return_predecessors=False,\n",
        "                   unweighted=False,\n",
        "                   overwrite=False):\n",
        "    dist_matrix = validate_graph(csgraph, directed, DTYPE,\n",
        "                                 csr_output=False,\n",
        "                                 copy_if_dense=not overwrite)\n",
        "    if not isspmatrix(csgraph):\n",
        "        # for dense array input, zero entries represent non-edge\n",
        "        dist_matrix[dist_matrix == 0] = INFINITY\n",
        "\n",
        "    if unweighted:\n",
        "        dist_matrix[~np.isinf(dist_matrix)] = 1\n",
        "\n",
        "    if return_predecessors:\n",
        "        predecessor_matrix = np.empty(dist_matrix.shape,\n",
        "                                      dtype=ITYPE, order='C')\n",
        "    else:\n",
        "        predecessor_matrix = np.empty((0, 0), dtype=ITYPE)\n",
        "\n",
        "    _floyd_warshall(dist_matrix,\n",
        "                    predecessor_matrix,\n",
        "                    int(directed))\n",
        "\n",
        "    if np.any(dist_matrix.diagonal() < 0):\n",
        "        raise NegativeCycleError(\"Negative cycle in nodes %s\"\n",
        "                                 % np.where(dist_matrix.diagonal() < 0)[0])\n",
        "\n",
        "    if return_predecessors:\n",
        "        return dist_matrix, predecessor_matrix\n",
        "    else:\n",
        "        return dist_matrix\n",
        "\n",
        "@cython.boundscheck(False)\n",
        "cdef void _floyd_warshall(\n",
        "               np.ndarray[DTYPE_t, ndim=2, mode='c'] dist_matrix,\n",
        "               np.ndarray[ITYPE_t, ndim=2, mode='c'] predecessor_matrix,\n",
        "               int directed=0):\n",
        "    # dist_matrix : in/out\n",
        "    #    on input, the graph\n",
        "    #    on output, the matrix of shortest paths\n",
        "    # dist_matrix should be a [N,N] matrix, such that dist_matrix[i, j]\n",
        "    # is the distance from point i to point j.  Zero-distances imply that\n",
        "    # the points are not connected.\n",
        "    cdef int N = dist_matrix.shape[0]\n",
        "    assert dist_matrix.shape[1] == N\n",
        "\n",
        "    cdef unsigned int i, j, k\n",
        "\n",
        "    cdef DTYPE_t d_ijk\n",
        "\n",
        "    # ----------------------------------------------------------------------\n",
        "    #  Initialize distance matrix\n",
        "    #   - set diagonal to zero\n",
        "    #   - symmetrize matrix if non-directed graph is desired\n",
        "    dist_matrix.flat[::N + 1] = 0\n",
        "    if not directed:\n",
        "        for i in range(N):\n",
        "            for j in range(i + 1, N):\n",
        "                if dist_matrix[j, i] <= dist_matrix[i, j]:\n",
        "                    dist_matrix[i, j] = dist_matrix[j, i]\n",
        "                else:\n",
        "                    dist_matrix[j, i] = dist_matrix[i, j]\n",
        "\n",
        "    #----------------------------------------------------------------------\n",
        "    #  Initialize predecessor matrix\n",
        "    #   - check matrix size\n",
        "    #   - initialize diagonal and all non-edges to NULL\n",
        "    #   - initialize all edges to the row index\n",
        "    cdef int store_predecessors = False\n",
        "\n",
        "    if predecessor_matrix.size > 0:\n",
        "        store_predecessors = True\n",
        "        assert predecessor_matrix.shape[0] == N\n",
        "        assert predecessor_matrix.shape[1] == N\n",
        "        predecessor_matrix.fill(NULL_IDX)\n",
        "        i_edge = np.where(~np.isinf(dist_matrix))\n",
        "        predecessor_matrix[i_edge] = i_edge[0]\n",
        "        predecessor_matrix.flat[::N + 1] = NULL_IDX\n",
        "\n",
        "    # Now perform the Floyd-Warshall algorithm.\n",
        "    # In each loop, this finds the shortest path from point i\n",
        "    #  to point j using intermediate nodes 0 ... k\n",
        "    if store_predecessors:\n",
        "        for k in range(N):\n",
        "            for i in range(N):\n",
        "                if dist_matrix[i, k] == INFINITY:\n",
        "                    continue\n",
        "                for j in range(N):\n",
        "                    d_ijk = dist_matrix[i, k] + dist_matrix[k, j]\n",
        "                    if d_ijk < dist_matrix[i, j]:\n",
        "                        dist_matrix[i, j] = d_ijk\n",
        "                        predecessor_matrix[i, j] = predecessor_matrix[k, j]\n",
        "    else:\n",
        "        for k in range(N):\n",
        "            for i in range(N):\n",
        "                if dist_matrix[i, k] == INFINITY:\n",
        "                    continue\n",
        "                for j in range(N):\n",
        "                    d_ijk = dist_matrix[i, k] + dist_matrix[k, j]\n",
        "                    if d_ijk < dist_matrix[i, j]:\n",
        "                        dist_matrix[i, j] = d_ijk"
      ],
      "execution_count": 8,
      "outputs": []
    },
    {
      "cell_type": "code",
      "metadata": {
        "id": "2P9cSNHKy0vz",
        "colab_type": "code",
        "colab": {
          "base_uri": "https://localhost:8080/",
          "height": 34
        },
        "outputId": "67c0bc92-4abc-4fa8-a966-a58b0995b8df"
      },
      "source": [
        "%timeit floyd_warshall_scipy(adjlist)"
      ],
      "execution_count": 85,
      "outputs": [
        {
          "output_type": "stream",
          "text": [
            "1 loop, best of 3: 58.8 s per loop\n"
          ],
          "name": "stdout"
        }
      ]
    },
    {
      "cell_type": "code",
      "metadata": {
        "id": "PO_NTqXhzwNL",
        "colab_type": "code",
        "colab": {}
      },
      "source": [
        "#I took the source code of scipy, trimmed it down extensively, and put it here. \n",
        "#It took some work figuring out what to do with the types; they used a PXI file and included it originally\n",
        "#Instead, I just put them at the top of the cell (this is the Dtype stuff)\n",
        "#%%cython --compile-args=-fopenmp --link-args=-fopenmp --force\n",
        "%%cython -f\n",
        "import warnings\n",
        "from cython.parallel import prange\n",
        "import cython.parallel as cp\n",
        "import numpy as np\n",
        "cimport numpy as np\n",
        "cimport openmp\n",
        "from scipy.sparse import csr_matrix, isspmatrix, isspmatrix_csr, isspmatrix_csc\n",
        "from scipy.sparse.csgraph._validation import validate_graph\n",
        "\n",
        "cimport cython\n",
        "\n",
        "from libc.stdlib cimport malloc, free\n",
        "from numpy.math cimport INFINITY\n",
        "\n",
        "DTYPE = np.float64\n",
        "ctypedef np.float64_t DTYPE_t\n",
        "\n",
        "ITYPE = np.int32\n",
        "ctypedef np.int32_t ITYPE_t\n",
        "\n",
        "# Fused type for int32 and int64\n",
        "ctypedef fused int32_or_int64:\n",
        "    np.int32_t\n",
        "    np.int64_t\n",
        "\n",
        "# EPS is the precision of DTYPE\n",
        "DEF DTYPE_EPS = 1E-15\n",
        "\n",
        "# NULL_IDX is the index used in predecessor matrices to store a non-path\n",
        "DEF NULL_IDX = -9999\n",
        "\n",
        "\n",
        "class NegativeCycleError(Exception):\n",
        "    def __init__(self, message=''):\n",
        "        Exception.__init__(self, message)\n",
        "\n",
        "def floyd_warshall_scipy_parallel(csgraph, directed=True,\n",
        "                   return_predecessors=False,\n",
        "                   unweighted=False,\n",
        "                   overwrite=False):\n",
        "    dist_matrix = validate_graph(csgraph, directed, DTYPE,\n",
        "                                 csr_output=False,\n",
        "                                 copy_if_dense=not overwrite)\n",
        "    if not isspmatrix(csgraph):\n",
        "        # for dense array input, zero entries represent non-edge\n",
        "        dist_matrix[dist_matrix == 0] = INFINITY\n",
        "\n",
        "    if unweighted:\n",
        "        dist_matrix[~np.isinf(dist_matrix)] = 1\n",
        "\n",
        "    if return_predecessors:\n",
        "        predecessor_matrix = np.empty(dist_matrix.shape,\n",
        "                                      dtype=ITYPE, order='C')\n",
        "    else:\n",
        "        predecessor_matrix = np.empty((0, 0), dtype=ITYPE)\n",
        "\n",
        "    _floyd_warshall(dist_matrix,\n",
        "                    predecessor_matrix,\n",
        "                    int(directed))\n",
        "\n",
        "    if np.any(dist_matrix.diagonal() < 0):\n",
        "        raise NegativeCycleError(\"Negative cycle in nodes %s\"\n",
        "                                 % np.where(dist_matrix.diagonal() < 0)[0])\n",
        "\n",
        "    if return_predecessors:\n",
        "        return dist_matrix, predecessor_matrix\n",
        "    else:\n",
        "        return dist_matrix\n",
        "\n",
        "@cython.boundscheck(False)\n",
        "cdef void _floyd_warshall(\n",
        "               np.ndarray[DTYPE_t, ndim=2, mode='c'] dist_matrix,\n",
        "               np.ndarray[ITYPE_t, ndim=2, mode='c'] predecessor_matrix,\n",
        "               int directed=0):\n",
        "    # dist_matrix : in/out\n",
        "    #    on input, the graph\n",
        "    #    on output, the matrix of shortest paths\n",
        "    # dist_matrix should be a [N,N] matrix, such that dist_matrix[i, j]\n",
        "    # is the distance from point i to point j.  Zero-distances imply that\n",
        "    # the points are not connected.\n",
        "    cdef int N = dist_matrix.shape[0]\n",
        "    assert dist_matrix.shape[1] == N\n",
        "\n",
        "    #cdef unsigned int i, j, k\n",
        "    cdef int i, j, k\n",
        "    cdef DTYPE_t d_ijk\n",
        "\n",
        "    # ----------------------------------------------------------------------\n",
        "    #  Initialize distance matrix\n",
        "    #   - set diagonal to zero\n",
        "    #   - symmetrize matrix if non-directed graph is desired\n",
        "    dist_matrix.flat[::N + 1] = 0\n",
        "    if not directed:\n",
        "        for i in range(N):\n",
        "            for j in range(i + 1, N):\n",
        "                if dist_matrix[j, i] <= dist_matrix[i, j]:\n",
        "                    dist_matrix[i, j] = dist_matrix[j, i]\n",
        "                else:\n",
        "                    dist_matrix[j, i] = dist_matrix[i, j]\n",
        "\n",
        "    #----------------------------------------------------------------------\n",
        "    #  Initialize predecessor matrix\n",
        "    #   - check matrix size\n",
        "    #   - initialize diagonal and all non-edges to NULL\n",
        "    #   - initialize all edges to the row index\n",
        "    cdef int store_predecessors = False\n",
        "\n",
        "    if predecessor_matrix.size > 0:\n",
        "        store_predecessors = True\n",
        "        assert predecessor_matrix.shape[0] == N\n",
        "        assert predecessor_matrix.shape[1] == N\n",
        "        predecessor_matrix.fill(NULL_IDX)\n",
        "        i_edge = np.where(~np.isinf(dist_matrix))\n",
        "        predecessor_matrix[i_edge] = i_edge[0]\n",
        "        predecessor_matrix.flat[::N + 1] = NULL_IDX\n",
        "\n",
        "    # Now perform the Floyd-Warshall algorithm.\n",
        "    # In each loop, this finds the shortest path from point i\n",
        "    #  to point j using intermediate nodes 0 ... k\n",
        "    if store_predecessors:\n",
        "        for k in range(N):\n",
        "            for i in range(N):\n",
        "                if dist_matrix[i, k] == INFINITY:\n",
        "                    continue\n",
        "                for j in range(N):\n",
        "                    d_ijk = dist_matrix[i, k] + dist_matrix[k, j]\n",
        "                    if d_ijk < dist_matrix[i, j]:\n",
        "                        dist_matrix[i, j] = d_ijk\n",
        "                        predecessor_matrix[i, j] = predecessor_matrix[k, j]\n",
        "    else:\n",
        "        for k in range(N):\n",
        "            for i in prange(N,nogil=True):\n",
        "                if dist_matrix[i, k] == INFINITY:\n",
        "                    continue\n",
        "                for j in prange(N):\n",
        "                    d_ijk = dist_matrix[i, k] + dist_matrix[k, j]\n",
        "                    if d_ijk < dist_matrix[i, j]:\n",
        "                        dist_matrix[i, j] = d_ijk"
      ],
      "execution_count": 9,
      "outputs": []
    },
    {
      "cell_type": "code",
      "metadata": {
        "id": "3EINljW-0u2R",
        "colab_type": "code",
        "colab": {
          "base_uri": "https://localhost:8080/",
          "height": 34
        },
        "outputId": "9c672993-25cb-49af-c665-8662e964d9cc"
      },
      "source": [
        "%timeit floyd_warshall_scipy_parallel(adjlist)"
      ],
      "execution_count": 122,
      "outputs": [
        {
          "output_type": "stream",
          "text": [
            "1 loop, best of 3: 51.3 s per loop\n"
          ],
          "name": "stdout"
        }
      ]
    },
    {
      "cell_type": "code",
      "metadata": {
        "id": "aX6rM6b85P6z",
        "colab_type": "code",
        "colab": {}
      },
      "source": [
        "#I took the source code of scipy, trimmed it down extensively, and put it here. \n",
        "#It took some work figuring out what to do with the types; they used a PXI file and included it originally\n",
        "#Instead, I just put them at the top of the cell (this is the Dtype stuff)\n",
        "#%%cython --compile-args=-fopenmp --link-args=-fopenmp --force\n",
        "%%cython -f\n",
        "import warnings\n",
        "from cython.parallel import prange\n",
        "import cython.parallel as cp\n",
        "import numpy as np\n",
        "cimport numpy as np\n",
        "cimport openmp\n",
        "from scipy.sparse import csr_matrix, isspmatrix, isspmatrix_csr, isspmatrix_csc\n",
        "from scipy.sparse.csgraph._validation import validate_graph\n",
        "\n",
        "cimport cython\n",
        "\n",
        "from libc.stdlib cimport malloc, free\n",
        "from numpy.math cimport INFINITY\n",
        "\n",
        "DTYPE = np.float64\n",
        "ctypedef np.float64_t DTYPE_t\n",
        "\n",
        "ITYPE = np.int32\n",
        "ctypedef np.int32_t ITYPE_t\n",
        "\n",
        "# Fused type for int32 and int64\n",
        "ctypedef fused int32_or_int64:\n",
        "    np.int32_t\n",
        "    np.int64_t\n",
        "\n",
        "# EPS is the precision of DTYPE\n",
        "DEF DTYPE_EPS = 1E-15\n",
        "\n",
        "# NULL_IDX is the index used in predecessor matrices to store a non-path\n",
        "DEF NULL_IDX = -9999\n",
        "\n",
        "\n",
        "class NegativeCycleError(Exception):\n",
        "    def __init__(self, message=''):\n",
        "        Exception.__init__(self, message)\n",
        "\n",
        "def floyd_warshall_scipy_parallel_semir(csgraph, directed=True,\n",
        "                   return_predecessors=False,\n",
        "                   unweighted=False,\n",
        "                   overwrite=False):\n",
        "    dist_matrix = validate_graph(csgraph, directed, DTYPE,\n",
        "                                 csr_output=False,\n",
        "                                 copy_if_dense=not overwrite)\n",
        "    if not isspmatrix(csgraph):\n",
        "        # for dense array input, zero entries represent non-edge\n",
        "        dist_matrix[dist_matrix == 0] = INFINITY\n",
        "\n",
        "    if unweighted:\n",
        "        dist_matrix[~np.isinf(dist_matrix)] = 1\n",
        "\n",
        "    if return_predecessors:\n",
        "        predecessor_matrix = np.empty(dist_matrix.shape,\n",
        "                                      dtype=ITYPE, order='C')\n",
        "    else:\n",
        "        predecessor_matrix = np.empty((0, 0), dtype=ITYPE)\n",
        "\n",
        "    _floyd_warshall(dist_matrix,\n",
        "                    predecessor_matrix,\n",
        "                    int(directed))\n",
        "\n",
        "    if np.any(dist_matrix.diagonal() < 0):\n",
        "        raise NegativeCycleError(\"Negative cycle in nodes %s\"\n",
        "                                 % np.where(dist_matrix.diagonal() < 0)[0])\n",
        "\n",
        "    if return_predecessors:\n",
        "        return dist_matrix, predecessor_matrix\n",
        "    else:\n",
        "        return dist_matrix\n",
        "\n",
        "@cython.boundscheck(False)\n",
        "cdef void _floyd_warshall(\n",
        "               np.ndarray[DTYPE_t, ndim=2, mode='c'] dist_matrix,\n",
        "               np.ndarray[ITYPE_t, ndim=2, mode='c'] predecessor_matrix,\n",
        "               int directed=0):\n",
        "    # dist_matrix : in/out\n",
        "    #    on input, the graph\n",
        "    #    on output, the matrix of shortest paths\n",
        "    # dist_matrix should be a [N,N] matrix, such that dist_matrix[i, j]\n",
        "    # is the distance from point i to point j.  Zero-distances imply that\n",
        "    # the points are not connected.\n",
        "    cdef int N = dist_matrix.shape[0]\n",
        "    assert dist_matrix.shape[1] == N\n",
        "\n",
        "    #cdef unsigned int i, j, k\n",
        "    cdef int i, j, k\n",
        "    cdef DTYPE_t d_ijk\n",
        "\n",
        "    # ----------------------------------------------------------------------\n",
        "    #  Initialize distance matrix\n",
        "    #   - set diagonal to zero\n",
        "    #   - symmetrize matrix if non-directed graph is desired\n",
        "    dist_matrix.flat[::N + 1] = 0\n",
        "    if not directed:\n",
        "        for i in range(N):\n",
        "            for j in range(i + 1, N):\n",
        "                if dist_matrix[j, i] <= dist_matrix[i, j]:\n",
        "                    dist_matrix[i, j] = dist_matrix[j, i]\n",
        "                else:\n",
        "                    dist_matrix[j, i] = dist_matrix[i, j]\n",
        "\n",
        "    #----------------------------------------------------------------------\n",
        "    #  Initialize predecessor matrix\n",
        "    #   - check matrix size\n",
        "    #   - initialize diagonal and all non-edges to NULL\n",
        "    #   - initialize all edges to the row index\n",
        "    cdef int store_predecessors = False\n",
        "\n",
        "    if predecessor_matrix.size > 0:\n",
        "        store_predecessors = True\n",
        "        assert predecessor_matrix.shape[0] == N\n",
        "        assert predecessor_matrix.shape[1] == N\n",
        "        predecessor_matrix.fill(NULL_IDX)\n",
        "        i_edge = np.where(~np.isinf(dist_matrix))\n",
        "        predecessor_matrix[i_edge] = i_edge[0]\n",
        "        predecessor_matrix.flat[::N + 1] = NULL_IDX\n",
        "\n",
        "    # Now perform the Floyd-Warshall algorithm.\n",
        "    # In each loop, this finds the shortest path from point i\n",
        "    #  to point j using intermediate nodes 0 ... k\n",
        "    if store_predecessors:\n",
        "        for k in range(N):\n",
        "            for i in range(N):\n",
        "                if dist_matrix[i, k] == INFINITY:\n",
        "                    continue\n",
        "                for j in range(N):\n",
        "                    d_ijk = dist_matrix[i, k] + dist_matrix[k, j]\n",
        "                    if d_ijk < dist_matrix[i, j]:\n",
        "                        dist_matrix[i, j] = d_ijk\n",
        "                        predecessor_matrix[i, j] = predecessor_matrix[k, j]\n",
        "    else:\n",
        "        for k in range(N):\n",
        "            for i in prange(N,nogil=True):\n",
        "                if dist_matrix[i, k] == INFINITY:\n",
        "                    continue\n",
        "                for j in prange(N):\n",
        "                    dist_matrix[i,j]=min(dist_matrix[i,j],dist_matrix[i, k] + dist_matrix[k, j])"
      ],
      "execution_count": 10,
      "outputs": []
    },
    {
      "cell_type": "code",
      "metadata": {
        "id": "TVE5y11O5lYa",
        "colab_type": "code",
        "colab": {
          "base_uri": "https://localhost:8080/",
          "height": 34
        },
        "outputId": "a68ad320-c525-4227-8078-e01dd0f406f1"
      },
      "source": [
        "%timeit floyd_warshall_scipy_parallel_semir(adjlist)"
      ],
      "execution_count": 125,
      "outputs": [
        {
          "output_type": "stream",
          "text": [
            "1 loop, best of 3: 42 s per loop\n"
          ],
          "name": "stdout"
        }
      ]
    },
    {
      "cell_type": "code",
      "metadata": {
        "id": "HSgBpeODLtVd",
        "colab_type": "code",
        "colab": {}
      },
      "source": [
        "#correctness checks\n",
        "output1=floyd_warshall_scipy(adjlist)\n",
        "output2=floyd_warshall_scipy_parallel(adjlist)\n",
        "output3=floyd_warshall_scipy_parallel_semir(adjlist)"
      ],
      "execution_count": 11,
      "outputs": []
    },
    {
      "cell_type": "code",
      "metadata": {
        "id": "L7dGdPnCL6Nr",
        "colab_type": "code",
        "colab": {
          "base_uri": "https://localhost:8080/",
          "height": 51
        },
        "outputId": "0e45bd3f-3574-4c7a-ea2c-df0f148a20c9"
      },
      "source": [
        "#yay we passed\n",
        "print((output1==output2).all())\n",
        "print((output3==output2).all())"
      ],
      "execution_count": 14,
      "outputs": [
        {
          "output_type": "stream",
          "text": [
            "True\n",
            "True\n"
          ],
          "name": "stdout"
        }
      ]
    }
  ]
}